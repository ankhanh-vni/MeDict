{
  "nbformat": 4,
  "nbformat_minor": 0,
  "metadata": {
    "colab": {
      "provenance": []
    },
    "kernelspec": {
      "name": "python3",
      "display_name": "Python 3"
    },
    "language_info": {
      "name": "python"
    }
  },
  "cells": [
    {
      "cell_type": "code",
      "execution_count": 1,
      "metadata": {
        "id": "1ZG-agBiULn3"
      },
      "outputs": [],
      "source": [
        "import numpy as np\n",
        "import pandas as pd"
      ]
    },
    {
      "cell_type": "code",
      "source": [],
      "metadata": {
        "id": "U5ER7DXnUWum"
      },
      "execution_count": 1,
      "outputs": []
    },
    {
      "cell_type": "markdown",
      "source": [
        "## Dataset:"
      ],
      "metadata": {
        "id": "eZsO4OdvUZ_H"
      }
    },
    {
      "cell_type": "code",
      "source": [
        "colnames = ['eng', 'ni1', 'ni2', 'vn']\n",
        "path = '/content/drive/MyDrive/Fall 2022 - Assignment/Software Construction/Project/full_data/main_df.csv'\n",
        "df = pd.read_csv(path, header=0)\n",
        "df.head()\n",
        "print(df.shape)"
      ],
      "metadata": {
        "colab": {
          "base_uri": "https://localhost:8080/"
        },
        "id": "SjmDJI26UXfX",
        "outputId": "8f2634de-2ccb-4e0e-a7a9-8a6c4f268e2e"
      },
      "execution_count": 101,
      "outputs": [
        {
          "output_type": "stream",
          "name": "stdout",
          "text": [
            "(31481, 5)\n"
          ]
        }
      ]
    },
    {
      "cell_type": "code",
      "source": [
        "df = df.drop('Unnamed: 0', axis=1)"
      ],
      "metadata": {
        "id": "Eh9srrbNRFSZ"
      },
      "execution_count": 102,
      "outputs": []
    },
    {
      "cell_type": "code",
      "source": [
        "df = df.drop(['ni1', 'ni2'], axis=1)"
      ],
      "metadata": {
        "id": "TDzZ8QgQRFUp"
      },
      "execution_count": 103,
      "outputs": []
    },
    {
      "cell_type": "markdown",
      "source": [
        "### Droping NAs"
      ],
      "metadata": {
        "id": "QvhoJ9kTnUTf"
      }
    },
    {
      "cell_type": "code",
      "source": [
        "missing = df[df.isna().any(axis=1)]\n",
        "#missing.to_csv('/content/drive/MyDrive/Fall 2022 - Assignment/Software Construction/Project/full_data/missing.csv')\n",
        "missing.shape "
      ],
      "metadata": {
        "id": "bK78wlYtUXj4",
        "colab": {
          "base_uri": "https://localhost:8080/"
        },
        "outputId": "06fc40c8-9c4c-4a98-89cf-2ddfdf396074"
      },
      "execution_count": 104,
      "outputs": [
        {
          "output_type": "execute_result",
          "data": {
            "text/plain": [
              "(2231, 2)"
            ]
          },
          "metadata": {},
          "execution_count": 104
        }
      ]
    },
    {
      "cell_type": "code",
      "source": [
        "# Dropping NAs\n",
        "df = df.dropna(axis='index', how='any')\n",
        "print(df.shape)"
      ],
      "metadata": {
        "id": "JH72GhgXKXNB",
        "colab": {
          "base_uri": "https://localhost:8080/"
        },
        "outputId": "a45a1905-a752-40e9-f767-146b9b8d7f6b"
      },
      "execution_count": 105,
      "outputs": [
        {
          "output_type": "stream",
          "name": "stdout",
          "text": [
            "(29250, 2)\n"
          ]
        }
      ]
    },
    {
      "cell_type": "markdown",
      "source": [
        "### Split cases with ```/``` into multiple rows\n",
        "Example: ```abulia (n) / abulic (a)\t``` becomes 2 rows ```abulia (n)``` and ```abulic (a)```"
      ],
      "metadata": {
        "id": "S0OnF8uYyGHX"
      }
    },
    {
      "cell_type": "code",
      "source": [
        "df_split = df.loc[df.eng.str.contains('/'), :].copy() # create a new df of only rows with '/'\n",
        "\n",
        "df = df.loc[~df.eng.str.contains('/'), :].copy() # remove them for now\n",
        "\n",
        "print(df_split.shape)\n",
        "print(df.shape)"
      ],
      "metadata": {
        "id": "poBYs17_y1f3",
        "colab": {
          "base_uri": "https://localhost:8080/"
        },
        "outputId": "3b68e7f4-a464-4c8e-bdef-43d0287a6a1f"
      },
      "execution_count": 106,
      "outputs": [
        {
          "output_type": "stream",
          "name": "stdout",
          "text": [
            "(1292, 2)\n",
            "(27958, 2)\n"
          ]
        }
      ]
    },
    {
      "cell_type": "code",
      "source": [
        "# SOURE: https://stackoverflow.com/questions/58523316/split-rows-in-pandas-dataframe\n",
        "\n",
        "# for index, row in df.iterrows():\n",
        "#     split = row['Shape'].split(' / ')\n",
        "#     for shape in split:\n",
        "#         new_df = new_df.append(pd.DataFrame({'Color':[row['Color']], 'Shape':[shape], 'Price':[row['Price']]}))\n",
        "\n",
        "# new_df = new_df.reset_index(drop=True)\n",
        "\n",
        "df_split['eng'] = df_split.eng.str.split(\" / \")\n",
        "df_split = df_split.explode(\"eng\").reset_index(drop=True)\n",
        "df_split.head(2)\n",
        "print(df_split.shape)"
      ],
      "metadata": {
        "colab": {
          "base_uri": "https://localhost:8080/"
        },
        "id": "nAdZqijn0BL9",
        "outputId": "a72de36a-028d-4982-80f7-45eed41eb35b"
      },
      "execution_count": 107,
      "outputs": [
        {
          "output_type": "stream",
          "name": "stdout",
          "text": [
            "(2575, 2)\n"
          ]
        }
      ]
    },
    {
      "cell_type": "code",
      "source": [
        "# Append the splitted '/' cases back to the orginal data\n",
        "\n",
        "df = df.append(df_split, ignore_index=True)\n",
        "df.shape"
      ],
      "metadata": {
        "id": "NCdy0I-P2Jmt",
        "colab": {
          "base_uri": "https://localhost:8080/"
        },
        "outputId": "36f8561b-8cc4-43da-cf10-c134b09daea7"
      },
      "execution_count": 108,
      "outputs": [
        {
          "output_type": "execute_result",
          "data": {
            "text/plain": [
              "(30533, 2)"
            ]
          },
          "metadata": {},
          "execution_count": 108
        }
      ]
    },
    {
      "cell_type": "markdown",
      "source": [
        "### Split cases with ```,``` into multiple rows\n",
        "Example: ```abiogenetic, abiogenous (a)``` becomes 2 rows : ```abiogenetic (a)``` and ```abiogenous (a)```"
      ],
      "metadata": {
        "id": "C-_CNEyg1-DE"
      }
    },
    {
      "cell_type": "code",
      "source": [
        "df_split_comma = df.loc[df.eng.str.contains(', '), :].copy() # extract rows with ', '\n",
        "df = df.loc[~df.eng.str.contains(', '), :].copy() # temporarily remove these rows\n",
        "print(df.shape)\n",
        "print(df_split_comma.shape)"
      ],
      "metadata": {
        "id": "11qUnmMK2I5U",
        "colab": {
          "base_uri": "https://localhost:8080/"
        },
        "outputId": "3714d60b-0317-451f-d34c-966e4a96479f"
      },
      "execution_count": 109,
      "outputs": [
        {
          "output_type": "stream",
          "name": "stdout",
          "text": [
            "(29469, 2)\n",
            "(1064, 2)\n"
          ]
        }
      ]
    },
    {
      "cell_type": "code",
      "source": [
        "df_split_comma['eng'] = df_split_comma.eng.str.split(\", \")\n",
        "df_split_comma = df_split_comma.explode(\"eng\").reset_index(drop=True)\n",
        "df_split_comma.head(2)"
      ],
      "metadata": {
        "colab": {
          "base_uri": "https://localhost:8080/",
          "height": 112
        },
        "id": "WEhXMATI3bMQ",
        "outputId": "4dae1a50-8659-45c9-cda1-5c3643cc5127"
      },
      "execution_count": 110,
      "outputs": [
        {
          "output_type": "execute_result",
          "data": {
            "text/plain": [
              "                           eng                 vn\n",
              "0           arthropneumography  chụp khớp bơm khí\n",
              "1  arthropneumoradiography (n)  chụp khớp bơm khí"
            ],
            "text/html": [
              "\n",
              "  <div id=\"df-f5a526da-f5fc-48cd-b2da-89f2dbb2bcd7\">\n",
              "    <div class=\"colab-df-container\">\n",
              "      <div>\n",
              "<style scoped>\n",
              "    .dataframe tbody tr th:only-of-type {\n",
              "        vertical-align: middle;\n",
              "    }\n",
              "\n",
              "    .dataframe tbody tr th {\n",
              "        vertical-align: top;\n",
              "    }\n",
              "\n",
              "    .dataframe thead th {\n",
              "        text-align: right;\n",
              "    }\n",
              "</style>\n",
              "<table border=\"1\" class=\"dataframe\">\n",
              "  <thead>\n",
              "    <tr style=\"text-align: right;\">\n",
              "      <th></th>\n",
              "      <th>eng</th>\n",
              "      <th>vn</th>\n",
              "    </tr>\n",
              "  </thead>\n",
              "  <tbody>\n",
              "    <tr>\n",
              "      <th>0</th>\n",
              "      <td>arthropneumography</td>\n",
              "      <td>chụp khớp bơm khí</td>\n",
              "    </tr>\n",
              "    <tr>\n",
              "      <th>1</th>\n",
              "      <td>arthropneumoradiography (n)</td>\n",
              "      <td>chụp khớp bơm khí</td>\n",
              "    </tr>\n",
              "  </tbody>\n",
              "</table>\n",
              "</div>\n",
              "      <button class=\"colab-df-convert\" onclick=\"convertToInteractive('df-f5a526da-f5fc-48cd-b2da-89f2dbb2bcd7')\"\n",
              "              title=\"Convert this dataframe to an interactive table.\"\n",
              "              style=\"display:none;\">\n",
              "        \n",
              "  <svg xmlns=\"http://www.w3.org/2000/svg\" height=\"24px\"viewBox=\"0 0 24 24\"\n",
              "       width=\"24px\">\n",
              "    <path d=\"M0 0h24v24H0V0z\" fill=\"none\"/>\n",
              "    <path d=\"M18.56 5.44l.94 2.06.94-2.06 2.06-.94-2.06-.94-.94-2.06-.94 2.06-2.06.94zm-11 1L8.5 8.5l.94-2.06 2.06-.94-2.06-.94L8.5 2.5l-.94 2.06-2.06.94zm10 10l.94 2.06.94-2.06 2.06-.94-2.06-.94-.94-2.06-.94 2.06-2.06.94z\"/><path d=\"M17.41 7.96l-1.37-1.37c-.4-.4-.92-.59-1.43-.59-.52 0-1.04.2-1.43.59L10.3 9.45l-7.72 7.72c-.78.78-.78 2.05 0 2.83L4 21.41c.39.39.9.59 1.41.59.51 0 1.02-.2 1.41-.59l7.78-7.78 2.81-2.81c.8-.78.8-2.07 0-2.86zM5.41 20L4 18.59l7.72-7.72 1.47 1.35L5.41 20z\"/>\n",
              "  </svg>\n",
              "      </button>\n",
              "      \n",
              "  <style>\n",
              "    .colab-df-container {\n",
              "      display:flex;\n",
              "      flex-wrap:wrap;\n",
              "      gap: 12px;\n",
              "    }\n",
              "\n",
              "    .colab-df-convert {\n",
              "      background-color: #E8F0FE;\n",
              "      border: none;\n",
              "      border-radius: 50%;\n",
              "      cursor: pointer;\n",
              "      display: none;\n",
              "      fill: #1967D2;\n",
              "      height: 32px;\n",
              "      padding: 0 0 0 0;\n",
              "      width: 32px;\n",
              "    }\n",
              "\n",
              "    .colab-df-convert:hover {\n",
              "      background-color: #E2EBFA;\n",
              "      box-shadow: 0px 1px 2px rgba(60, 64, 67, 0.3), 0px 1px 3px 1px rgba(60, 64, 67, 0.15);\n",
              "      fill: #174EA6;\n",
              "    }\n",
              "\n",
              "    [theme=dark] .colab-df-convert {\n",
              "      background-color: #3B4455;\n",
              "      fill: #D2E3FC;\n",
              "    }\n",
              "\n",
              "    [theme=dark] .colab-df-convert:hover {\n",
              "      background-color: #434B5C;\n",
              "      box-shadow: 0px 1px 3px 1px rgba(0, 0, 0, 0.15);\n",
              "      filter: drop-shadow(0px 1px 2px rgba(0, 0, 0, 0.3));\n",
              "      fill: #FFFFFF;\n",
              "    }\n",
              "  </style>\n",
              "\n",
              "      <script>\n",
              "        const buttonEl =\n",
              "          document.querySelector('#df-f5a526da-f5fc-48cd-b2da-89f2dbb2bcd7 button.colab-df-convert');\n",
              "        buttonEl.style.display =\n",
              "          google.colab.kernel.accessAllowed ? 'block' : 'none';\n",
              "\n",
              "        async function convertToInteractive(key) {\n",
              "          const element = document.querySelector('#df-f5a526da-f5fc-48cd-b2da-89f2dbb2bcd7');\n",
              "          const dataTable =\n",
              "            await google.colab.kernel.invokeFunction('convertToInteractive',\n",
              "                                                     [key], {});\n",
              "          if (!dataTable) return;\n",
              "\n",
              "          const docLinkHtml = 'Like what you see? Visit the ' +\n",
              "            '<a target=\"_blank\" href=https://colab.research.google.com/notebooks/data_table.ipynb>data table notebook</a>'\n",
              "            + ' to learn more about interactive tables.';\n",
              "          element.innerHTML = '';\n",
              "          dataTable['output_type'] = 'display_data';\n",
              "          await google.colab.output.renderOutput(dataTable, element);\n",
              "          const docLink = document.createElement('div');\n",
              "          docLink.innerHTML = docLinkHtml;\n",
              "          element.appendChild(docLink);\n",
              "        }\n",
              "      </script>\n",
              "    </div>\n",
              "  </div>\n",
              "  "
            ]
          },
          "metadata": {},
          "execution_count": 110
        }
      ]
    },
    {
      "cell_type": "markdown",
      "source": [
        "**Note**: Later on when adding word types (a, n, v...) we will use ```fillna('bfill')``` to account for those without a type\n",
        "Example: ```-aberration``` comes right before ```aberratio (n)``` so will be backfilled with ```(n)```"
      ],
      "metadata": {
        "id": "PIo0X1LG4RSF"
      }
    },
    {
      "cell_type": "code",
      "source": [
        "df = df.append(df_split_comma, ignore_index=True)\n",
        "print(df.shape)"
      ],
      "metadata": {
        "id": "2XOaijas3bOn",
        "colab": {
          "base_uri": "https://localhost:8080/"
        },
        "outputId": "02198bac-b022-455d-dbca-8495cfd395c6"
      },
      "execution_count": 113,
      "outputs": [
        {
          "output_type": "stream",
          "name": "stdout",
          "text": [
            "(31661, 2)\n"
          ]
        }
      ]
    },
    {
      "cell_type": "markdown",
      "source": [
        "### Extract word types (n a adj v...)"
      ],
      "metadata": {
        "id": "pPeVptM3nXVN"
      }
    },
    {
      "cell_type": "code",
      "source": [
        "df['word_type'] = df.eng\n",
        "df.head(3)"
      ],
      "metadata": {
        "colab": {
          "base_uri": "https://localhost:8080/",
          "height": 143
        },
        "id": "_ENU_LROLB0_",
        "outputId": "a3c6f94d-7d19-4a30-d3d4-4b53b83c08dc"
      },
      "execution_count": 114,
      "outputs": [
        {
          "output_type": "execute_result",
          "data": {
            "text/plain": [
              "                   eng             vn            word_type\n",
              "0  arthropathology (n)  bệnh học khớp  arthropathology (n)\n",
              "1     -arthropathy (n)      bệnh khớp     -arthropathy (n)\n",
              "2      arthrophyma (n)      sưng khớp      arthrophyma (n)"
            ],
            "text/html": [
              "\n",
              "  <div id=\"df-8c8bbb64-e9f4-4747-9f34-0264505da37a\">\n",
              "    <div class=\"colab-df-container\">\n",
              "      <div>\n",
              "<style scoped>\n",
              "    .dataframe tbody tr th:only-of-type {\n",
              "        vertical-align: middle;\n",
              "    }\n",
              "\n",
              "    .dataframe tbody tr th {\n",
              "        vertical-align: top;\n",
              "    }\n",
              "\n",
              "    .dataframe thead th {\n",
              "        text-align: right;\n",
              "    }\n",
              "</style>\n",
              "<table border=\"1\" class=\"dataframe\">\n",
              "  <thead>\n",
              "    <tr style=\"text-align: right;\">\n",
              "      <th></th>\n",
              "      <th>eng</th>\n",
              "      <th>vn</th>\n",
              "      <th>word_type</th>\n",
              "    </tr>\n",
              "  </thead>\n",
              "  <tbody>\n",
              "    <tr>\n",
              "      <th>0</th>\n",
              "      <td>arthropathology (n)</td>\n",
              "      <td>bệnh học khớp</td>\n",
              "      <td>arthropathology (n)</td>\n",
              "    </tr>\n",
              "    <tr>\n",
              "      <th>1</th>\n",
              "      <td>-arthropathy (n)</td>\n",
              "      <td>bệnh khớp</td>\n",
              "      <td>-arthropathy (n)</td>\n",
              "    </tr>\n",
              "    <tr>\n",
              "      <th>2</th>\n",
              "      <td>arthrophyma (n)</td>\n",
              "      <td>sưng khớp</td>\n",
              "      <td>arthrophyma (n)</td>\n",
              "    </tr>\n",
              "  </tbody>\n",
              "</table>\n",
              "</div>\n",
              "      <button class=\"colab-df-convert\" onclick=\"convertToInteractive('df-8c8bbb64-e9f4-4747-9f34-0264505da37a')\"\n",
              "              title=\"Convert this dataframe to an interactive table.\"\n",
              "              style=\"display:none;\">\n",
              "        \n",
              "  <svg xmlns=\"http://www.w3.org/2000/svg\" height=\"24px\"viewBox=\"0 0 24 24\"\n",
              "       width=\"24px\">\n",
              "    <path d=\"M0 0h24v24H0V0z\" fill=\"none\"/>\n",
              "    <path d=\"M18.56 5.44l.94 2.06.94-2.06 2.06-.94-2.06-.94-.94-2.06-.94 2.06-2.06.94zm-11 1L8.5 8.5l.94-2.06 2.06-.94-2.06-.94L8.5 2.5l-.94 2.06-2.06.94zm10 10l.94 2.06.94-2.06 2.06-.94-2.06-.94-.94-2.06-.94 2.06-2.06.94z\"/><path d=\"M17.41 7.96l-1.37-1.37c-.4-.4-.92-.59-1.43-.59-.52 0-1.04.2-1.43.59L10.3 9.45l-7.72 7.72c-.78.78-.78 2.05 0 2.83L4 21.41c.39.39.9.59 1.41.59.51 0 1.02-.2 1.41-.59l7.78-7.78 2.81-2.81c.8-.78.8-2.07 0-2.86zM5.41 20L4 18.59l7.72-7.72 1.47 1.35L5.41 20z\"/>\n",
              "  </svg>\n",
              "      </button>\n",
              "      \n",
              "  <style>\n",
              "    .colab-df-container {\n",
              "      display:flex;\n",
              "      flex-wrap:wrap;\n",
              "      gap: 12px;\n",
              "    }\n",
              "\n",
              "    .colab-df-convert {\n",
              "      background-color: #E8F0FE;\n",
              "      border: none;\n",
              "      border-radius: 50%;\n",
              "      cursor: pointer;\n",
              "      display: none;\n",
              "      fill: #1967D2;\n",
              "      height: 32px;\n",
              "      padding: 0 0 0 0;\n",
              "      width: 32px;\n",
              "    }\n",
              "\n",
              "    .colab-df-convert:hover {\n",
              "      background-color: #E2EBFA;\n",
              "      box-shadow: 0px 1px 2px rgba(60, 64, 67, 0.3), 0px 1px 3px 1px rgba(60, 64, 67, 0.15);\n",
              "      fill: #174EA6;\n",
              "    }\n",
              "\n",
              "    [theme=dark] .colab-df-convert {\n",
              "      background-color: #3B4455;\n",
              "      fill: #D2E3FC;\n",
              "    }\n",
              "\n",
              "    [theme=dark] .colab-df-convert:hover {\n",
              "      background-color: #434B5C;\n",
              "      box-shadow: 0px 1px 3px 1px rgba(0, 0, 0, 0.15);\n",
              "      filter: drop-shadow(0px 1px 2px rgba(0, 0, 0, 0.3));\n",
              "      fill: #FFFFFF;\n",
              "    }\n",
              "  </style>\n",
              "\n",
              "      <script>\n",
              "        const buttonEl =\n",
              "          document.querySelector('#df-8c8bbb64-e9f4-4747-9f34-0264505da37a button.colab-df-convert');\n",
              "        buttonEl.style.display =\n",
              "          google.colab.kernel.accessAllowed ? 'block' : 'none';\n",
              "\n",
              "        async function convertToInteractive(key) {\n",
              "          const element = document.querySelector('#df-8c8bbb64-e9f4-4747-9f34-0264505da37a');\n",
              "          const dataTable =\n",
              "            await google.colab.kernel.invokeFunction('convertToInteractive',\n",
              "                                                     [key], {});\n",
              "          if (!dataTable) return;\n",
              "\n",
              "          const docLinkHtml = 'Like what you see? Visit the ' +\n",
              "            '<a target=\"_blank\" href=https://colab.research.google.com/notebooks/data_table.ipynb>data table notebook</a>'\n",
              "            + ' to learn more about interactive tables.';\n",
              "          element.innerHTML = '';\n",
              "          dataTable['output_type'] = 'display_data';\n",
              "          await google.colab.output.renderOutput(dataTable, element);\n",
              "          const docLink = document.createElement('div');\n",
              "          docLink.innerHTML = docLinkHtml;\n",
              "          element.appendChild(docLink);\n",
              "        }\n",
              "      </script>\n",
              "    </div>\n",
              "  </div>\n",
              "  "
            ]
          },
          "metadata": {},
          "execution_count": 114
        }
      ]
    },
    {
      "cell_type": "markdown",
      "source": [
        "#### Remove cases with special ```ñn```"
      ],
      "metadata": {
        "id": "As72s01rndgK"
      }
    },
    {
      "cell_type": "code",
      "source": [
        "def remove_special(entry):\n",
        "  '''\n",
        "  For words that contain 'ñn', remove the part that comes after this symbol\n",
        "  '''\n",
        "  if 'ñn' in entry:\n",
        "    return entry.split('ñn')[0]\n",
        "  else:\n",
        "    return entry\n",
        "# lambda x: x.split('ñn')[0] if 'ñn' in x else x"
      ],
      "metadata": {
        "id": "Dxdz8ZCE49gh"
      },
      "execution_count": 115,
      "outputs": []
    },
    {
      "cell_type": "markdown",
      "source": [
        "#### Extract word types"
      ],
      "metadata": {
        "id": "qjsCcXcp5a45"
      }
    },
    {
      "cell_type": "code",
      "source": [
        "def get_word_type(entry):\n",
        "  '''\n",
        "  Works for easy cases. Extract the word type (n, a, v, ...) inside the brackets '()'\n",
        "  '''\n",
        "  entry = entry.rstrip()\n",
        "  if '(' in entry:\n",
        "    if len(entry.split('(')) == 2:\n",
        "      return entry.split('(')[1][:-1]\n",
        "\n",
        "    else:\n",
        "      return \"More than 1 ()'s\"\n",
        "\n",
        "  else:\n",
        "    return np.nan"
      ],
      "metadata": {
        "id": "vzoklmnPLI1i"
      },
      "execution_count": 116,
      "outputs": []
    },
    {
      "cell_type": "code",
      "source": [
        "df.word_type = df.word_type.apply(remove_special)\n",
        "df.word_type = df.word_type.apply(get_word_type)"
      ],
      "metadata": {
        "id": "r6OcYcHkgrhp"
      },
      "execution_count": 117,
      "outputs": []
    },
    {
      "cell_type": "code",
      "source": [],
      "metadata": {
        "id": "Nnu5Tzm-CzvU"
      },
      "execution_count": 24,
      "outputs": []
    },
    {
      "cell_type": "code",
      "source": [
        "df_word_type_na = df.loc[df.word_type.isna(), :].copy() # extract all words with NA\n",
        "df = df.loc[~df.word_type.isna(), :].copy() # temporarily remove these words\n",
        "\n",
        "print(df.shape)\n",
        "print(df_word_type_na.shape)"
      ],
      "metadata": {
        "id": "SMqrL2_6uSSJ",
        "colab": {
          "base_uri": "https://localhost:8080/"
        },
        "outputId": "493093cd-5e56-4475-fa5c-dbc8ec377e3b"
      },
      "execution_count": 118,
      "outputs": [
        {
          "output_type": "stream",
          "name": "stdout",
          "text": [
            "(30368, 3)\n",
            "(1293, 3)\n"
          ]
        }
      ]
    },
    {
      "cell_type": "markdown",
      "source": [
        "#### Fill NAs\n",
        "Before, there were a few rows resulted from splitting ```', '``` that don't have a word type ```(n)``` afterwards. We fix this by matching them with the word type of the **\"true\"** words - which are the final words in a ```', '``` that contain the word type.\n",
        "\n",
        "Example: ```-aberration, aberratio (n)``` => ```abrratio``` is the **true** word, containing the type ```(n)```."
      ],
      "metadata": {
        "id": "PQGPuAPKC0-K"
      }
    },
    {
      "cell_type": "code",
      "source": [
        "def get_word_type_for_na(entry):\n",
        "  if entry in df_split_comma.eng.values:\n",
        "    curr_idx = np.where(df_split_comma.eng.values == entry)[0][0] # index of the entry\n",
        "\n",
        "    move = 1\n",
        "    while df_split_comma.eng.values[curr_idx + move][-1] != ')': # sometimes more than 1 word before \"true\" word\n",
        "      move += 1 # increase this until we find the \"true\" label.\n",
        "\n",
        "    type_idx = curr_idx + move # \"true\" word with word type\n",
        "    type_value = df_split_comma.eng.values[type_idx]\n",
        "\n",
        "    try:\n",
        "      return  df.loc[df.eng==type_value, 'word_type'].values[0]\n",
        "    except IndexError:\n",
        "      return np.nan\n",
        "  \n",
        "  else:\n",
        "    return np.nan"
      ],
      "metadata": {
        "id": "5kFS3ioH_j9A"
      },
      "execution_count": 123,
      "outputs": []
    },
    {
      "cell_type": "code",
      "source": [
        "df_word_type_na.word_type = df_word_type_na.eng\n",
        "df_word_type_na.word_type = df_word_type_na.word_type.apply(get_word_type_for_na)\n",
        "df_word_type_na.tail(10)"
      ],
      "metadata": {
        "colab": {
          "base_uri": "https://localhost:8080/",
          "height": 363
        },
        "id": "s-SLfglm51r1",
        "outputId": "9749c398-051e-42b7-cb98-a9b87ded2c77"
      },
      "execution_count": 124,
      "outputs": [
        {
          "output_type": "execute_result",
          "data": {
            "text/plain": [
              "                   eng                                                 vn  \\\n",
              "31641     toxicopectic              trung hòa chất độc, cố định chất độc    \n",
              "31643  -trigonocephaly                        đầu hình tam giác (dị hình)   \n",
              "31645   -triphalangism                              ba đốt ngón cái (tật)   \n",
              "31647         -trisomy                                             thể ba   \n",
              "31649      -tritanopia                                    mù màu lam (ch)   \n",
              "31651     trochanteric                                         mấu chuyển   \n",
              "31653         urologic                           niệu học, khoa tiết niệu   \n",
              "31655       urticarial                                             mề đay   \n",
              "31657      -vagotonia   cường thần kinh phế vị, cường thần kinh đối gi...   \n",
              "31659           vulval                                              âm hộ   \n",
              "\n",
              "      word_type  \n",
              "31641         a  \n",
              "31643         n  \n",
              "31645         n  \n",
              "31647         n  \n",
              "31649         n  \n",
              "31651         a  \n",
              "31653         a  \n",
              "31655         a  \n",
              "31657         n  \n",
              "31659         a  "
            ],
            "text/html": [
              "\n",
              "  <div id=\"df-0c8d40fe-d243-47fe-906e-4fe4293ed8fa\">\n",
              "    <div class=\"colab-df-container\">\n",
              "      <div>\n",
              "<style scoped>\n",
              "    .dataframe tbody tr th:only-of-type {\n",
              "        vertical-align: middle;\n",
              "    }\n",
              "\n",
              "    .dataframe tbody tr th {\n",
              "        vertical-align: top;\n",
              "    }\n",
              "\n",
              "    .dataframe thead th {\n",
              "        text-align: right;\n",
              "    }\n",
              "</style>\n",
              "<table border=\"1\" class=\"dataframe\">\n",
              "  <thead>\n",
              "    <tr style=\"text-align: right;\">\n",
              "      <th></th>\n",
              "      <th>eng</th>\n",
              "      <th>vn</th>\n",
              "      <th>word_type</th>\n",
              "    </tr>\n",
              "  </thead>\n",
              "  <tbody>\n",
              "    <tr>\n",
              "      <th>31641</th>\n",
              "      <td>toxicopectic</td>\n",
              "      <td>trung hòa chất độc, cố định chất độc</td>\n",
              "      <td>a</td>\n",
              "    </tr>\n",
              "    <tr>\n",
              "      <th>31643</th>\n",
              "      <td>-trigonocephaly</td>\n",
              "      <td>đầu hình tam giác (dị hình)</td>\n",
              "      <td>n</td>\n",
              "    </tr>\n",
              "    <tr>\n",
              "      <th>31645</th>\n",
              "      <td>-triphalangism</td>\n",
              "      <td>ba đốt ngón cái (tật)</td>\n",
              "      <td>n</td>\n",
              "    </tr>\n",
              "    <tr>\n",
              "      <th>31647</th>\n",
              "      <td>-trisomy</td>\n",
              "      <td>thể ba</td>\n",
              "      <td>n</td>\n",
              "    </tr>\n",
              "    <tr>\n",
              "      <th>31649</th>\n",
              "      <td>-tritanopia</td>\n",
              "      <td>mù màu lam (ch)</td>\n",
              "      <td>n</td>\n",
              "    </tr>\n",
              "    <tr>\n",
              "      <th>31651</th>\n",
              "      <td>trochanteric</td>\n",
              "      <td>mấu chuyển</td>\n",
              "      <td>a</td>\n",
              "    </tr>\n",
              "    <tr>\n",
              "      <th>31653</th>\n",
              "      <td>urologic</td>\n",
              "      <td>niệu học, khoa tiết niệu</td>\n",
              "      <td>a</td>\n",
              "    </tr>\n",
              "    <tr>\n",
              "      <th>31655</th>\n",
              "      <td>urticarial</td>\n",
              "      <td>mề đay</td>\n",
              "      <td>a</td>\n",
              "    </tr>\n",
              "    <tr>\n",
              "      <th>31657</th>\n",
              "      <td>-vagotonia</td>\n",
              "      <td>cường thần kinh phế vị, cường thần kinh đối gi...</td>\n",
              "      <td>n</td>\n",
              "    </tr>\n",
              "    <tr>\n",
              "      <th>31659</th>\n",
              "      <td>vulval</td>\n",
              "      <td>âm hộ</td>\n",
              "      <td>a</td>\n",
              "    </tr>\n",
              "  </tbody>\n",
              "</table>\n",
              "</div>\n",
              "      <button class=\"colab-df-convert\" onclick=\"convertToInteractive('df-0c8d40fe-d243-47fe-906e-4fe4293ed8fa')\"\n",
              "              title=\"Convert this dataframe to an interactive table.\"\n",
              "              style=\"display:none;\">\n",
              "        \n",
              "  <svg xmlns=\"http://www.w3.org/2000/svg\" height=\"24px\"viewBox=\"0 0 24 24\"\n",
              "       width=\"24px\">\n",
              "    <path d=\"M0 0h24v24H0V0z\" fill=\"none\"/>\n",
              "    <path d=\"M18.56 5.44l.94 2.06.94-2.06 2.06-.94-2.06-.94-.94-2.06-.94 2.06-2.06.94zm-11 1L8.5 8.5l.94-2.06 2.06-.94-2.06-.94L8.5 2.5l-.94 2.06-2.06.94zm10 10l.94 2.06.94-2.06 2.06-.94-2.06-.94-.94-2.06-.94 2.06-2.06.94z\"/><path d=\"M17.41 7.96l-1.37-1.37c-.4-.4-.92-.59-1.43-.59-.52 0-1.04.2-1.43.59L10.3 9.45l-7.72 7.72c-.78.78-.78 2.05 0 2.83L4 21.41c.39.39.9.59 1.41.59.51 0 1.02-.2 1.41-.59l7.78-7.78 2.81-2.81c.8-.78.8-2.07 0-2.86zM5.41 20L4 18.59l7.72-7.72 1.47 1.35L5.41 20z\"/>\n",
              "  </svg>\n",
              "      </button>\n",
              "      \n",
              "  <style>\n",
              "    .colab-df-container {\n",
              "      display:flex;\n",
              "      flex-wrap:wrap;\n",
              "      gap: 12px;\n",
              "    }\n",
              "\n",
              "    .colab-df-convert {\n",
              "      background-color: #E8F0FE;\n",
              "      border: none;\n",
              "      border-radius: 50%;\n",
              "      cursor: pointer;\n",
              "      display: none;\n",
              "      fill: #1967D2;\n",
              "      height: 32px;\n",
              "      padding: 0 0 0 0;\n",
              "      width: 32px;\n",
              "    }\n",
              "\n",
              "    .colab-df-convert:hover {\n",
              "      background-color: #E2EBFA;\n",
              "      box-shadow: 0px 1px 2px rgba(60, 64, 67, 0.3), 0px 1px 3px 1px rgba(60, 64, 67, 0.15);\n",
              "      fill: #174EA6;\n",
              "    }\n",
              "\n",
              "    [theme=dark] .colab-df-convert {\n",
              "      background-color: #3B4455;\n",
              "      fill: #D2E3FC;\n",
              "    }\n",
              "\n",
              "    [theme=dark] .colab-df-convert:hover {\n",
              "      background-color: #434B5C;\n",
              "      box-shadow: 0px 1px 3px 1px rgba(0, 0, 0, 0.15);\n",
              "      filter: drop-shadow(0px 1px 2px rgba(0, 0, 0, 0.3));\n",
              "      fill: #FFFFFF;\n",
              "    }\n",
              "  </style>\n",
              "\n",
              "      <script>\n",
              "        const buttonEl =\n",
              "          document.querySelector('#df-0c8d40fe-d243-47fe-906e-4fe4293ed8fa button.colab-df-convert');\n",
              "        buttonEl.style.display =\n",
              "          google.colab.kernel.accessAllowed ? 'block' : 'none';\n",
              "\n",
              "        async function convertToInteractive(key) {\n",
              "          const element = document.querySelector('#df-0c8d40fe-d243-47fe-906e-4fe4293ed8fa');\n",
              "          const dataTable =\n",
              "            await google.colab.kernel.invokeFunction('convertToInteractive',\n",
              "                                                     [key], {});\n",
              "          if (!dataTable) return;\n",
              "\n",
              "          const docLinkHtml = 'Like what you see? Visit the ' +\n",
              "            '<a target=\"_blank\" href=https://colab.research.google.com/notebooks/data_table.ipynb>data table notebook</a>'\n",
              "            + ' to learn more about interactive tables.';\n",
              "          element.innerHTML = '';\n",
              "          dataTable['output_type'] = 'display_data';\n",
              "          await google.colab.output.renderOutput(dataTable, element);\n",
              "          const docLink = document.createElement('div');\n",
              "          docLink.innerHTML = docLinkHtml;\n",
              "          element.appendChild(docLink);\n",
              "        }\n",
              "      </script>\n",
              "    </div>\n",
              "  </div>\n",
              "  "
            ]
          },
          "metadata": {},
          "execution_count": 124
        }
      ]
    },
    {
      "cell_type": "code",
      "source": [
        "df = df.append(df_word_type_na, ignore_index=True)\n",
        "df.shape"
      ],
      "metadata": {
        "colab": {
          "base_uri": "https://localhost:8080/"
        },
        "id": "BZxq7B_LUlU_",
        "outputId": "a2dd6e19-400a-41f5-c333-ae794f790a58"
      },
      "execution_count": 129,
      "outputs": [
        {
          "output_type": "execute_result",
          "data": {
            "text/plain": [
              "(31661, 3)"
            ]
          },
          "metadata": {},
          "execution_count": 129
        }
      ]
    },
    {
      "cell_type": "markdown",
      "source": [
        "### Too edgy edge cases\n",
        "The rest are edge cases with no rules or standards for now."
      ],
      "metadata": {
        "id": "N71-N3YXFr2p"
      }
    },
    {
      "cell_type": "code",
      "source": [
        "df.word_type.value_counts()"
      ],
      "metadata": {
        "colab": {
          "base_uri": "https://localhost:8080/"
        },
        "id": "otrtM8a9GxG0",
        "outputId": "61762474-1c2e-4ab8-940d-6cf6e1a23436"
      },
      "execution_count": 130,
      "outputs": [
        {
          "output_type": "execute_result",
          "data": {
            "text/plain": [
              "n                                                   21707\n",
              "a                                                    7803\n",
              "More than 1 ()'s                                      479\n",
              "a,n                                                   377\n",
              "v                                                     256\n",
              "                                                    ...  \n",
              "n) coi coù ñuùng hypnosie cuûa Faùp khoâng??????        1\n",
              "human immunodeficiency virus.                           1\n",
              "diffraction                                             1\n",
              "retrolental                                             1\n",
              "a)///////////////////                                   1\n",
              "Name: word_type, Length: 143, dtype: int64"
            ]
          },
          "metadata": {},
          "execution_count": 130
        }
      ]
    },
    {
      "cell_type": "code",
      "source": [
        "df[df.word_type=='diffraction']"
      ],
      "metadata": {
        "colab": {
          "base_uri": "https://localhost:8080/",
          "height": 81
        },
        "id": "pZQ1rFdBa0_F",
        "outputId": "14cdf9ac-561c-4c88-b655-82376b252f83"
      },
      "execution_count": 132,
      "outputs": [
        {
          "output_type": "execute_result",
          "data": {
            "text/plain": [
              "                        eng             vn    word_type\n",
              "8787  grating (diffraction)  mạng nhiễu xạ  diffraction"
            ],
            "text/html": [
              "\n",
              "  <div id=\"df-a39d2f5a-6145-4aaa-922d-5304c0238beb\">\n",
              "    <div class=\"colab-df-container\">\n",
              "      <div>\n",
              "<style scoped>\n",
              "    .dataframe tbody tr th:only-of-type {\n",
              "        vertical-align: middle;\n",
              "    }\n",
              "\n",
              "    .dataframe tbody tr th {\n",
              "        vertical-align: top;\n",
              "    }\n",
              "\n",
              "    .dataframe thead th {\n",
              "        text-align: right;\n",
              "    }\n",
              "</style>\n",
              "<table border=\"1\" class=\"dataframe\">\n",
              "  <thead>\n",
              "    <tr style=\"text-align: right;\">\n",
              "      <th></th>\n",
              "      <th>eng</th>\n",
              "      <th>vn</th>\n",
              "      <th>word_type</th>\n",
              "    </tr>\n",
              "  </thead>\n",
              "  <tbody>\n",
              "    <tr>\n",
              "      <th>8787</th>\n",
              "      <td>grating (diffraction)</td>\n",
              "      <td>mạng nhiễu xạ</td>\n",
              "      <td>diffraction</td>\n",
              "    </tr>\n",
              "  </tbody>\n",
              "</table>\n",
              "</div>\n",
              "      <button class=\"colab-df-convert\" onclick=\"convertToInteractive('df-a39d2f5a-6145-4aaa-922d-5304c0238beb')\"\n",
              "              title=\"Convert this dataframe to an interactive table.\"\n",
              "              style=\"display:none;\">\n",
              "        \n",
              "  <svg xmlns=\"http://www.w3.org/2000/svg\" height=\"24px\"viewBox=\"0 0 24 24\"\n",
              "       width=\"24px\">\n",
              "    <path d=\"M0 0h24v24H0V0z\" fill=\"none\"/>\n",
              "    <path d=\"M18.56 5.44l.94 2.06.94-2.06 2.06-.94-2.06-.94-.94-2.06-.94 2.06-2.06.94zm-11 1L8.5 8.5l.94-2.06 2.06-.94-2.06-.94L8.5 2.5l-.94 2.06-2.06.94zm10 10l.94 2.06.94-2.06 2.06-.94-2.06-.94-.94-2.06-.94 2.06-2.06.94z\"/><path d=\"M17.41 7.96l-1.37-1.37c-.4-.4-.92-.59-1.43-.59-.52 0-1.04.2-1.43.59L10.3 9.45l-7.72 7.72c-.78.78-.78 2.05 0 2.83L4 21.41c.39.39.9.59 1.41.59.51 0 1.02-.2 1.41-.59l7.78-7.78 2.81-2.81c.8-.78.8-2.07 0-2.86zM5.41 20L4 18.59l7.72-7.72 1.47 1.35L5.41 20z\"/>\n",
              "  </svg>\n",
              "      </button>\n",
              "      \n",
              "  <style>\n",
              "    .colab-df-container {\n",
              "      display:flex;\n",
              "      flex-wrap:wrap;\n",
              "      gap: 12px;\n",
              "    }\n",
              "\n",
              "    .colab-df-convert {\n",
              "      background-color: #E8F0FE;\n",
              "      border: none;\n",
              "      border-radius: 50%;\n",
              "      cursor: pointer;\n",
              "      display: none;\n",
              "      fill: #1967D2;\n",
              "      height: 32px;\n",
              "      padding: 0 0 0 0;\n",
              "      width: 32px;\n",
              "    }\n",
              "\n",
              "    .colab-df-convert:hover {\n",
              "      background-color: #E2EBFA;\n",
              "      box-shadow: 0px 1px 2px rgba(60, 64, 67, 0.3), 0px 1px 3px 1px rgba(60, 64, 67, 0.15);\n",
              "      fill: #174EA6;\n",
              "    }\n",
              "\n",
              "    [theme=dark] .colab-df-convert {\n",
              "      background-color: #3B4455;\n",
              "      fill: #D2E3FC;\n",
              "    }\n",
              "\n",
              "    [theme=dark] .colab-df-convert:hover {\n",
              "      background-color: #434B5C;\n",
              "      box-shadow: 0px 1px 3px 1px rgba(0, 0, 0, 0.15);\n",
              "      filter: drop-shadow(0px 1px 2px rgba(0, 0, 0, 0.3));\n",
              "      fill: #FFFFFF;\n",
              "    }\n",
              "  </style>\n",
              "\n",
              "      <script>\n",
              "        const buttonEl =\n",
              "          document.querySelector('#df-a39d2f5a-6145-4aaa-922d-5304c0238beb button.colab-df-convert');\n",
              "        buttonEl.style.display =\n",
              "          google.colab.kernel.accessAllowed ? 'block' : 'none';\n",
              "\n",
              "        async function convertToInteractive(key) {\n",
              "          const element = document.querySelector('#df-a39d2f5a-6145-4aaa-922d-5304c0238beb');\n",
              "          const dataTable =\n",
              "            await google.colab.kernel.invokeFunction('convertToInteractive',\n",
              "                                                     [key], {});\n",
              "          if (!dataTable) return;\n",
              "\n",
              "          const docLinkHtml = 'Like what you see? Visit the ' +\n",
              "            '<a target=\"_blank\" href=https://colab.research.google.com/notebooks/data_table.ipynb>data table notebook</a>'\n",
              "            + ' to learn more about interactive tables.';\n",
              "          element.innerHTML = '';\n",
              "          dataTable['output_type'] = 'display_data';\n",
              "          await google.colab.output.renderOutput(dataTable, element);\n",
              "          const docLink = document.createElement('div');\n",
              "          docLink.innerHTML = docLinkHtml;\n",
              "          element.appendChild(docLink);\n",
              "        }\n",
              "      </script>\n",
              "    </div>\n",
              "  </div>\n",
              "  "
            ]
          },
          "metadata": {},
          "execution_count": 132
        }
      ]
    },
    {
      "cell_type": "code",
      "source": [
        "edge = df_word_type_na.loc[df_word_type_na.word_type.isna(), :].copy()\n",
        "df_word_type_na = df_word_type_na.loc[~df_word_type_na.word_type.isna(), :].copy()\n",
        "\n",
        "df = df.append(df_word_type_na, ignore_index=True)"
      ],
      "metadata": {
        "id": "kHCiNlmQEatE"
      },
      "execution_count": 133,
      "outputs": []
    },
    {
      "cell_type": "code",
      "source": [
        "more_edge = df.loc[df.word_type==\"More than 1 ()'s\", :].copy()\n",
        "df = df.loc[df.word_type!=\"More than 1 ()'s\", :].copy()\n",
        "\n",
        "edge = edge.append(more_edge, ignore_index=True)"
      ],
      "metadata": {
        "id": "fBXytZQ9G0Af"
      },
      "execution_count": 134,
      "outputs": []
    },
    {
      "cell_type": "code",
      "source": [
        "edge"
      ],
      "metadata": {
        "colab": {
          "base_uri": "https://localhost:8080/",
          "height": 423
        },
        "id": "HFYGoKssUCmA",
        "outputId": "9bc053f0-6df7-4ac2-e6da-f8d2e9cd2a29"
      },
      "execution_count": 135,
      "outputs": [
        {
          "output_type": "execute_result",
          "data": {
            "text/plain": [
              "                              eng  \\\n",
              "0               -articulo-mortis    \n",
              "1                  -ascorbic acid   \n",
              "2    -atrioventricularis communis   \n",
              "3                  -axis cylinder   \n",
              "4                           anat.   \n",
              "..                            ...   \n",
              "676                         kine-   \n",
              "677                 leptocephalic   \n",
              "678                  monorchidism   \n",
              "679                        thele-   \n",
              "680                      -zooglea   \n",
              "\n",
              "                                                 vn         word_type  \n",
              "0                        lúc hấp hối, lúc lâm chung               NaN  \n",
              "1                                     acid ascorbic               NaN  \n",
              "2                                ống nhĩ thất chung               NaN  \n",
              "3                                sợi trục, trụ trục               NaN  \n",
              "4                                     giải phẫu học               NaN  \n",
              "..                                              ...               ...  \n",
              "676                                  động, vận động  More than 1 ()'s  \n",
              "677                                    đầu hẹp (th)  More than 1 ()'s  \n",
              "678                     một tinh hoàn (quái tượng )  More than 1 ()'s  \n",
              "679                                          núm vú  More than 1 ()'s  \n",
              "680  tập đoàn khuẩn giao, khuẩn lạc trong chất nhầy  More than 1 ()'s  \n",
              "\n",
              "[681 rows x 3 columns]"
            ],
            "text/html": [
              "\n",
              "  <div id=\"df-6f0bb103-c817-4b79-a2ad-8d6a0a0308ea\">\n",
              "    <div class=\"colab-df-container\">\n",
              "      <div>\n",
              "<style scoped>\n",
              "    .dataframe tbody tr th:only-of-type {\n",
              "        vertical-align: middle;\n",
              "    }\n",
              "\n",
              "    .dataframe tbody tr th {\n",
              "        vertical-align: top;\n",
              "    }\n",
              "\n",
              "    .dataframe thead th {\n",
              "        text-align: right;\n",
              "    }\n",
              "</style>\n",
              "<table border=\"1\" class=\"dataframe\">\n",
              "  <thead>\n",
              "    <tr style=\"text-align: right;\">\n",
              "      <th></th>\n",
              "      <th>eng</th>\n",
              "      <th>vn</th>\n",
              "      <th>word_type</th>\n",
              "    </tr>\n",
              "  </thead>\n",
              "  <tbody>\n",
              "    <tr>\n",
              "      <th>0</th>\n",
              "      <td>-articulo-mortis</td>\n",
              "      <td>lúc hấp hối, lúc lâm chung</td>\n",
              "      <td>NaN</td>\n",
              "    </tr>\n",
              "    <tr>\n",
              "      <th>1</th>\n",
              "      <td>-ascorbic acid</td>\n",
              "      <td>acid ascorbic</td>\n",
              "      <td>NaN</td>\n",
              "    </tr>\n",
              "    <tr>\n",
              "      <th>2</th>\n",
              "      <td>-atrioventricularis communis</td>\n",
              "      <td>ống nhĩ thất chung</td>\n",
              "      <td>NaN</td>\n",
              "    </tr>\n",
              "    <tr>\n",
              "      <th>3</th>\n",
              "      <td>-axis cylinder</td>\n",
              "      <td>sợi trục, trụ trục</td>\n",
              "      <td>NaN</td>\n",
              "    </tr>\n",
              "    <tr>\n",
              "      <th>4</th>\n",
              "      <td>anat.</td>\n",
              "      <td>giải phẫu học</td>\n",
              "      <td>NaN</td>\n",
              "    </tr>\n",
              "    <tr>\n",
              "      <th>...</th>\n",
              "      <td>...</td>\n",
              "      <td>...</td>\n",
              "      <td>...</td>\n",
              "    </tr>\n",
              "    <tr>\n",
              "      <th>676</th>\n",
              "      <td>kine-</td>\n",
              "      <td>động, vận động</td>\n",
              "      <td>More than 1 ()'s</td>\n",
              "    </tr>\n",
              "    <tr>\n",
              "      <th>677</th>\n",
              "      <td>leptocephalic</td>\n",
              "      <td>đầu hẹp (th)</td>\n",
              "      <td>More than 1 ()'s</td>\n",
              "    </tr>\n",
              "    <tr>\n",
              "      <th>678</th>\n",
              "      <td>monorchidism</td>\n",
              "      <td>một tinh hoàn (quái tượng )</td>\n",
              "      <td>More than 1 ()'s</td>\n",
              "    </tr>\n",
              "    <tr>\n",
              "      <th>679</th>\n",
              "      <td>thele-</td>\n",
              "      <td>núm vú</td>\n",
              "      <td>More than 1 ()'s</td>\n",
              "    </tr>\n",
              "    <tr>\n",
              "      <th>680</th>\n",
              "      <td>-zooglea</td>\n",
              "      <td>tập đoàn khuẩn giao, khuẩn lạc trong chất nhầy</td>\n",
              "      <td>More than 1 ()'s</td>\n",
              "    </tr>\n",
              "  </tbody>\n",
              "</table>\n",
              "<p>681 rows × 3 columns</p>\n",
              "</div>\n",
              "      <button class=\"colab-df-convert\" onclick=\"convertToInteractive('df-6f0bb103-c817-4b79-a2ad-8d6a0a0308ea')\"\n",
              "              title=\"Convert this dataframe to an interactive table.\"\n",
              "              style=\"display:none;\">\n",
              "        \n",
              "  <svg xmlns=\"http://www.w3.org/2000/svg\" height=\"24px\"viewBox=\"0 0 24 24\"\n",
              "       width=\"24px\">\n",
              "    <path d=\"M0 0h24v24H0V0z\" fill=\"none\"/>\n",
              "    <path d=\"M18.56 5.44l.94 2.06.94-2.06 2.06-.94-2.06-.94-.94-2.06-.94 2.06-2.06.94zm-11 1L8.5 8.5l.94-2.06 2.06-.94-2.06-.94L8.5 2.5l-.94 2.06-2.06.94zm10 10l.94 2.06.94-2.06 2.06-.94-2.06-.94-.94-2.06-.94 2.06-2.06.94z\"/><path d=\"M17.41 7.96l-1.37-1.37c-.4-.4-.92-.59-1.43-.59-.52 0-1.04.2-1.43.59L10.3 9.45l-7.72 7.72c-.78.78-.78 2.05 0 2.83L4 21.41c.39.39.9.59 1.41.59.51 0 1.02-.2 1.41-.59l7.78-7.78 2.81-2.81c.8-.78.8-2.07 0-2.86zM5.41 20L4 18.59l7.72-7.72 1.47 1.35L5.41 20z\"/>\n",
              "  </svg>\n",
              "      </button>\n",
              "      \n",
              "  <style>\n",
              "    .colab-df-container {\n",
              "      display:flex;\n",
              "      flex-wrap:wrap;\n",
              "      gap: 12px;\n",
              "    }\n",
              "\n",
              "    .colab-df-convert {\n",
              "      background-color: #E8F0FE;\n",
              "      border: none;\n",
              "      border-radius: 50%;\n",
              "      cursor: pointer;\n",
              "      display: none;\n",
              "      fill: #1967D2;\n",
              "      height: 32px;\n",
              "      padding: 0 0 0 0;\n",
              "      width: 32px;\n",
              "    }\n",
              "\n",
              "    .colab-df-convert:hover {\n",
              "      background-color: #E2EBFA;\n",
              "      box-shadow: 0px 1px 2px rgba(60, 64, 67, 0.3), 0px 1px 3px 1px rgba(60, 64, 67, 0.15);\n",
              "      fill: #174EA6;\n",
              "    }\n",
              "\n",
              "    [theme=dark] .colab-df-convert {\n",
              "      background-color: #3B4455;\n",
              "      fill: #D2E3FC;\n",
              "    }\n",
              "\n",
              "    [theme=dark] .colab-df-convert:hover {\n",
              "      background-color: #434B5C;\n",
              "      box-shadow: 0px 1px 3px 1px rgba(0, 0, 0, 0.15);\n",
              "      filter: drop-shadow(0px 1px 2px rgba(0, 0, 0, 0.3));\n",
              "      fill: #FFFFFF;\n",
              "    }\n",
              "  </style>\n",
              "\n",
              "      <script>\n",
              "        const buttonEl =\n",
              "          document.querySelector('#df-6f0bb103-c817-4b79-a2ad-8d6a0a0308ea button.colab-df-convert');\n",
              "        buttonEl.style.display =\n",
              "          google.colab.kernel.accessAllowed ? 'block' : 'none';\n",
              "\n",
              "        async function convertToInteractive(key) {\n",
              "          const element = document.querySelector('#df-6f0bb103-c817-4b79-a2ad-8d6a0a0308ea');\n",
              "          const dataTable =\n",
              "            await google.colab.kernel.invokeFunction('convertToInteractive',\n",
              "                                                     [key], {});\n",
              "          if (!dataTable) return;\n",
              "\n",
              "          const docLinkHtml = 'Like what you see? Visit the ' +\n",
              "            '<a target=\"_blank\" href=https://colab.research.google.com/notebooks/data_table.ipynb>data table notebook</a>'\n",
              "            + ' to learn more about interactive tables.';\n",
              "          element.innerHTML = '';\n",
              "          dataTable['output_type'] = 'display_data';\n",
              "          await google.colab.output.renderOutput(dataTable, element);\n",
              "          const docLink = document.createElement('div');\n",
              "          docLink.innerHTML = docLinkHtml;\n",
              "          element.appendChild(docLink);\n",
              "        }\n",
              "      </script>\n",
              "    </div>\n",
              "  </div>\n",
              "  "
            ]
          },
          "metadata": {},
          "execution_count": 135
        }
      ]
    },
    {
      "cell_type": "code",
      "source": [
        "# RUN ONCE\n",
        "edge.to_csv('/content/drive/MyDrive/Fall 2022 - Assignment/Software Construction/Project/full_data/edge_cur.csv')"
      ],
      "metadata": {
        "id": "fAYJxdayFICs"
      },
      "execution_count": 136,
      "outputs": []
    },
    {
      "cell_type": "markdown",
      "source": [
        "#### Remove the word types in ```eng``` column"
      ],
      "metadata": {
        "id": "m-tHGWZHqQh7"
      }
    },
    {
      "cell_type": "code",
      "source": [
        "df.head()"
      ],
      "metadata": {
        "colab": {
          "base_uri": "https://localhost:8080/",
          "height": 206
        },
        "id": "rIPFB6TiqVm-",
        "outputId": "fc676797-4a3e-4255-93ca-dd5f6b030896"
      },
      "execution_count": 137,
      "outputs": [
        {
          "output_type": "execute_result",
          "data": {
            "text/plain": [
              "                   eng                                       vn word_type\n",
              "0  arthropathology (n)                            bệnh học khớp         n\n",
              "1     -arthropathy (n)                                bệnh khớp         n\n",
              "2      arthrophyma (n)                                sưng khớp         n\n",
              "3      arthrophyte (n)                             dị vật khớp          n\n",
              "4        arthropod (n)  chân khớp (động vật), tiết chi động vật         n"
            ],
            "text/html": [
              "\n",
              "  <div id=\"df-c51af3c7-b3d5-4669-8de5-c9c99db40c4c\">\n",
              "    <div class=\"colab-df-container\">\n",
              "      <div>\n",
              "<style scoped>\n",
              "    .dataframe tbody tr th:only-of-type {\n",
              "        vertical-align: middle;\n",
              "    }\n",
              "\n",
              "    .dataframe tbody tr th {\n",
              "        vertical-align: top;\n",
              "    }\n",
              "\n",
              "    .dataframe thead th {\n",
              "        text-align: right;\n",
              "    }\n",
              "</style>\n",
              "<table border=\"1\" class=\"dataframe\">\n",
              "  <thead>\n",
              "    <tr style=\"text-align: right;\">\n",
              "      <th></th>\n",
              "      <th>eng</th>\n",
              "      <th>vn</th>\n",
              "      <th>word_type</th>\n",
              "    </tr>\n",
              "  </thead>\n",
              "  <tbody>\n",
              "    <tr>\n",
              "      <th>0</th>\n",
              "      <td>arthropathology (n)</td>\n",
              "      <td>bệnh học khớp</td>\n",
              "      <td>n</td>\n",
              "    </tr>\n",
              "    <tr>\n",
              "      <th>1</th>\n",
              "      <td>-arthropathy (n)</td>\n",
              "      <td>bệnh khớp</td>\n",
              "      <td>n</td>\n",
              "    </tr>\n",
              "    <tr>\n",
              "      <th>2</th>\n",
              "      <td>arthrophyma (n)</td>\n",
              "      <td>sưng khớp</td>\n",
              "      <td>n</td>\n",
              "    </tr>\n",
              "    <tr>\n",
              "      <th>3</th>\n",
              "      <td>arthrophyte (n)</td>\n",
              "      <td>dị vật khớp</td>\n",
              "      <td>n</td>\n",
              "    </tr>\n",
              "    <tr>\n",
              "      <th>4</th>\n",
              "      <td>arthropod (n)</td>\n",
              "      <td>chân khớp (động vật), tiết chi động vật</td>\n",
              "      <td>n</td>\n",
              "    </tr>\n",
              "  </tbody>\n",
              "</table>\n",
              "</div>\n",
              "      <button class=\"colab-df-convert\" onclick=\"convertToInteractive('df-c51af3c7-b3d5-4669-8de5-c9c99db40c4c')\"\n",
              "              title=\"Convert this dataframe to an interactive table.\"\n",
              "              style=\"display:none;\">\n",
              "        \n",
              "  <svg xmlns=\"http://www.w3.org/2000/svg\" height=\"24px\"viewBox=\"0 0 24 24\"\n",
              "       width=\"24px\">\n",
              "    <path d=\"M0 0h24v24H0V0z\" fill=\"none\"/>\n",
              "    <path d=\"M18.56 5.44l.94 2.06.94-2.06 2.06-.94-2.06-.94-.94-2.06-.94 2.06-2.06.94zm-11 1L8.5 8.5l.94-2.06 2.06-.94-2.06-.94L8.5 2.5l-.94 2.06-2.06.94zm10 10l.94 2.06.94-2.06 2.06-.94-2.06-.94-.94-2.06-.94 2.06-2.06.94z\"/><path d=\"M17.41 7.96l-1.37-1.37c-.4-.4-.92-.59-1.43-.59-.52 0-1.04.2-1.43.59L10.3 9.45l-7.72 7.72c-.78.78-.78 2.05 0 2.83L4 21.41c.39.39.9.59 1.41.59.51 0 1.02-.2 1.41-.59l7.78-7.78 2.81-2.81c.8-.78.8-2.07 0-2.86zM5.41 20L4 18.59l7.72-7.72 1.47 1.35L5.41 20z\"/>\n",
              "  </svg>\n",
              "      </button>\n",
              "      \n",
              "  <style>\n",
              "    .colab-df-container {\n",
              "      display:flex;\n",
              "      flex-wrap:wrap;\n",
              "      gap: 12px;\n",
              "    }\n",
              "\n",
              "    .colab-df-convert {\n",
              "      background-color: #E8F0FE;\n",
              "      border: none;\n",
              "      border-radius: 50%;\n",
              "      cursor: pointer;\n",
              "      display: none;\n",
              "      fill: #1967D2;\n",
              "      height: 32px;\n",
              "      padding: 0 0 0 0;\n",
              "      width: 32px;\n",
              "    }\n",
              "\n",
              "    .colab-df-convert:hover {\n",
              "      background-color: #E2EBFA;\n",
              "      box-shadow: 0px 1px 2px rgba(60, 64, 67, 0.3), 0px 1px 3px 1px rgba(60, 64, 67, 0.15);\n",
              "      fill: #174EA6;\n",
              "    }\n",
              "\n",
              "    [theme=dark] .colab-df-convert {\n",
              "      background-color: #3B4455;\n",
              "      fill: #D2E3FC;\n",
              "    }\n",
              "\n",
              "    [theme=dark] .colab-df-convert:hover {\n",
              "      background-color: #434B5C;\n",
              "      box-shadow: 0px 1px 3px 1px rgba(0, 0, 0, 0.15);\n",
              "      filter: drop-shadow(0px 1px 2px rgba(0, 0, 0, 0.3));\n",
              "      fill: #FFFFFF;\n",
              "    }\n",
              "  </style>\n",
              "\n",
              "      <script>\n",
              "        const buttonEl =\n",
              "          document.querySelector('#df-c51af3c7-b3d5-4669-8de5-c9c99db40c4c button.colab-df-convert');\n",
              "        buttonEl.style.display =\n",
              "          google.colab.kernel.accessAllowed ? 'block' : 'none';\n",
              "\n",
              "        async function convertToInteractive(key) {\n",
              "          const element = document.querySelector('#df-c51af3c7-b3d5-4669-8de5-c9c99db40c4c');\n",
              "          const dataTable =\n",
              "            await google.colab.kernel.invokeFunction('convertToInteractive',\n",
              "                                                     [key], {});\n",
              "          if (!dataTable) return;\n",
              "\n",
              "          const docLinkHtml = 'Like what you see? Visit the ' +\n",
              "            '<a target=\"_blank\" href=https://colab.research.google.com/notebooks/data_table.ipynb>data table notebook</a>'\n",
              "            + ' to learn more about interactive tables.';\n",
              "          element.innerHTML = '';\n",
              "          dataTable['output_type'] = 'display_data';\n",
              "          await google.colab.output.renderOutput(dataTable, element);\n",
              "          const docLink = document.createElement('div');\n",
              "          docLink.innerHTML = docLinkHtml;\n",
              "          element.appendChild(docLink);\n",
              "        }\n",
              "      </script>\n",
              "    </div>\n",
              "  </div>\n",
              "  "
            ]
          },
          "metadata": {},
          "execution_count": 137
        }
      ]
    },
    {
      "cell_type": "code",
      "source": [
        "# Idea is to split on \"(\", and keep only the [0] part\n",
        "def remove_word_type(entry):\n",
        "  if \"(\" in entry:\n",
        "    keep = entry.split('(')[0].rstrip()\n",
        "    return keep\n",
        "  else:\n",
        "    return entry\n",
        "\n",
        "df.eng = df.eng.apply(remove_word_type)"
      ],
      "metadata": {
        "id": "XQU56T7HqVpP"
      },
      "execution_count": 138,
      "outputs": []
    },
    {
      "cell_type": "markdown",
      "source": [
        "### Add new ```word_type_vn``` column\n"
      ],
      "metadata": {
        "id": "jTU8IFO0rQCk"
      }
    },
    {
      "cell_type": "code",
      "source": [
        "df.word_type.value_counts()"
      ],
      "metadata": {
        "colab": {
          "base_uri": "https://localhost:8080/"
        },
        "id": "lBBvPLbzqzOh",
        "outputId": "d5332f3b-ab2b-48f6-dad7-0a867ed69220"
      },
      "execution_count": 139,
      "outputs": [
        {
          "output_type": "execute_result",
          "data": {
            "text/plain": [
              "n                                                   22397\n",
              "a                                                    8164\n",
              "a,n                                                   389\n",
              "v                                                     261\n",
              "pref.                                                 125\n",
              "                                                    ...  \n",
              "n) coi coù ñuùng hypnosie cuûa Faùp khoâng??????        1\n",
              "human immunodeficiency virus.                           1\n",
              "diffraction                                             1\n",
              "retrolental                                             1\n",
              "a)///////////////////                                   1\n",
              "Name: word_type, Length: 142, dtype: int64"
            ]
          },
          "metadata": {},
          "execution_count": 139
        }
      ]
    },
    {
      "cell_type": "code",
      "source": [
        "df['word_type_vn'] = df.word_type\n"
      ],
      "metadata": {
        "id": "S2UULXSBrt52"
      },
      "execution_count": 140,
      "outputs": []
    },
    {
      "cell_type": "code",
      "source": [
        "df.word_type_vn.value_counts()"
      ],
      "metadata": {
        "colab": {
          "base_uri": "https://localhost:8080/"
        },
        "id": "GyKrO95EtwBl",
        "outputId": "1dc8aa75-8dd8-4c55-f063-4433dfe0bb74"
      },
      "execution_count": 141,
      "outputs": [
        {
          "output_type": "execute_result",
          "data": {
            "text/plain": [
              "n                                                   22397\n",
              "a                                                    8164\n",
              "a,n                                                   389\n",
              "v                                                     261\n",
              "pref.                                                 125\n",
              "                                                    ...  \n",
              "n) coi coù ñuùng hypnosie cuûa Faùp khoâng??????        1\n",
              "human immunodeficiency virus.                           1\n",
              "diffraction                                             1\n",
              "retrolental                                             1\n",
              "a)///////////////////                                   1\n",
              "Name: word_type_vn, Length: 142, dtype: int64"
            ]
          },
          "metadata": {},
          "execution_count": 141
        }
      ]
    },
    {
      "cell_type": "code",
      "source": [
        "'pref' in 'pref.)'"
      ],
      "metadata": {
        "colab": {
          "base_uri": "https://localhost:8080/"
        },
        "id": "fdOABqPddWfK",
        "outputId": "fd36beba-5c25-42b5-8fef-72d0459766c5"
      },
      "execution_count": 152,
      "outputs": [
        {
          "output_type": "execute_result",
          "data": {
            "text/plain": [
              "True"
            ]
          },
          "metadata": {},
          "execution_count": 152
        }
      ]
    },
    {
      "cell_type": "code",
      "source": [
        "df.word_type_vn.value_counts().head(45)"
      ],
      "metadata": {
        "colab": {
          "base_uri": "https://localhost:8080/"
        },
        "id": "HAfiXitgdWiC",
        "outputId": "97eb1f68-cce5-422c-ea61-76c395a7a389"
      },
      "execution_count": 148,
      "outputs": [
        {
          "output_type": "execute_result",
          "data": {
            "text/plain": [
              "n                             22397\n",
              "a                              8164\n",
              "a,n                             389\n",
              "v                               261\n",
              "pref.                           125\n",
              "a.n                              80\n",
              "F                                75\n",
              "suff.                            73\n",
              "L                                60\n",
              "pref.)                           34\n",
              "m                                34\n",
              "ad                               31\n",
              " n                               21\n",
              "f                                20\n",
              "disorder                         19\n",
              "v,n                              19\n",
              "o)                               18\n",
              "suff.)                           13\n",
              "n,v                              13\n",
              "pref                             13\n",
              "suff.)                           12\n",
              "                                 12\n",
              "pref.)                           10\n",
              "ad.                              10\n",
              "n)                                7\n",
              "pref)                             6\n",
              "G                                 4\n",
              "o)-                               4\n",
              "n.a                               4\n",
              "a,v                               4\n",
              " a                                4\n",
              "v.n                               4\n",
              "n.pl                              4\n",
              "suff.)                            3\n",
              "pref)                             3\n",
              "talipes                           3\n",
              "n                                 3\n",
              "n)                                3\n",
              "let twice as much be given        3\n",
              "n)?                               3\n",
              "milliequivalent                   3\n",
              "kilodalton                        3\n",
              "n.v                               3\n",
              "kilo electron volt                3\n",
              "left  position                    3\n",
              "Name: word_type_vn, dtype: int64"
            ]
          },
          "metadata": {},
          "execution_count": 148
        }
      ]
    },
    {
      "cell_type": "code",
      "source": [],
      "metadata": {
        "id": "tsSt98dGdWkR"
      },
      "execution_count": null,
      "outputs": []
    },
    {
      "cell_type": "code",
      "source": [],
      "metadata": {
        "id": "aJU16vVAdWm8"
      },
      "execution_count": null,
      "outputs": []
    },
    {
      "cell_type": "code",
      "source": [],
      "metadata": {
        "id": "ITbs_oYVut8J"
      },
      "execution_count": 141,
      "outputs": []
    },
    {
      "cell_type": "code",
      "source": [
        "def get_word_type_vn(entry):\n",
        "  entry = str(entry)\n",
        "  if entry == 'n':\n",
        "    return 'danh từ'\n",
        "  if entry == 'a':\n",
        "    return 'tính từ'\n",
        "  if entry == 'v':\n",
        "    return 'động từ'\n",
        "  if 'pref' in entry: # prefix\n",
        "    return 'tiền tố'\n",
        "  if 'suff' in entry:\n",
        "    return 'hậu tố'\n",
        "  else:\n",
        "    if 'a' in entry and len(entry) <= 3:\n",
        "      return 'tính từ'\n",
        "    if 'n' in entry and len(entry) <= 3:\n",
        "      return 'danh từ'\n",
        "    if 'v' in entry and len(entry) <= 3:\n",
        "      return 'động từ'\n",
        "  return entry"
      ],
      "metadata": {
        "id": "C28yYlaqtwD_"
      },
      "execution_count": 156,
      "outputs": []
    },
    {
      "cell_type": "code",
      "source": [
        "df.head()"
      ],
      "metadata": {
        "colab": {
          "base_uri": "https://localhost:8080/",
          "height": 206
        },
        "id": "ili4sJCpdUN-",
        "outputId": "61f7b404-ec35-40d3-bd52-ab12b931814f"
      },
      "execution_count": 157,
      "outputs": [
        {
          "output_type": "execute_result",
          "data": {
            "text/plain": [
              "               eng                                       vn word_type  \\\n",
              "0  arthropathology                            bệnh học khớp         n   \n",
              "1     -arthropathy                                bệnh khớp         n   \n",
              "2      arthrophyma                                sưng khớp         n   \n",
              "3      arthrophyte                             dị vật khớp          n   \n",
              "4        arthropod  chân khớp (động vật), tiết chi động vật         n   \n",
              "\n",
              "  word_type_vn  \n",
              "0            n  \n",
              "1            n  \n",
              "2            n  \n",
              "3            n  \n",
              "4            n  "
            ],
            "text/html": [
              "\n",
              "  <div id=\"df-e0a4e515-6812-468f-b385-5d550484175b\">\n",
              "    <div class=\"colab-df-container\">\n",
              "      <div>\n",
              "<style scoped>\n",
              "    .dataframe tbody tr th:only-of-type {\n",
              "        vertical-align: middle;\n",
              "    }\n",
              "\n",
              "    .dataframe tbody tr th {\n",
              "        vertical-align: top;\n",
              "    }\n",
              "\n",
              "    .dataframe thead th {\n",
              "        text-align: right;\n",
              "    }\n",
              "</style>\n",
              "<table border=\"1\" class=\"dataframe\">\n",
              "  <thead>\n",
              "    <tr style=\"text-align: right;\">\n",
              "      <th></th>\n",
              "      <th>eng</th>\n",
              "      <th>vn</th>\n",
              "      <th>word_type</th>\n",
              "      <th>word_type_vn</th>\n",
              "    </tr>\n",
              "  </thead>\n",
              "  <tbody>\n",
              "    <tr>\n",
              "      <th>0</th>\n",
              "      <td>arthropathology</td>\n",
              "      <td>bệnh học khớp</td>\n",
              "      <td>n</td>\n",
              "      <td>n</td>\n",
              "    </tr>\n",
              "    <tr>\n",
              "      <th>1</th>\n",
              "      <td>-arthropathy</td>\n",
              "      <td>bệnh khớp</td>\n",
              "      <td>n</td>\n",
              "      <td>n</td>\n",
              "    </tr>\n",
              "    <tr>\n",
              "      <th>2</th>\n",
              "      <td>arthrophyma</td>\n",
              "      <td>sưng khớp</td>\n",
              "      <td>n</td>\n",
              "      <td>n</td>\n",
              "    </tr>\n",
              "    <tr>\n",
              "      <th>3</th>\n",
              "      <td>arthrophyte</td>\n",
              "      <td>dị vật khớp</td>\n",
              "      <td>n</td>\n",
              "      <td>n</td>\n",
              "    </tr>\n",
              "    <tr>\n",
              "      <th>4</th>\n",
              "      <td>arthropod</td>\n",
              "      <td>chân khớp (động vật), tiết chi động vật</td>\n",
              "      <td>n</td>\n",
              "      <td>n</td>\n",
              "    </tr>\n",
              "  </tbody>\n",
              "</table>\n",
              "</div>\n",
              "      <button class=\"colab-df-convert\" onclick=\"convertToInteractive('df-e0a4e515-6812-468f-b385-5d550484175b')\"\n",
              "              title=\"Convert this dataframe to an interactive table.\"\n",
              "              style=\"display:none;\">\n",
              "        \n",
              "  <svg xmlns=\"http://www.w3.org/2000/svg\" height=\"24px\"viewBox=\"0 0 24 24\"\n",
              "       width=\"24px\">\n",
              "    <path d=\"M0 0h24v24H0V0z\" fill=\"none\"/>\n",
              "    <path d=\"M18.56 5.44l.94 2.06.94-2.06 2.06-.94-2.06-.94-.94-2.06-.94 2.06-2.06.94zm-11 1L8.5 8.5l.94-2.06 2.06-.94-2.06-.94L8.5 2.5l-.94 2.06-2.06.94zm10 10l.94 2.06.94-2.06 2.06-.94-2.06-.94-.94-2.06-.94 2.06-2.06.94z\"/><path d=\"M17.41 7.96l-1.37-1.37c-.4-.4-.92-.59-1.43-.59-.52 0-1.04.2-1.43.59L10.3 9.45l-7.72 7.72c-.78.78-.78 2.05 0 2.83L4 21.41c.39.39.9.59 1.41.59.51 0 1.02-.2 1.41-.59l7.78-7.78 2.81-2.81c.8-.78.8-2.07 0-2.86zM5.41 20L4 18.59l7.72-7.72 1.47 1.35L5.41 20z\"/>\n",
              "  </svg>\n",
              "      </button>\n",
              "      \n",
              "  <style>\n",
              "    .colab-df-container {\n",
              "      display:flex;\n",
              "      flex-wrap:wrap;\n",
              "      gap: 12px;\n",
              "    }\n",
              "\n",
              "    .colab-df-convert {\n",
              "      background-color: #E8F0FE;\n",
              "      border: none;\n",
              "      border-radius: 50%;\n",
              "      cursor: pointer;\n",
              "      display: none;\n",
              "      fill: #1967D2;\n",
              "      height: 32px;\n",
              "      padding: 0 0 0 0;\n",
              "      width: 32px;\n",
              "    }\n",
              "\n",
              "    .colab-df-convert:hover {\n",
              "      background-color: #E2EBFA;\n",
              "      box-shadow: 0px 1px 2px rgba(60, 64, 67, 0.3), 0px 1px 3px 1px rgba(60, 64, 67, 0.15);\n",
              "      fill: #174EA6;\n",
              "    }\n",
              "\n",
              "    [theme=dark] .colab-df-convert {\n",
              "      background-color: #3B4455;\n",
              "      fill: #D2E3FC;\n",
              "    }\n",
              "\n",
              "    [theme=dark] .colab-df-convert:hover {\n",
              "      background-color: #434B5C;\n",
              "      box-shadow: 0px 1px 3px 1px rgba(0, 0, 0, 0.15);\n",
              "      filter: drop-shadow(0px 1px 2px rgba(0, 0, 0, 0.3));\n",
              "      fill: #FFFFFF;\n",
              "    }\n",
              "  </style>\n",
              "\n",
              "      <script>\n",
              "        const buttonEl =\n",
              "          document.querySelector('#df-e0a4e515-6812-468f-b385-5d550484175b button.colab-df-convert');\n",
              "        buttonEl.style.display =\n",
              "          google.colab.kernel.accessAllowed ? 'block' : 'none';\n",
              "\n",
              "        async function convertToInteractive(key) {\n",
              "          const element = document.querySelector('#df-e0a4e515-6812-468f-b385-5d550484175b');\n",
              "          const dataTable =\n",
              "            await google.colab.kernel.invokeFunction('convertToInteractive',\n",
              "                                                     [key], {});\n",
              "          if (!dataTable) return;\n",
              "\n",
              "          const docLinkHtml = 'Like what you see? Visit the ' +\n",
              "            '<a target=\"_blank\" href=https://colab.research.google.com/notebooks/data_table.ipynb>data table notebook</a>'\n",
              "            + ' to learn more about interactive tables.';\n",
              "          element.innerHTML = '';\n",
              "          dataTable['output_type'] = 'display_data';\n",
              "          await google.colab.output.renderOutput(dataTable, element);\n",
              "          const docLink = document.createElement('div');\n",
              "          docLink.innerHTML = docLinkHtml;\n",
              "          element.appendChild(docLink);\n",
              "        }\n",
              "      </script>\n",
              "    </div>\n",
              "  </div>\n",
              "  "
            ]
          },
          "metadata": {},
          "execution_count": 157
        }
      ]
    },
    {
      "cell_type": "code",
      "source": [
        "df.word_type_vn = df.word_type_vn.apply(get_word_type_vn)"
      ],
      "metadata": {
        "id": "IiNv6RC-twGY"
      },
      "execution_count": 158,
      "outputs": []
    },
    {
      "cell_type": "code",
      "source": [
        "df.head(10)"
      ],
      "metadata": {
        "colab": {
          "base_uri": "https://localhost:8080/",
          "height": 363
        },
        "id": "FAiSF-wQpThe",
        "outputId": "4173fb61-1a94-433d-8657-bb02ad8a474b"
      },
      "execution_count": 159,
      "outputs": [
        {
          "output_type": "execute_result",
          "data": {
            "text/plain": [
              "                  eng                                       vn word_type  \\\n",
              "0     arthropathology                            bệnh học khớp         n   \n",
              "1        -arthropathy                                bệnh khớp         n   \n",
              "2         arthrophyma                                sưng khớp         n   \n",
              "3         arthrophyte                             dị vật khớp          n   \n",
              "4           arthropod  chân khớp (động vật), tiết chi động vật         n   \n",
              "5         -Arthropoda                        chân khớp (ngành)         n   \n",
              "6       -arthropyosis                        sinh mủ khớp (sự)         n   \n",
              "7         arthrorisis                      hạn chế khớp (thth)         n   \n",
              "8    arthroscintigram                        nhấp nháy đồ khớp         n   \n",
              "9  arthroscintigraphy              chụp nhấp nháy khớp (thuật)         n   \n",
              "\n",
              "  word_type_vn  \n",
              "0      danh từ  \n",
              "1      danh từ  \n",
              "2      danh từ  \n",
              "3      danh từ  \n",
              "4      danh từ  \n",
              "5      danh từ  \n",
              "6      danh từ  \n",
              "7      danh từ  \n",
              "8      danh từ  \n",
              "9      danh từ  "
            ],
            "text/html": [
              "\n",
              "  <div id=\"df-5b37203a-455e-46db-8202-39437e4fd6ad\">\n",
              "    <div class=\"colab-df-container\">\n",
              "      <div>\n",
              "<style scoped>\n",
              "    .dataframe tbody tr th:only-of-type {\n",
              "        vertical-align: middle;\n",
              "    }\n",
              "\n",
              "    .dataframe tbody tr th {\n",
              "        vertical-align: top;\n",
              "    }\n",
              "\n",
              "    .dataframe thead th {\n",
              "        text-align: right;\n",
              "    }\n",
              "</style>\n",
              "<table border=\"1\" class=\"dataframe\">\n",
              "  <thead>\n",
              "    <tr style=\"text-align: right;\">\n",
              "      <th></th>\n",
              "      <th>eng</th>\n",
              "      <th>vn</th>\n",
              "      <th>word_type</th>\n",
              "      <th>word_type_vn</th>\n",
              "    </tr>\n",
              "  </thead>\n",
              "  <tbody>\n",
              "    <tr>\n",
              "      <th>0</th>\n",
              "      <td>arthropathology</td>\n",
              "      <td>bệnh học khớp</td>\n",
              "      <td>n</td>\n",
              "      <td>danh từ</td>\n",
              "    </tr>\n",
              "    <tr>\n",
              "      <th>1</th>\n",
              "      <td>-arthropathy</td>\n",
              "      <td>bệnh khớp</td>\n",
              "      <td>n</td>\n",
              "      <td>danh từ</td>\n",
              "    </tr>\n",
              "    <tr>\n",
              "      <th>2</th>\n",
              "      <td>arthrophyma</td>\n",
              "      <td>sưng khớp</td>\n",
              "      <td>n</td>\n",
              "      <td>danh từ</td>\n",
              "    </tr>\n",
              "    <tr>\n",
              "      <th>3</th>\n",
              "      <td>arthrophyte</td>\n",
              "      <td>dị vật khớp</td>\n",
              "      <td>n</td>\n",
              "      <td>danh từ</td>\n",
              "    </tr>\n",
              "    <tr>\n",
              "      <th>4</th>\n",
              "      <td>arthropod</td>\n",
              "      <td>chân khớp (động vật), tiết chi động vật</td>\n",
              "      <td>n</td>\n",
              "      <td>danh từ</td>\n",
              "    </tr>\n",
              "    <tr>\n",
              "      <th>5</th>\n",
              "      <td>-Arthropoda</td>\n",
              "      <td>chân khớp (ngành)</td>\n",
              "      <td>n</td>\n",
              "      <td>danh từ</td>\n",
              "    </tr>\n",
              "    <tr>\n",
              "      <th>6</th>\n",
              "      <td>-arthropyosis</td>\n",
              "      <td>sinh mủ khớp (sự)</td>\n",
              "      <td>n</td>\n",
              "      <td>danh từ</td>\n",
              "    </tr>\n",
              "    <tr>\n",
              "      <th>7</th>\n",
              "      <td>arthrorisis</td>\n",
              "      <td>hạn chế khớp (thth)</td>\n",
              "      <td>n</td>\n",
              "      <td>danh từ</td>\n",
              "    </tr>\n",
              "    <tr>\n",
              "      <th>8</th>\n",
              "      <td>arthroscintigram</td>\n",
              "      <td>nhấp nháy đồ khớp</td>\n",
              "      <td>n</td>\n",
              "      <td>danh từ</td>\n",
              "    </tr>\n",
              "    <tr>\n",
              "      <th>9</th>\n",
              "      <td>arthroscintigraphy</td>\n",
              "      <td>chụp nhấp nháy khớp (thuật)</td>\n",
              "      <td>n</td>\n",
              "      <td>danh từ</td>\n",
              "    </tr>\n",
              "  </tbody>\n",
              "</table>\n",
              "</div>\n",
              "      <button class=\"colab-df-convert\" onclick=\"convertToInteractive('df-5b37203a-455e-46db-8202-39437e4fd6ad')\"\n",
              "              title=\"Convert this dataframe to an interactive table.\"\n",
              "              style=\"display:none;\">\n",
              "        \n",
              "  <svg xmlns=\"http://www.w3.org/2000/svg\" height=\"24px\"viewBox=\"0 0 24 24\"\n",
              "       width=\"24px\">\n",
              "    <path d=\"M0 0h24v24H0V0z\" fill=\"none\"/>\n",
              "    <path d=\"M18.56 5.44l.94 2.06.94-2.06 2.06-.94-2.06-.94-.94-2.06-.94 2.06-2.06.94zm-11 1L8.5 8.5l.94-2.06 2.06-.94-2.06-.94L8.5 2.5l-.94 2.06-2.06.94zm10 10l.94 2.06.94-2.06 2.06-.94-2.06-.94-.94-2.06-.94 2.06-2.06.94z\"/><path d=\"M17.41 7.96l-1.37-1.37c-.4-.4-.92-.59-1.43-.59-.52 0-1.04.2-1.43.59L10.3 9.45l-7.72 7.72c-.78.78-.78 2.05 0 2.83L4 21.41c.39.39.9.59 1.41.59.51 0 1.02-.2 1.41-.59l7.78-7.78 2.81-2.81c.8-.78.8-2.07 0-2.86zM5.41 20L4 18.59l7.72-7.72 1.47 1.35L5.41 20z\"/>\n",
              "  </svg>\n",
              "      </button>\n",
              "      \n",
              "  <style>\n",
              "    .colab-df-container {\n",
              "      display:flex;\n",
              "      flex-wrap:wrap;\n",
              "      gap: 12px;\n",
              "    }\n",
              "\n",
              "    .colab-df-convert {\n",
              "      background-color: #E8F0FE;\n",
              "      border: none;\n",
              "      border-radius: 50%;\n",
              "      cursor: pointer;\n",
              "      display: none;\n",
              "      fill: #1967D2;\n",
              "      height: 32px;\n",
              "      padding: 0 0 0 0;\n",
              "      width: 32px;\n",
              "    }\n",
              "\n",
              "    .colab-df-convert:hover {\n",
              "      background-color: #E2EBFA;\n",
              "      box-shadow: 0px 1px 2px rgba(60, 64, 67, 0.3), 0px 1px 3px 1px rgba(60, 64, 67, 0.15);\n",
              "      fill: #174EA6;\n",
              "    }\n",
              "\n",
              "    [theme=dark] .colab-df-convert {\n",
              "      background-color: #3B4455;\n",
              "      fill: #D2E3FC;\n",
              "    }\n",
              "\n",
              "    [theme=dark] .colab-df-convert:hover {\n",
              "      background-color: #434B5C;\n",
              "      box-shadow: 0px 1px 3px 1px rgba(0, 0, 0, 0.15);\n",
              "      filter: drop-shadow(0px 1px 2px rgba(0, 0, 0, 0.3));\n",
              "      fill: #FFFFFF;\n",
              "    }\n",
              "  </style>\n",
              "\n",
              "      <script>\n",
              "        const buttonEl =\n",
              "          document.querySelector('#df-5b37203a-455e-46db-8202-39437e4fd6ad button.colab-df-convert');\n",
              "        buttonEl.style.display =\n",
              "          google.colab.kernel.accessAllowed ? 'block' : 'none';\n",
              "\n",
              "        async function convertToInteractive(key) {\n",
              "          const element = document.querySelector('#df-5b37203a-455e-46db-8202-39437e4fd6ad');\n",
              "          const dataTable =\n",
              "            await google.colab.kernel.invokeFunction('convertToInteractive',\n",
              "                                                     [key], {});\n",
              "          if (!dataTable) return;\n",
              "\n",
              "          const docLinkHtml = 'Like what you see? Visit the ' +\n",
              "            '<a target=\"_blank\" href=https://colab.research.google.com/notebooks/data_table.ipynb>data table notebook</a>'\n",
              "            + ' to learn more about interactive tables.';\n",
              "          element.innerHTML = '';\n",
              "          dataTable['output_type'] = 'display_data';\n",
              "          await google.colab.output.renderOutput(dataTable, element);\n",
              "          const docLink = document.createElement('div');\n",
              "          docLink.innerHTML = docLinkHtml;\n",
              "          element.appendChild(docLink);\n",
              "        }\n",
              "      </script>\n",
              "    </div>\n",
              "  </div>\n",
              "  "
            ]
          },
          "metadata": {},
          "execution_count": 159
        }
      ]
    },
    {
      "cell_type": "markdown",
      "source": [
        "### Remove ```'-'``` before words"
      ],
      "metadata": {
        "id": "FCv3SAsZoyR7"
      }
    },
    {
      "cell_type": "code",
      "source": [
        "df.eng = df.eng.apply(lambda x: x.lstrip('-'))"
      ],
      "metadata": {
        "id": "SfBuuOY5rt8n"
      },
      "execution_count": 160,
      "outputs": []
    },
    {
      "cell_type": "code",
      "source": [],
      "metadata": {
        "id": "_6GkX55AruCN"
      },
      "execution_count": null,
      "outputs": []
    },
    {
      "cell_type": "markdown",
      "source": [
        "### Final version"
      ],
      "metadata": {
        "id": "y70VFi2TGbQC"
      }
    },
    {
      "cell_type": "code",
      "source": [
        "df.head(4)"
      ],
      "metadata": {
        "colab": {
          "base_uri": "https://localhost:8080/",
          "height": 175
        },
        "id": "8ipa4baXGcpT",
        "outputId": "70ebc85b-2633-4f77-e84a-84aa4f713de9"
      },
      "execution_count": 161,
      "outputs": [
        {
          "output_type": "execute_result",
          "data": {
            "text/plain": [
              "               eng             vn word_type word_type_vn\n",
              "0  arthropathology  bệnh học khớp         n      danh từ\n",
              "1      arthropathy      bệnh khớp         n      danh từ\n",
              "2      arthrophyma      sưng khớp         n      danh từ\n",
              "3      arthrophyte   dị vật khớp          n      danh từ"
            ],
            "text/html": [
              "\n",
              "  <div id=\"df-f19cd219-c314-45db-ba97-7e00e19ba594\">\n",
              "    <div class=\"colab-df-container\">\n",
              "      <div>\n",
              "<style scoped>\n",
              "    .dataframe tbody tr th:only-of-type {\n",
              "        vertical-align: middle;\n",
              "    }\n",
              "\n",
              "    .dataframe tbody tr th {\n",
              "        vertical-align: top;\n",
              "    }\n",
              "\n",
              "    .dataframe thead th {\n",
              "        text-align: right;\n",
              "    }\n",
              "</style>\n",
              "<table border=\"1\" class=\"dataframe\">\n",
              "  <thead>\n",
              "    <tr style=\"text-align: right;\">\n",
              "      <th></th>\n",
              "      <th>eng</th>\n",
              "      <th>vn</th>\n",
              "      <th>word_type</th>\n",
              "      <th>word_type_vn</th>\n",
              "    </tr>\n",
              "  </thead>\n",
              "  <tbody>\n",
              "    <tr>\n",
              "      <th>0</th>\n",
              "      <td>arthropathology</td>\n",
              "      <td>bệnh học khớp</td>\n",
              "      <td>n</td>\n",
              "      <td>danh từ</td>\n",
              "    </tr>\n",
              "    <tr>\n",
              "      <th>1</th>\n",
              "      <td>arthropathy</td>\n",
              "      <td>bệnh khớp</td>\n",
              "      <td>n</td>\n",
              "      <td>danh từ</td>\n",
              "    </tr>\n",
              "    <tr>\n",
              "      <th>2</th>\n",
              "      <td>arthrophyma</td>\n",
              "      <td>sưng khớp</td>\n",
              "      <td>n</td>\n",
              "      <td>danh từ</td>\n",
              "    </tr>\n",
              "    <tr>\n",
              "      <th>3</th>\n",
              "      <td>arthrophyte</td>\n",
              "      <td>dị vật khớp</td>\n",
              "      <td>n</td>\n",
              "      <td>danh từ</td>\n",
              "    </tr>\n",
              "  </tbody>\n",
              "</table>\n",
              "</div>\n",
              "      <button class=\"colab-df-convert\" onclick=\"convertToInteractive('df-f19cd219-c314-45db-ba97-7e00e19ba594')\"\n",
              "              title=\"Convert this dataframe to an interactive table.\"\n",
              "              style=\"display:none;\">\n",
              "        \n",
              "  <svg xmlns=\"http://www.w3.org/2000/svg\" height=\"24px\"viewBox=\"0 0 24 24\"\n",
              "       width=\"24px\">\n",
              "    <path d=\"M0 0h24v24H0V0z\" fill=\"none\"/>\n",
              "    <path d=\"M18.56 5.44l.94 2.06.94-2.06 2.06-.94-2.06-.94-.94-2.06-.94 2.06-2.06.94zm-11 1L8.5 8.5l.94-2.06 2.06-.94-2.06-.94L8.5 2.5l-.94 2.06-2.06.94zm10 10l.94 2.06.94-2.06 2.06-.94-2.06-.94-.94-2.06-.94 2.06-2.06.94z\"/><path d=\"M17.41 7.96l-1.37-1.37c-.4-.4-.92-.59-1.43-.59-.52 0-1.04.2-1.43.59L10.3 9.45l-7.72 7.72c-.78.78-.78 2.05 0 2.83L4 21.41c.39.39.9.59 1.41.59.51 0 1.02-.2 1.41-.59l7.78-7.78 2.81-2.81c.8-.78.8-2.07 0-2.86zM5.41 20L4 18.59l7.72-7.72 1.47 1.35L5.41 20z\"/>\n",
              "  </svg>\n",
              "      </button>\n",
              "      \n",
              "  <style>\n",
              "    .colab-df-container {\n",
              "      display:flex;\n",
              "      flex-wrap:wrap;\n",
              "      gap: 12px;\n",
              "    }\n",
              "\n",
              "    .colab-df-convert {\n",
              "      background-color: #E8F0FE;\n",
              "      border: none;\n",
              "      border-radius: 50%;\n",
              "      cursor: pointer;\n",
              "      display: none;\n",
              "      fill: #1967D2;\n",
              "      height: 32px;\n",
              "      padding: 0 0 0 0;\n",
              "      width: 32px;\n",
              "    }\n",
              "\n",
              "    .colab-df-convert:hover {\n",
              "      background-color: #E2EBFA;\n",
              "      box-shadow: 0px 1px 2px rgba(60, 64, 67, 0.3), 0px 1px 3px 1px rgba(60, 64, 67, 0.15);\n",
              "      fill: #174EA6;\n",
              "    }\n",
              "\n",
              "    [theme=dark] .colab-df-convert {\n",
              "      background-color: #3B4455;\n",
              "      fill: #D2E3FC;\n",
              "    }\n",
              "\n",
              "    [theme=dark] .colab-df-convert:hover {\n",
              "      background-color: #434B5C;\n",
              "      box-shadow: 0px 1px 3px 1px rgba(0, 0, 0, 0.15);\n",
              "      filter: drop-shadow(0px 1px 2px rgba(0, 0, 0, 0.3));\n",
              "      fill: #FFFFFF;\n",
              "    }\n",
              "  </style>\n",
              "\n",
              "      <script>\n",
              "        const buttonEl =\n",
              "          document.querySelector('#df-f19cd219-c314-45db-ba97-7e00e19ba594 button.colab-df-convert');\n",
              "        buttonEl.style.display =\n",
              "          google.colab.kernel.accessAllowed ? 'block' : 'none';\n",
              "\n",
              "        async function convertToInteractive(key) {\n",
              "          const element = document.querySelector('#df-f19cd219-c314-45db-ba97-7e00e19ba594');\n",
              "          const dataTable =\n",
              "            await google.colab.kernel.invokeFunction('convertToInteractive',\n",
              "                                                     [key], {});\n",
              "          if (!dataTable) return;\n",
              "\n",
              "          const docLinkHtml = 'Like what you see? Visit the ' +\n",
              "            '<a target=\"_blank\" href=https://colab.research.google.com/notebooks/data_table.ipynb>data table notebook</a>'\n",
              "            + ' to learn more about interactive tables.';\n",
              "          element.innerHTML = '';\n",
              "          dataTable['output_type'] = 'display_data';\n",
              "          await google.colab.output.renderOutput(dataTable, element);\n",
              "          const docLink = document.createElement('div');\n",
              "          docLink.innerHTML = docLinkHtml;\n",
              "          element.appendChild(docLink);\n",
              "        }\n",
              "      </script>\n",
              "    </div>\n",
              "  </div>\n",
              "  "
            ]
          },
          "metadata": {},
          "execution_count": 161
        }
      ]
    },
    {
      "cell_type": "code",
      "source": [
        "df.isna().any()"
      ],
      "metadata": {
        "colab": {
          "base_uri": "https://localhost:8080/"
        },
        "id": "4Z2MA6YIGdyD",
        "outputId": "6945eb34-1e40-417b-8ceb-ea7a2a23ca18"
      },
      "execution_count": 162,
      "outputs": [
        {
          "output_type": "execute_result",
          "data": {
            "text/plain": [
              "eng             False\n",
              "vn              False\n",
              "word_type        True\n",
              "word_type_vn    False\n",
              "dtype: bool"
            ]
          },
          "metadata": {},
          "execution_count": 162
        }
      ]
    },
    {
      "cell_type": "code",
      "source": [
        "df.shape"
      ],
      "metadata": {
        "colab": {
          "base_uri": "https://localhost:8080/"
        },
        "id": "ng3l9bnipaG2",
        "outputId": "83bcf382-1e71-48eb-adec-b0aeb0155d18"
      },
      "execution_count": 163,
      "outputs": [
        {
          "output_type": "execute_result",
          "data": {
            "text/plain": [
              "(32273, 4)"
            ]
          },
          "metadata": {},
          "execution_count": 163
        }
      ]
    },
    {
      "cell_type": "code",
      "source": [
        "# RUN ONCE\n",
        "\n",
        "df.to_csv('/content/drive/MyDrive/Fall 2022 - Assignment/Software Construction/Project/full_data/final_cur.csv')"
      ],
      "metadata": {
        "id": "DhZBRSbrHnKQ"
      },
      "execution_count": 166,
      "outputs": []
    },
    {
      "cell_type": "code",
      "source": [
        "df"
      ],
      "metadata": {
        "id": "DPsyY8BWHrhK",
        "colab": {
          "base_uri": "https://localhost:8080/",
          "height": 423
        },
        "outputId": "76289aba-76d3-4a93-bbaf-7d3d3b56c00f"
      },
      "execution_count": 165,
      "outputs": [
        {
          "output_type": "execute_result",
          "data": {
            "text/plain": [
              "                   eng                                                 vn  \\\n",
              "0      arthropathology                                      bệnh học khớp   \n",
              "1          arthropathy                                          bệnh khớp   \n",
              "2          arthrophyma                                          sưng khớp   \n",
              "3          arthrophyte                                       dị vật khớp    \n",
              "4            arthropod            chân khớp (động vật), tiết chi động vật   \n",
              "...                ...                                                ...   \n",
              "32759     trochanteric                                         mấu chuyển   \n",
              "32760         urologic                           niệu học, khoa tiết niệu   \n",
              "32761       urticarial                                             mề đay   \n",
              "32762       vagotonia   cường thần kinh phế vị, cường thần kinh đối gi...   \n",
              "32763           vulval                                              âm hộ   \n",
              "\n",
              "      word_type word_type_vn  \n",
              "0             n      danh từ  \n",
              "1             n      danh từ  \n",
              "2             n      danh từ  \n",
              "3             n      danh từ  \n",
              "4             n      danh từ  \n",
              "...         ...          ...  \n",
              "32759         a      tính từ  \n",
              "32760         a      tính từ  \n",
              "32761         a      tính từ  \n",
              "32762         n      danh từ  \n",
              "32763         a      tính từ  \n",
              "\n",
              "[32273 rows x 4 columns]"
            ],
            "text/html": [
              "\n",
              "  <div id=\"df-be0f1c07-f047-4449-b379-4e8d7d044934\">\n",
              "    <div class=\"colab-df-container\">\n",
              "      <div>\n",
              "<style scoped>\n",
              "    .dataframe tbody tr th:only-of-type {\n",
              "        vertical-align: middle;\n",
              "    }\n",
              "\n",
              "    .dataframe tbody tr th {\n",
              "        vertical-align: top;\n",
              "    }\n",
              "\n",
              "    .dataframe thead th {\n",
              "        text-align: right;\n",
              "    }\n",
              "</style>\n",
              "<table border=\"1\" class=\"dataframe\">\n",
              "  <thead>\n",
              "    <tr style=\"text-align: right;\">\n",
              "      <th></th>\n",
              "      <th>eng</th>\n",
              "      <th>vn</th>\n",
              "      <th>word_type</th>\n",
              "      <th>word_type_vn</th>\n",
              "    </tr>\n",
              "  </thead>\n",
              "  <tbody>\n",
              "    <tr>\n",
              "      <th>0</th>\n",
              "      <td>arthropathology</td>\n",
              "      <td>bệnh học khớp</td>\n",
              "      <td>n</td>\n",
              "      <td>danh từ</td>\n",
              "    </tr>\n",
              "    <tr>\n",
              "      <th>1</th>\n",
              "      <td>arthropathy</td>\n",
              "      <td>bệnh khớp</td>\n",
              "      <td>n</td>\n",
              "      <td>danh từ</td>\n",
              "    </tr>\n",
              "    <tr>\n",
              "      <th>2</th>\n",
              "      <td>arthrophyma</td>\n",
              "      <td>sưng khớp</td>\n",
              "      <td>n</td>\n",
              "      <td>danh từ</td>\n",
              "    </tr>\n",
              "    <tr>\n",
              "      <th>3</th>\n",
              "      <td>arthrophyte</td>\n",
              "      <td>dị vật khớp</td>\n",
              "      <td>n</td>\n",
              "      <td>danh từ</td>\n",
              "    </tr>\n",
              "    <tr>\n",
              "      <th>4</th>\n",
              "      <td>arthropod</td>\n",
              "      <td>chân khớp (động vật), tiết chi động vật</td>\n",
              "      <td>n</td>\n",
              "      <td>danh từ</td>\n",
              "    </tr>\n",
              "    <tr>\n",
              "      <th>...</th>\n",
              "      <td>...</td>\n",
              "      <td>...</td>\n",
              "      <td>...</td>\n",
              "      <td>...</td>\n",
              "    </tr>\n",
              "    <tr>\n",
              "      <th>32759</th>\n",
              "      <td>trochanteric</td>\n",
              "      <td>mấu chuyển</td>\n",
              "      <td>a</td>\n",
              "      <td>tính từ</td>\n",
              "    </tr>\n",
              "    <tr>\n",
              "      <th>32760</th>\n",
              "      <td>urologic</td>\n",
              "      <td>niệu học, khoa tiết niệu</td>\n",
              "      <td>a</td>\n",
              "      <td>tính từ</td>\n",
              "    </tr>\n",
              "    <tr>\n",
              "      <th>32761</th>\n",
              "      <td>urticarial</td>\n",
              "      <td>mề đay</td>\n",
              "      <td>a</td>\n",
              "      <td>tính từ</td>\n",
              "    </tr>\n",
              "    <tr>\n",
              "      <th>32762</th>\n",
              "      <td>vagotonia</td>\n",
              "      <td>cường thần kinh phế vị, cường thần kinh đối gi...</td>\n",
              "      <td>n</td>\n",
              "      <td>danh từ</td>\n",
              "    </tr>\n",
              "    <tr>\n",
              "      <th>32763</th>\n",
              "      <td>vulval</td>\n",
              "      <td>âm hộ</td>\n",
              "      <td>a</td>\n",
              "      <td>tính từ</td>\n",
              "    </tr>\n",
              "  </tbody>\n",
              "</table>\n",
              "<p>32273 rows × 4 columns</p>\n",
              "</div>\n",
              "      <button class=\"colab-df-convert\" onclick=\"convertToInteractive('df-be0f1c07-f047-4449-b379-4e8d7d044934')\"\n",
              "              title=\"Convert this dataframe to an interactive table.\"\n",
              "              style=\"display:none;\">\n",
              "        \n",
              "  <svg xmlns=\"http://www.w3.org/2000/svg\" height=\"24px\"viewBox=\"0 0 24 24\"\n",
              "       width=\"24px\">\n",
              "    <path d=\"M0 0h24v24H0V0z\" fill=\"none\"/>\n",
              "    <path d=\"M18.56 5.44l.94 2.06.94-2.06 2.06-.94-2.06-.94-.94-2.06-.94 2.06-2.06.94zm-11 1L8.5 8.5l.94-2.06 2.06-.94-2.06-.94L8.5 2.5l-.94 2.06-2.06.94zm10 10l.94 2.06.94-2.06 2.06-.94-2.06-.94-.94-2.06-.94 2.06-2.06.94z\"/><path d=\"M17.41 7.96l-1.37-1.37c-.4-.4-.92-.59-1.43-.59-.52 0-1.04.2-1.43.59L10.3 9.45l-7.72 7.72c-.78.78-.78 2.05 0 2.83L4 21.41c.39.39.9.59 1.41.59.51 0 1.02-.2 1.41-.59l7.78-7.78 2.81-2.81c.8-.78.8-2.07 0-2.86zM5.41 20L4 18.59l7.72-7.72 1.47 1.35L5.41 20z\"/>\n",
              "  </svg>\n",
              "      </button>\n",
              "      \n",
              "  <style>\n",
              "    .colab-df-container {\n",
              "      display:flex;\n",
              "      flex-wrap:wrap;\n",
              "      gap: 12px;\n",
              "    }\n",
              "\n",
              "    .colab-df-convert {\n",
              "      background-color: #E8F0FE;\n",
              "      border: none;\n",
              "      border-radius: 50%;\n",
              "      cursor: pointer;\n",
              "      display: none;\n",
              "      fill: #1967D2;\n",
              "      height: 32px;\n",
              "      padding: 0 0 0 0;\n",
              "      width: 32px;\n",
              "    }\n",
              "\n",
              "    .colab-df-convert:hover {\n",
              "      background-color: #E2EBFA;\n",
              "      box-shadow: 0px 1px 2px rgba(60, 64, 67, 0.3), 0px 1px 3px 1px rgba(60, 64, 67, 0.15);\n",
              "      fill: #174EA6;\n",
              "    }\n",
              "\n",
              "    [theme=dark] .colab-df-convert {\n",
              "      background-color: #3B4455;\n",
              "      fill: #D2E3FC;\n",
              "    }\n",
              "\n",
              "    [theme=dark] .colab-df-convert:hover {\n",
              "      background-color: #434B5C;\n",
              "      box-shadow: 0px 1px 3px 1px rgba(0, 0, 0, 0.15);\n",
              "      filter: drop-shadow(0px 1px 2px rgba(0, 0, 0, 0.3));\n",
              "      fill: #FFFFFF;\n",
              "    }\n",
              "  </style>\n",
              "\n",
              "      <script>\n",
              "        const buttonEl =\n",
              "          document.querySelector('#df-be0f1c07-f047-4449-b379-4e8d7d044934 button.colab-df-convert');\n",
              "        buttonEl.style.display =\n",
              "          google.colab.kernel.accessAllowed ? 'block' : 'none';\n",
              "\n",
              "        async function convertToInteractive(key) {\n",
              "          const element = document.querySelector('#df-be0f1c07-f047-4449-b379-4e8d7d044934');\n",
              "          const dataTable =\n",
              "            await google.colab.kernel.invokeFunction('convertToInteractive',\n",
              "                                                     [key], {});\n",
              "          if (!dataTable) return;\n",
              "\n",
              "          const docLinkHtml = 'Like what you see? Visit the ' +\n",
              "            '<a target=\"_blank\" href=https://colab.research.google.com/notebooks/data_table.ipynb>data table notebook</a>'\n",
              "            + ' to learn more about interactive tables.';\n",
              "          element.innerHTML = '';\n",
              "          dataTable['output_type'] = 'display_data';\n",
              "          await google.colab.output.renderOutput(dataTable, element);\n",
              "          const docLink = document.createElement('div');\n",
              "          docLink.innerHTML = docLinkHtml;\n",
              "          element.appendChild(docLink);\n",
              "        }\n",
              "      </script>\n",
              "    </div>\n",
              "  </div>\n",
              "  "
            ]
          },
          "metadata": {},
          "execution_count": 165
        }
      ]
    },
    {
      "cell_type": "code",
      "source": [],
      "metadata": {
        "id": "5jTUc_s4qLnm"
      },
      "execution_count": null,
      "outputs": []
    },
    {
      "cell_type": "code",
      "source": [],
      "metadata": {
        "id": "pCbTNgGWqLpz"
      },
      "execution_count": null,
      "outputs": []
    }
  ]
}