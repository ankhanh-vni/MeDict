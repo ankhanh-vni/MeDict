{
  "nbformat": 4,
  "nbformat_minor": 0,
  "metadata": {
    "colab": {
      "provenance": []
    },
    "kernelspec": {
      "name": "python3",
      "display_name": "Python 3"
    },
    "language_info": {
      "name": "python"
    }
  },
  "cells": [
    {
      "cell_type": "code",
      "execution_count": null,
      "metadata": {
        "colab": {
          "base_uri": "https://localhost:8080/"
        },
        "id": "KelCzK2GTfsb",
        "outputId": "52698b02-bcd4-43a4-ba7d-db0d9a0e46ea"
      },
      "outputs": [
        {
          "output_type": "stream",
          "name": "stdout",
          "text": [
            "Looking in indexes: https://pypi.org/simple, https://us-python.pkg.dev/colab-wheels/public/simple/\n",
            "Collecting python-docx\n",
            "  Downloading python-docx-0.8.11.tar.gz (5.6 MB)\n",
            "\u001b[K     |████████████████████████████████| 5.6 MB 5.2 MB/s \n",
            "\u001b[?25hRequirement already satisfied: lxml>=2.3.2 in /usr/local/lib/python3.8/dist-packages (from python-docx) (4.9.1)\n",
            "Building wheels for collected packages: python-docx\n",
            "  Building wheel for python-docx (setup.py) ... \u001b[?25l\u001b[?25hdone\n",
            "  Created wheel for python-docx: filename=python_docx-0.8.11-py3-none-any.whl size=184505 sha256=6304c6b75a24bde92d9264babccf98f7ec0d5a578cf0826f7b8351da8c6ace86\n",
            "  Stored in directory: /root/.cache/pip/wheels/32/b8/b2/c4c2b95765e615fe139b0b17b5ea7c0e1b6519b0a9ec8fb34d\n",
            "Successfully built python-docx\n",
            "Installing collected packages: python-docx\n",
            "Successfully installed python-docx-0.8.11\n"
          ]
        }
      ],
      "source": [
        "!pip install python-docx\n"
      ]
    },
    {
      "cell_type": "code",
      "source": [
        "from google.colab import drive\n",
        "drive.mount('/content/drive')"
      ],
      "metadata": {
        "colab": {
          "base_uri": "https://localhost:8080/"
        },
        "id": "fXovw8sqThK1",
        "outputId": "6dec5160-2528-414d-fa3b-95004f0d1ad5"
      },
      "execution_count": null,
      "outputs": [
        {
          "output_type": "stream",
          "name": "stdout",
          "text": [
            "Mounted at /content/drive\n"
          ]
        }
      ]
    },
    {
      "cell_type": "code",
      "source": [
        "from docx import Document\n",
        "import pandas as pd"
      ],
      "metadata": {
        "id": "2jU-fnorThqX"
      },
      "execution_count": null,
      "outputs": []
    },
    {
      "cell_type": "code",
      "source": [
        "path = '/content/drive/MyDrive/Fall 2022 - Assignment/Software Construction/Project/full_data/'\n",
        "p08f = path + 'P08F.docx'"
      ],
      "metadata": {
        "id": "6IGFWG5ITh3Z"
      },
      "execution_count": null,
      "outputs": []
    },
    {
      "cell_type": "markdown",
      "source": [
        "### Extract each entry into a ```list()``` element"
      ],
      "metadata": {
        "id": "Oiw3EFZ4XOZ5"
      }
    },
    {
      "cell_type": "code",
      "source": [
        "def docx_to_list(document_path):\n",
        "  document = Document(document_path)\n",
        "  tables = []\n",
        "  for index,table in enumerate(document.tables):\n",
        "      df = [['' for i in range(len(table.columns))] for j in range(len(table.rows))]\n",
        "      for i, row in enumerate(table.rows):\n",
        "          for j, cell in enumerate(row.cells):\n",
        "              df[i][j] = cell.text\n",
        "  return df"
      ],
      "metadata": {
        "id": "NLkbFH3TTh52"
      },
      "execution_count": null,
      "outputs": []
    },
    {
      "cell_type": "code",
      "source": [
        "df = docx_to_list(p08f)\n",
        "\n",
        "df[len(df)-1]"
      ],
      "metadata": {
        "colab": {
          "base_uri": "https://localhost:8080/"
        },
        "id": "aztZHqVxTh76",
        "outputId": "6a4e1d0f-6261-499f-9f2a-47ae36f1746b"
      },
      "execution_count": null,
      "outputs": [
        {
          "output_type": "execute_result",
          "data": {
            "text/plain": [
              "['-pyuria (n)', '[pai’ju6ri6]', 'pyurie (f)', 'mủ-niệu', '']"
            ]
          },
          "metadata": {},
          "execution_count": 6
        }
      ]
    },
    {
      "cell_type": "markdown",
      "source": [
        "### Enumerate all ```docx``` files"
      ],
      "metadata": {
        "id": "iugfXEDeXS5O"
      }
    },
    {
      "cell_type": "code",
      "source": [
        "from glob import glob\n",
        "\n",
        "\n",
        "\"\"\"\n",
        "Get all paths to the files\n",
        "\"\"\"\n",
        "paths = glob(path + \"*.docx\", recursive=True)"
      ],
      "metadata": {
        "id": "RX8wD39TTiAE"
      },
      "execution_count": null,
      "outputs": []
    },
    {
      "cell_type": "code",
      "source": [
        "len(paths)"
      ],
      "metadata": {
        "colab": {
          "base_uri": "https://localhost:8080/"
        },
        "id": "CfP_MqqxUjdV",
        "outputId": "0387af66-801a-42ea-9479-b1c63419050e"
      },
      "execution_count": null,
      "outputs": [
        {
          "output_type": "execute_result",
          "data": {
            "text/plain": [
              "71"
            ]
          },
          "metadata": {},
          "execution_count": 8
        }
      ]
    },
    {
      "cell_type": "code",
      "source": [
        "paths[0:4]"
      ],
      "metadata": {
        "colab": {
          "base_uri": "https://localhost:8080/"
        },
        "id": "tTYPsN0KX-zv",
        "outputId": "5fd8b27f-893e-45b9-85ed-ee7a3ee18977"
      },
      "execution_count": null,
      "outputs": [
        {
          "output_type": "execute_result",
          "data": {
            "text/plain": [
              "['/content/drive/MyDrive/Fall 2022 - Assignment/Software Construction/Project/full_data/A06bsung.docx',\n",
              " '/content/drive/MyDrive/Fall 2022 - Assignment/Software Construction/Project/full_data/A4 bsung.docx',\n",
              " '/content/drive/MyDrive/Fall 2022 - Assignment/Software Construction/Project/full_data/B1.docx',\n",
              " '/content/drive/MyDrive/Fall 2022 - Assignment/Software Construction/Project/full_data/A5bsung.docx']"
            ]
          },
          "metadata": {},
          "execution_count": 9
        }
      ]
    },
    {
      "cell_type": "markdown",
      "source": [
        "### Combine all 71 files into a single DF"
      ],
      "metadata": {
        "id": "E4Hpy4GwiJUg"
      }
    },
    {
      "cell_type": "code",
      "source": [
        "all_lists = []\n",
        "count = 0\n",
        "info = {}\n",
        "# {\n",
        "#     1: {\n",
        "#         'name': A3,\n",
        "#         'length': 4,\n",
        "#         'valid': 1\n",
        "#     },\n",
        "#     2: {...}\n",
        "# }\n",
        "\n",
        "\n",
        "for p in paths:\n",
        "  l = docx_to_list(p)\n",
        "  all_lists.append(l)\n",
        "  doc_name = p.split('/')[-1].rstrip('.docx') \n",
        "\n",
        "  print(f\"DONE: {count} -- {doc_name} -- n_rows: {len(l)} -- n_col: {len(l[0])}\")\n",
        "\n",
        "  info[count] = {\n",
        "      'data': l,\n",
        "      'name': doc_name,\n",
        "      'length': len(l[0]),\n",
        "      'valid': 0\n",
        "      }\n",
        "  count += 1"
      ],
      "metadata": {
        "colab": {
          "base_uri": "https://localhost:8080/"
        },
        "id": "PmwD2PlWiCg6",
        "outputId": "51e8cf36-af4c-4893-ef73-58c22fc5cbc6"
      },
      "execution_count": null,
      "outputs": [
        {
          "output_type": "stream",
          "name": "stdout",
          "text": [
            "DONE: 0 -- A06bsung -- n_rows: 759 -- n_col: 4\n",
            "DONE: 1 -- A4 bsung -- n_rows: 753 -- n_col: 4\n",
            "DONE: 2 -- B1 -- n_rows: 620 -- n_col: 7\n",
            "DONE: 3 -- A5bsung -- n_rows: 700 -- n_col: 5\n",
            "DONE: 4 -- B2 -- n_rows: 532 -- n_col: 15\n",
            "DONE: 5 -- C 01 -- n_rows: 776 -- n_col: 4\n",
            "DONE: 6 -- C 02 -- n_rows: 719 -- n_col: 4\n",
            "DONE: 7 -- C 03 -- n_rows: 744 -- n_col: 4\n",
            "DONE: 8 -- C 04 -- n_rows: 387 -- n_col: 4\n",
            "DONE: 9 -- C 05 -- n_rows: 377 -- n_col: 4\n",
            "DONE: 10 -- C 06 -- n_rows: 408 -- n_col: 4\n",
            "DONE: 11 -- D1 -- n_rows: 462 -- n_col: 4\n",
            "DONE: 12 -- C 07 -- n_rows: 584 -- n_col: 4\n",
            "DONE: 13 -- D2 -- n_rows: 402 -- n_col: 4\n",
            "DONE: 14 -- D3 -- n_rows: 294 -- n_col: 4\n",
            "DONE: 15 -- D4 -- n_rows: 325 -- n_col: 4\n",
            "DONE: 16 -- E2R -- n_rows: 331 -- n_col: 4\n",
            "DONE: 17 -- E1R -- n_rows: 275 -- n_col: 4\n",
            "DONE: 18 -- E4R -- n_rows: 362 -- n_col: 4\n",
            "DONE: 19 -- E3R -- n_rows: 395 -- n_col: 4\n",
            "DONE: 20 -- E5R -- n_rows: 349 -- n_col: 4\n",
            "DONE: 21 -- F1R -- n_rows: 506 -- n_col: 4\n",
            "DONE: 22 -- E6R -- n_rows: 418 -- n_col: 4\n",
            "DONE: 23 -- FO2R -- n_rows: 294 -- n_col: 4\n",
            "DONE: 24 -- G02R -- n_rows: 487 -- n_col: 4\n",
            "DONE: 25 -- G1R -- n_rows: 604 -- n_col: 4\n",
            "DONE: 26 -- H01R -- n_rows: 602 -- n_col: 4\n",
            "DONE: 27 -- H02R -- n_rows: 596 -- n_col: 4\n",
            "DONE: 28 -- H04R -- n_rows: 830 -- n_col: 4\n",
            "DONE: 29 -- H3R -- n_rows: 509 -- n_col: 6\n",
            "DONE: 30 -- I01R -- n_rows: 686 -- n_col: 5\n",
            "DONE: 31 -- I02R -- n_rows: 861 -- n_col: 4\n",
            "DONE: 32 -- J01R -- n_rows: 68 -- n_col: 4\n",
            "DONE: 33 -- K01R -- n_rows: 345 -- n_col: 4\n",
            "DONE: 34 -- L01R -- n_rows: 564 -- n_col: 4\n",
            "DONE: 35 -- L02R -- n_rows: 695 -- n_col: 4\n",
            "DONE: 36 -- M01R -- n_rows: 568 -- n_col: 4\n",
            "DONE: 37 -- M03R -- n_rows: 537 -- n_col: 5\n",
            "DONE: 38 -- M02R -- n_rows: 675 -- n_col: 4\n",
            "DONE: 39 -- M04R -- n_rows: 553 -- n_col: 4\n",
            "DONE: 40 -- M05R -- n_rows: 427 -- n_col: 4\n",
            "DONE: 41 -- N2R -- n_rows: 370 -- n_col: 4\n",
            "DONE: 42 -- N01R -- n_rows: 631 -- n_col: 4\n",
            "DONE: 43 -- O01R -- n_rows: 718 -- n_col: 4\n",
            "DONE: 44 -- O2R -- n_rows: 726 -- n_col: 4\n",
            "DONE: 45 -- P01F -- n_rows: 678 -- n_col: 5\n",
            "DONE: 46 -- P02F -- n_rows: 685 -- n_col: 5\n",
            "DONE: 47 -- P03F -- n_rows: 671 -- n_col: 5\n",
            "DONE: 48 -- P04F -- n_rows: 683 -- n_col: 5\n",
            "DONE: 49 -- P05F -- n_rows: 704 -- n_col: 5\n",
            "DONE: 50 -- P06F -- n_rows: 687 -- n_col: 5\n",
            "DONE: 51 -- P07F -- n_rows: 686 -- n_col: 8\n",
            "DONE: 52 -- P08F -- n_rows: 353 -- n_col: 5\n",
            "DONE: 53 -- Q01 -- n_rows: 95 -- n_col: 5\n",
            "DONE: 54 -- R01 -- n_rows: 715 -- n_col: 6\n",
            "DONE: 55 -- R02 -- n_rows: 369 -- n_col: 5\n",
            "DONE: 56 -- S01 -- n_rows: 618 -- n_col: 6\n",
            "DONE: 57 -- S02 -- n_rows: 659 -- n_col: 5\n",
            "DONE: 58 -- S03 -- n_rows: 697 -- n_col: 7\n",
            "DONE: 59 -- S04 -- n_rows: 637 -- n_col: 7\n",
            "DONE: 60 -- S05 -- n_rows: 823 -- n_col: 5\n",
            "DONE: 61 -- T01 -- n_rows: 606 -- n_col: 5\n",
            "DONE: 62 -- T02 -- n_rows: 561 -- n_col: 5\n",
            "DONE: 63 -- T03 -- n_rows: 620 -- n_col: 5\n",
            "DONE: 64 -- T04 -- n_rows: 304 -- n_col: 5\n",
            "DONE: 65 -- U01 -- n_rows: 589 -- n_col: 5\n",
            "DONE: 66 -- V01 -- n_rows: 785 -- n_col: 5\n",
            "DONE: 67 -- W.X.Y.Z -- n_rows: 169 -- n_col: 4\n",
            "DONE: 68 -- A1bsung -- n_rows: 584 -- n_col: 4\n",
            "DONE: 69 -- A2bsung -- n_rows: 616 -- n_col: 4\n",
            "DONE: 70 -- A3bsung -- n_rows: 606 -- n_col: 6\n"
          ]
        }
      ]
    },
    {
      "cell_type": "markdown",
      "source": [
        "The majority has 4-5 columns, which are workable (hopefully). For the rest, we will need to manually convert to csv later."
      ],
      "metadata": {
        "id": "tBukGKvOwzHW"
      }
    },
    {
      "cell_type": "code",
      "source": [
        "len(all_lists)"
      ],
      "metadata": {
        "colab": {
          "base_uri": "https://localhost:8080/"
        },
        "id": "OrO477aIjKoR",
        "outputId": "106afc36-948a-40e1-a428-391b67ebd399"
      },
      "execution_count": null,
      "outputs": [
        {
          "output_type": "execute_result",
          "data": {
            "text/plain": [
              "71"
            ]
          },
          "metadata": {},
          "execution_count": 16
        }
      ]
    },
    {
      "cell_type": "code",
      "source": [
        "# ncol4 = [l for l in all_lists if len(l[0]) == 4]\n",
        "# ncol5 = [l for l in all_lists if len(l[0]) == 5]\n",
        "\n",
        "ncol4 = []\n",
        "ncol5 = []\n",
        "\n",
        "for i in range(len(info)):\n",
        "  if info[i]['length'] == 4:\n",
        "    ncol4.append(info[i])\n",
        "  \n",
        "  elif info[i]['length'] == 5:\n",
        "    ncol5.append(info[i])\n",
        "\n",
        "  else:\n",
        "    print(f\"File with invalid n_col: {info[i]['name']}\")\n",
        "\n",
        "print(len(ncol4), end=', ')\n",
        "print(len(ncol5))"
      ],
      "metadata": {
        "colab": {
          "base_uri": "https://localhost:8080/"
        },
        "id": "EHYw9DDtjNM5",
        "outputId": "31e6bd0e-44ac-42b4-fd8d-8ff44f54cd26"
      },
      "execution_count": null,
      "outputs": [
        {
          "output_type": "stream",
          "name": "stdout",
          "text": [
            "File with invalid n_col: B1\n",
            "File with invalid n_col: B2\n",
            "File with invalid n_col: H3R\n",
            "File with invalid n_col: P07F\n",
            "File with invalid n_col: R01\n",
            "File with invalid n_col: S01\n",
            "File with invalid n_col: S03\n",
            "File with invalid n_col: S04\n",
            "File with invalid n_col: A3bsung\n",
            "42, 20\n"
          ]
        }
      ]
    },
    {
      "cell_type": "code",
      "source": [
        "#ncol5_workable = [l for l in ncol5 if l[0][-1]=='']\n",
        "ncol5_workable = []\n",
        "\n",
        "for obj in ncol5:\n",
        "  if obj['data'][0][-1] == \"\":\n",
        "    ncol5_workable.append(obj)\n",
        "\n",
        "  else:\n",
        "    print(f\"File with invalid n_col: {obj['name']}\")\n",
        "\n",
        "\n",
        "\n",
        "print(len(ncol5_workable))"
      ],
      "metadata": {
        "colab": {
          "base_uri": "https://localhost:8080/"
        },
        "id": "7b9f_2t-yM7d",
        "outputId": "f2c44bf9-de6b-4598-c69f-c5a3eb152db6"
      },
      "execution_count": null,
      "outputs": [
        {
          "output_type": "stream",
          "name": "stdout",
          "text": [
            "File with invalid n_col: A5bsung\n",
            "File with invalid n_col: I01R\n",
            "File with invalid n_col: M03R\n",
            "17\n"
          ]
        }
      ]
    },
    {
      "cell_type": "code",
      "source": [
        "# for i in range(len(ncol5_workable)):\n",
        "#   print(f'{i} -----')\n",
        "#   print(ncol5_workable[i][0])\n",
        "count = 0\n",
        "\n",
        "for obj in ncol5_workable:\n",
        "  print(f'{count} -- {obj[\"name\"]} ----')\n",
        "  print(obj['data'][0])\n",
        "  count += 1"
      ],
      "metadata": {
        "colab": {
          "base_uri": "https://localhost:8080/"
        },
        "id": "XPL7gGLGxEMe",
        "outputId": "23150785-6038-4e31-97c2-0ef8c2136a14"
      },
      "execution_count": null,
      "outputs": [
        {
          "output_type": "stream",
          "name": "stdout",
          "text": [
            "0 -- P01F ----\n",
            "['-pabulum  (n)  / pabular (a)', 'k', 'aliment (m) / alimentaire (a)', 'thực phẩm', '']\n",
            "1 -- P02F ----\n",
            "['-parkinsonian (a)', '[,p@:kin’s6uni6n]', 'parkinsonien (a) ', 'Parkinson (hội chứng) (th)', '']\n",
            "2 -- P03F ----\n",
            "['-periophthalmic (a)  ', '[,peri0f’8`lmik]', 'périophtalmique (a) , périoculaire (a)', 'quanh mắt', '']\n",
            "3 -- P04F ----\n",
            "['phosis (n)  ', '[‘f6usis]', 'k', 'sản sinh quang giác chủ quan (sự)', '']\n",
            "4 -- P05F ----\n",
            "['-platypellic, platypelloid (a)  ', '[,pl`ti’pelik][,pl`ti’pel0id]', 'platypellique (a)', 'chậu hông dẹt (th)', '']\n",
            "5 -- P06F ----\n",
            "['-polytrichia, polytrichosis (n)  ', '[,p0li’triki6[,p0litri’k6usis]', 'polytrichie (f) hypertrichose (f)', 'rậm lông, nhiều tóc (ch)', '']\n",
            "6 -- P08F ----\n",
            "['-pubes  (n)', '[‘pju:bi:z]', '1. poils pubiens (m,pl). 2. région pubienne (f)  ', '1. lông mu. 2. vùng mu', '']\n",
            "7 -- Q01 ----\n",
            "['-q.d. (quaque die)', '', 'chaque jour,  tous les jours', 'mỗi ngày', '']\n",
            "8 -- R02 ----\n",
            "['retrosigmoidal (a)', '[,retr6usi9’m0id6l]', 'k', 'sau xoang xích ma ', '']\n",
            "9 -- S02 ----\n",
            "['-scruple 1(n)                         ', '[‘skru:pl]', 'k', 'xcrup (đơn vị trọng lượng bằng : 1.296g)', '']\n",
            "10 -- S05 ----\n",
            "['subcrepitant (a)', '[s^b’krepit6nt]', 'sous-crépitant (a)', 'nổ hai thì (ran)  ', '']\n",
            "11 -- T01 ----\n",
            "['tabacism, tabacosis (n)', '[‘t`b6siz6m][,t`b6’k6usis]', 'tabacosis (f)', 'bụi phổi thuốc lá (bh)', '']\n",
            "12 -- T02 ----\n",
            "['theine (n)', '[‘8i:in]', 'théine (f)', 'thein (chất)', '']\n",
            "13 -- T03 ----\n",
            "['torulosis  (n)', '[,t0rju’l6usis]', 'torulose (f), cryptococcose (f)', 'nấm torula (bh), bệnh do cryptococcus', '']\n",
            "14 -- T04 ----\n",
            "['tromophonia (n)  ', '[,tr0m6’f6uni6]', 'tromophonie (f)', 'run giọng (một loại khó phát âm )', '']\n",
            "15 -- U01 ----\n",
            "['uarthritis (n)', '[,ju:@:’8raitis]', 'goutte (f)', 'gut (bh)', '']\n",
            "16 -- V01 ----\n",
            "['-vaccigenous (a)  ', '[v`k’sid2in6s]', 'k', 'sản sinh vacxin ', '']\n"
          ]
        }
      ]
    },
    {
      "cell_type": "code",
      "source": [
        "# for l in ncol4:\n",
        "#   print(f'{} ')\n",
        "#   print(ncol4[i][0])\n",
        "count = 0\n",
        "\n",
        "for obj in ncol4:\n",
        "  print(f'{count} -- {obj[\"name\"]} ----')\n",
        "  print(obj['data'][0])\n",
        "  count += 1"
      ],
      "metadata": {
        "colab": {
          "base_uri": "https://localhost:8080/"
        },
        "id": "0JneAbokxMAG",
        "outputId": "c5bbef7a-e4fa-4e79-e18f-13598acc0c96"
      },
      "execution_count": null,
      "outputs": [
        {
          "output_type": "stream",
          "name": "stdout",
          "text": [
            "0 -- A06bsung ----\n",
            "['arthropathology (n)', '[,@:8r6up6’80l6d2i]', 'k', 'bệnh học khớp']\n",
            "1 -- A4 bsung ----\n",
            "['-anaphylactin (n)   ', '[,`n6fi’l`ktin]', 'toxogénine (f), sensibilisine (f)', 'kháng phản vệ (sự)']\n",
            "2 -- C 01 ----\n",
            "['cac(o)- (pref.)', '', '', 'xấu, bệnh']\n",
            "3 -- C 02 ----\n",
            "['cec(o)- (pref.) +        ', '', '', 'manh tràng']\n",
            "4 -- C 03 ----\n",
            "['choledochendysis  choledochotomy  ', '', '', '']\n",
            "5 -- C 04 ----\n",
            "['cluttering (n)', '[‘kl^t6ri7]', 'bredouillement (m)', 'ấp úng                                                              ']\n",
            "6 -- C 05 ----\n",
            "['-comedomastitis (n)', '[k6,mid6um`s’taitis]', 'ectasie des canaux galactophores', 'dãn ống dẫn sữa (sự)']\n",
            "7 -- C 06 ----\n",
            "['corediastasis (n)', '[,k0:ridai’`st6sis]', 'corédiastase (f)', 'giãn đồng tử, giãn con ngươi (sự)']\n",
            "8 -- D1 ----\n",
            "['dacry(o)- (pref.)  +', '', '', 'lệ, nước mắt']\n",
            "9 -- C 07 ----\n",
            "['-crucible (n)', '[‘kru:sibl]', 'creuset (m)', 'chén nung']\n",
            "10 -- D2 ----\n",
            "['-dermoid (a,n)', '[‘d6:m0id]', 'dermoïde (a), kyste dermoïde (m)', 'dạng bì, u nang da ']\n",
            "11 -- D3 ----\n",
            "['dioecious (a)', '[dai’i:~6s]', 'dioïque (a)', 'khác giống , phân tính']\n",
            "12 -- D4 ----\n",
            "['dormant (a)', '[‘ñd0:m6nt]', 'inactif (a), en sommeil', 'bất hoạt động, ngủ']\n",
            "13 -- E2R ----\n",
            "['elder (n) (Sambucus nigra)  ', '[‘eld6]', 'sureau (m)', 'cơm cháy đen (cây)']\n",
            "14 -- E1R ----\n",
            "['-ear (a,n)', '[i6]', 'auriculaire (a), oreille (f)', 'tai (th), lỗ tai']\n",
            "15 -- E4R ----\n",
            "['-enterokinesia (n) / enterokinetic (a)', '[,ent6r6u,kai’ni:zi6] [,ent6r6ukai’netik]', 'entérokinésie (f), péristaltisme intestinal (m) / entérokinétique (a)', 'nhu động ruột']\n",
            "16 -- E3R ----\n",
            "['-encephalitis (n)     ', '[en,sef6’litidi:z]', 'encéphalite (f)\\n', 'viêm não']\n",
            "17 -- E5R ----\n",
            "['epitheliomatosis (n)                 ', '[,epi,8i:li6um6’t6usis]', 'épithéliomatose (f)                 ', 'bệnh epitheloma']\n",
            "18 -- F1R ----\n",
            "['fabella (n)           ', '[f6’bel6]', 'fabella (f)', 'xương vừng của cơ sinh đôi ngoài']\n",
            "19 -- E6R ----\n",
            "['ethylation (n) ', '[e,8i’lei~6n]', 'ethylation (f)', 'etyl hóa (sự)']\n",
            "20 -- FO2R ----\n",
            "['fluoroscopy (n) /  fluoroscopical (a)', '[,flu6’r0sk6pi][,flu6r6’sk0pik6l]', 'radioscopie (f),  fluoroscopie (f)', 'soi huỳnh quang, soi X quang']\n",
            "21 -- G02R ----\n",
            "['globulolysis, globulysis (n)', '[9l0bju’l0lisis][9l6u’bju:lisis]', 'hémolyse (f), globulolyse (f)', 'dung huyết (sự), dung giải hồng tế bào (sự)']\n",
            "22 -- G1R ----\n",
            "['gadfly (n) ', '[‘9`dflai]', 'taon (m)', 'ruồi trâu']\n",
            "23 -- H01R ----\n",
            "['habena (n)            ', '[h6’bi:n6]', 'habena (f)', 'đai, dải']\n",
            "24 -- H02R ----\n",
            "['hemolyze hemolysis       ', '', '', '']\n",
            "25 -- H04R ----\n",
            "['hyperbilirubinemia (n) ', '[,haip6(:),bili,ru:bi’ni:mi6]', 'hyperbilirubinémie (f) ', 'tăng bilirubin-huyết (ch)']\n",
            "26 -- I02R ----\n",
            "['insectivorous (a)', '[,insek’tiv6r6s]', 'insectivore (a)', 'loài ăn côn trùng (th) ']\n",
            "27 -- J01R ----\n",
            "['jacket (n)', '[’d2`kit]', 'couverture (f), enveloppe (f)', 'bao, áo']\n",
            "28 -- K01R ----\n",
            "['kabure (n)       ', '[k6’bu6ri]', 'kaburé  (m)', 'mẫn da do ấu trùng (schistosoma japonica)']\n",
            "29 -- L01R ----\n",
            "['label(n)  ', '[’leibl]', '1. étiquette (f)  2. traceur (m)', '1. nhãn 2. đánh dấu']\n",
            "30 -- L02R ----\n",
            "['levitation (n)    ', '[,levi’tei~6n]', 'lévitation (n)  ', 'cảm giác bay bổng']\n",
            "31 -- M01R ----\n",
            "['macerate (v)   ', '[‘m`s6reit]', 'macérer (v)', 'ngâm, dầm ']\n",
            "32 -- M02R ----\n",
            "['mediotarsal (a)    ', '[,mi:di6u’t@:s6l]   [sl]', 'médiotarsien (a)', 'giữa cổ chân']\n",
            "33 -- M04R ----\n",
            "['mitapsis (n)', '[mi’t`psis]', 'k', 'dung hợp hạt nhiễm sắc chất (sự)']\n",
            "34 -- M05R ----\n",
            "['mussitation (n)', '[m^si’tei~6n]', 'mussitation (f)', 'lắp bắp môi (ch)']\n",
            "35 -- N2R ----\n",
            "['neutrino (n)', '[nju:’tri:n6u]', 'neutrino (m)', 'neutrin']\n",
            "36 -- N01R ----\n",
            "['nacreous (a)', '[‘neikri6s]', 'nacré (a)', 'ánh xa cừ']\n",
            "37 -- O01R ----\n",
            "['oak (n) ', '[6uk]', 'chêne (m)', 'sồi (cây)']\n",
            "38 -- O2R ----\n",
            "['orchioscheocele (n)         ', '[,0:ki’0ski6,si:l]', 'k', 'u bìu thoát vị']\n",
            "39 -- W.X.Y.Z ----\n",
            "['zaire (n)                  ', '[‘zairei]', 'k', 'dịch tả (bh) (Bồ đào nha)']\n",
            "40 -- A1bsung ----\n",
            "['a- (pref.)     ', '', '', 'không,vô, mất']\n",
            "41 -- A2bsung ----\n",
            "['acylation (n)', '[,`sileis]', 'acylation (f)', 'axyl hóa']\n"
          ]
        }
      ]
    },
    {
      "cell_type": "markdown",
      "source": [
        "Seems like ```ncol4``` and ```ncol5_workable``` are all good to be automated.\n",
        "\n",
        "```ncol4``` has 4 columns: ```eng, not_important1, not_important2, vn```  \n",
        "\n",
        "```ncol5_workable``` has 5 columns: ```eng, not_important1, not_important2, vn, not_important3```"
      ],
      "metadata": {
        "id": "ENFgAZcLzjZ5"
      }
    },
    {
      "cell_type": "markdown",
      "source": [
        "### Turning lists into DFs"
      ],
      "metadata": {
        "id": "WZ9evOB60CFO"
      }
    },
    {
      "cell_type": "code",
      "source": [
        "def list_to_df(records, n_col):\n",
        "  if n_col == 5:\n",
        "    df = pd.DataFrame.from_records(records, columns=['eng', 'ni1', 'ni2', 'vn', 'ni3'])\n",
        "\n",
        "  elif n_col == 4:\n",
        "    df = pd.DataFrame.from_records(records, columns=['eng', 'ni1', 'ni2', 'vn'])\n",
        "\n",
        "  else:\n",
        "    raise(ValueError, '#Columns must be either 4 or 5')\n",
        "\n",
        "  return df \n",
        "\n"
      ],
      "metadata": {
        "id": "By3fmDgAzWZW"
      },
      "execution_count": null,
      "outputs": []
    },
    {
      "cell_type": "code",
      "source": [
        "df_4 = []\n",
        "df_5 = []\n",
        "# for l in ncol4:\n",
        "#   df = list_to_df(l, 4)\n",
        "#   df_4.append(df)\n",
        "\n",
        "for obj in ncol4:\n",
        "  df = list_to_df(obj['data'], 4)\n",
        "  df_4.append(df)\n",
        "\n",
        "for obj in ncol5_workable:\n",
        "  df = list_to_df(obj['data'], 5)\n",
        "  df_5.append(df)"
      ],
      "metadata": {
        "id": "HYsZx-cczgmt"
      },
      "execution_count": null,
      "outputs": []
    },
    {
      "cell_type": "code",
      "source": [],
      "metadata": {
        "id": "IXUZhSCbQ-If"
      },
      "execution_count": null,
      "outputs": []
    },
    {
      "cell_type": "code",
      "source": [
        "df_4 = pd.concat(df_4, ignore_index=True)\n",
        "df_5 = pd.concat(df_5, ignore_index=True).drop('ni3', axis=1)\n",
        "\n",
        "main_df = pd.concat([df_4, df_5], ignore_index=True)\n",
        "main_df.head()"
      ],
      "metadata": {
        "colab": {
          "base_uri": "https://localhost:8080/",
          "height": 206
        },
        "id": "qEnWeQ683wlM",
        "outputId": "c6595563-5090-4283-b353-492f15c7fd19"
      },
      "execution_count": null,
      "outputs": [
        {
          "output_type": "execute_result",
          "data": {
            "text/plain": [
              "                                     eng                                 ni1  \\\n",
              "0                    arthropathology (n)                 [,@:8r6up6’80l6d2i]   \n",
              "1                       -arthropathy (n)                        [@:’8r0p68i]   \n",
              "2                        arthrophyma (n)                     [,@:8r6u’faim6]   \n",
              "3                        arthrophyte (n)                        [‘@:8r6fait]   \n",
              "4  -arthroplasty (n) / arthroplastic (a)  [‘@:8r6u,pl`sti] [,@:8r6u’pl`stik]   \n",
              "\n",
              "                 ni2                    vn  \n",
              "0                  k         bệnh học khớp  \n",
              "1   arthropathie (f)             bệnh khớp  \n",
              "2                  k             sưng khớp  \n",
              "3    arthrophyte (m)          dị vật khớp   \n",
              "4  arthroplastie (f)  tạo hình khớp (thth)  "
            ],
            "text/html": [
              "\n",
              "  <div id=\"df-230a1bbd-ef6e-44eb-b869-b047a2538002\">\n",
              "    <div class=\"colab-df-container\">\n",
              "      <div>\n",
              "<style scoped>\n",
              "    .dataframe tbody tr th:only-of-type {\n",
              "        vertical-align: middle;\n",
              "    }\n",
              "\n",
              "    .dataframe tbody tr th {\n",
              "        vertical-align: top;\n",
              "    }\n",
              "\n",
              "    .dataframe thead th {\n",
              "        text-align: right;\n",
              "    }\n",
              "</style>\n",
              "<table border=\"1\" class=\"dataframe\">\n",
              "  <thead>\n",
              "    <tr style=\"text-align: right;\">\n",
              "      <th></th>\n",
              "      <th>eng</th>\n",
              "      <th>ni1</th>\n",
              "      <th>ni2</th>\n",
              "      <th>vn</th>\n",
              "    </tr>\n",
              "  </thead>\n",
              "  <tbody>\n",
              "    <tr>\n",
              "      <th>0</th>\n",
              "      <td>arthropathology (n)</td>\n",
              "      <td>[,@:8r6up6’80l6d2i]</td>\n",
              "      <td>k</td>\n",
              "      <td>bệnh học khớp</td>\n",
              "    </tr>\n",
              "    <tr>\n",
              "      <th>1</th>\n",
              "      <td>-arthropathy (n)</td>\n",
              "      <td>[@:’8r0p68i]</td>\n",
              "      <td>arthropathie (f)</td>\n",
              "      <td>bệnh khớp</td>\n",
              "    </tr>\n",
              "    <tr>\n",
              "      <th>2</th>\n",
              "      <td>arthrophyma (n)</td>\n",
              "      <td>[,@:8r6u’faim6]</td>\n",
              "      <td>k</td>\n",
              "      <td>sưng khớp</td>\n",
              "    </tr>\n",
              "    <tr>\n",
              "      <th>3</th>\n",
              "      <td>arthrophyte (n)</td>\n",
              "      <td>[‘@:8r6fait]</td>\n",
              "      <td>arthrophyte (m)</td>\n",
              "      <td>dị vật khớp</td>\n",
              "    </tr>\n",
              "    <tr>\n",
              "      <th>4</th>\n",
              "      <td>-arthroplasty (n) / arthroplastic (a)</td>\n",
              "      <td>[‘@:8r6u,pl`sti] [,@:8r6u’pl`stik]</td>\n",
              "      <td>arthroplastie (f)</td>\n",
              "      <td>tạo hình khớp (thth)</td>\n",
              "    </tr>\n",
              "  </tbody>\n",
              "</table>\n",
              "</div>\n",
              "      <button class=\"colab-df-convert\" onclick=\"convertToInteractive('df-230a1bbd-ef6e-44eb-b869-b047a2538002')\"\n",
              "              title=\"Convert this dataframe to an interactive table.\"\n",
              "              style=\"display:none;\">\n",
              "        \n",
              "  <svg xmlns=\"http://www.w3.org/2000/svg\" height=\"24px\"viewBox=\"0 0 24 24\"\n",
              "       width=\"24px\">\n",
              "    <path d=\"M0 0h24v24H0V0z\" fill=\"none\"/>\n",
              "    <path d=\"M18.56 5.44l.94 2.06.94-2.06 2.06-.94-2.06-.94-.94-2.06-.94 2.06-2.06.94zm-11 1L8.5 8.5l.94-2.06 2.06-.94-2.06-.94L8.5 2.5l-.94 2.06-2.06.94zm10 10l.94 2.06.94-2.06 2.06-.94-2.06-.94-.94-2.06-.94 2.06-2.06.94z\"/><path d=\"M17.41 7.96l-1.37-1.37c-.4-.4-.92-.59-1.43-.59-.52 0-1.04.2-1.43.59L10.3 9.45l-7.72 7.72c-.78.78-.78 2.05 0 2.83L4 21.41c.39.39.9.59 1.41.59.51 0 1.02-.2 1.41-.59l7.78-7.78 2.81-2.81c.8-.78.8-2.07 0-2.86zM5.41 20L4 18.59l7.72-7.72 1.47 1.35L5.41 20z\"/>\n",
              "  </svg>\n",
              "      </button>\n",
              "      \n",
              "  <style>\n",
              "    .colab-df-container {\n",
              "      display:flex;\n",
              "      flex-wrap:wrap;\n",
              "      gap: 12px;\n",
              "    }\n",
              "\n",
              "    .colab-df-convert {\n",
              "      background-color: #E8F0FE;\n",
              "      border: none;\n",
              "      border-radius: 50%;\n",
              "      cursor: pointer;\n",
              "      display: none;\n",
              "      fill: #1967D2;\n",
              "      height: 32px;\n",
              "      padding: 0 0 0 0;\n",
              "      width: 32px;\n",
              "    }\n",
              "\n",
              "    .colab-df-convert:hover {\n",
              "      background-color: #E2EBFA;\n",
              "      box-shadow: 0px 1px 2px rgba(60, 64, 67, 0.3), 0px 1px 3px 1px rgba(60, 64, 67, 0.15);\n",
              "      fill: #174EA6;\n",
              "    }\n",
              "\n",
              "    [theme=dark] .colab-df-convert {\n",
              "      background-color: #3B4455;\n",
              "      fill: #D2E3FC;\n",
              "    }\n",
              "\n",
              "    [theme=dark] .colab-df-convert:hover {\n",
              "      background-color: #434B5C;\n",
              "      box-shadow: 0px 1px 3px 1px rgba(0, 0, 0, 0.15);\n",
              "      filter: drop-shadow(0px 1px 2px rgba(0, 0, 0, 0.3));\n",
              "      fill: #FFFFFF;\n",
              "    }\n",
              "  </style>\n",
              "\n",
              "      <script>\n",
              "        const buttonEl =\n",
              "          document.querySelector('#df-230a1bbd-ef6e-44eb-b869-b047a2538002 button.colab-df-convert');\n",
              "        buttonEl.style.display =\n",
              "          google.colab.kernel.accessAllowed ? 'block' : 'none';\n",
              "\n",
              "        async function convertToInteractive(key) {\n",
              "          const element = document.querySelector('#df-230a1bbd-ef6e-44eb-b869-b047a2538002');\n",
              "          const dataTable =\n",
              "            await google.colab.kernel.invokeFunction('convertToInteractive',\n",
              "                                                     [key], {});\n",
              "          if (!dataTable) return;\n",
              "\n",
              "          const docLinkHtml = 'Like what you see? Visit the ' +\n",
              "            '<a target=\"_blank\" href=https://colab.research.google.com/notebooks/data_table.ipynb>data table notebook</a>'\n",
              "            + ' to learn more about interactive tables.';\n",
              "          element.innerHTML = '';\n",
              "          dataTable['output_type'] = 'display_data';\n",
              "          await google.colab.output.renderOutput(dataTable, element);\n",
              "          const docLink = document.createElement('div');\n",
              "          docLink.innerHTML = docLinkHtml;\n",
              "          element.appendChild(docLink);\n",
              "        }\n",
              "      </script>\n",
              "    </div>\n",
              "  </div>\n",
              "  "
            ]
          },
          "metadata": {},
          "execution_count": 37
        }
      ]
    },
    {
      "cell_type": "code",
      "source": [
        "main_df.shape"
      ],
      "metadata": {
        "colab": {
          "base_uri": "https://localhost:8080/"
        },
        "id": "Pm_GdN-Z31Fk",
        "outputId": "409c2cd1-16b3-4259-851a-905c8e116b2c"
      },
      "execution_count": null,
      "outputs": [
        {
          "output_type": "execute_result",
          "data": {
            "text/plain": [
              "(31481, 4)"
            ]
          },
          "metadata": {},
          "execution_count": 38
        }
      ]
    },
    {
      "cell_type": "code",
      "source": [
        "# p = '/content/drive/MyDrive/Fall 2022 - Assignment/Software Construction/Project/full_data/'\n",
        "# main_df.to_csv(p + 'main_df.csv')"
      ],
      "metadata": {
        "id": "2-MQEOgw3-g0"
      },
      "execution_count": null,
      "outputs": []
    },
    {
      "cell_type": "code",
      "source": [],
      "metadata": {
        "id": "ODuEnv6-4djc"
      },
      "execution_count": null,
      "outputs": []
    }
  ]
}