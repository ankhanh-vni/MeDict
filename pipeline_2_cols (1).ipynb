{
  "nbformat": 4,
  "nbformat_minor": 0,
  "metadata": {
    "colab": {
      "provenance": []
    },
    "kernelspec": {
      "name": "python3",
      "display_name": "Python 3"
    },
    "language_info": {
      "name": "python"
    }
  },
  "cells": [
    {
      "cell_type": "code",
      "execution_count": null,
      "metadata": {
        "id": "1ZG-agBiULn3"
      },
      "outputs": [],
      "source": [
        "import numpy as np\n",
        "import pandas as pd"
      ]
    },
    {
      "cell_type": "code",
      "source": [],
      "metadata": {
        "id": "U5ER7DXnUWum"
      },
      "execution_count": null,
      "outputs": []
    },
    {
      "cell_type": "markdown",
      "source": [
        "## Dataset:"
      ],
      "metadata": {
        "id": "eZsO4OdvUZ_H"
      }
    },
    {
      "cell_type": "code",
      "source": [
        "colnames = ['eng', 'ni1', 'ni2', 'vn']\n",
        "path = '/content/drive/MyDrive/Fall 2022 - Assignment/Software Construction/Project/full_data/final_df.csv'\n",
        "df = pd.read_csv(path, header=0)\n",
        "print(df.shape)"
      ],
      "metadata": {
        "colab": {
          "base_uri": "https://localhost:8080/"
        },
        "id": "SjmDJI26UXfX",
        "outputId": "77958ff2-e246-4fe0-9cf1-f6db8914ece0"
      },
      "execution_count": 177,
      "outputs": [
        {
          "output_type": "stream",
          "name": "stdout",
          "text": [
            "(39034, 5)\n"
          ]
        }
      ]
    },
    {
      "cell_type": "code",
      "source": [
        "df.head(4)"
      ],
      "metadata": {
        "colab": {
          "base_uri": "https://localhost:8080/",
          "height": 175
        },
        "id": "m1XWY-2_Clgh",
        "outputId": "df12fa7d-a3da-473d-d326-40d441b8dfa7"
      },
      "execution_count": 178,
      "outputs": [
        {
          "output_type": "execute_result",
          "data": {
            "text/plain": [
              "   Unnamed: 0                  eng                  ni1               ni2  \\\n",
              "0           0  arthropathology (n)  [,@:8r6up6’80l6d2i]                 k   \n",
              "1           1     -arthropathy (n)         [@:’8r0p68i]  arthropathie (f)   \n",
              "2           2      arthrophyma (n)      [,@:8r6u’faim6]                 k   \n",
              "3           3      arthrophyte (n)         [‘@:8r6fait]   arthrophyte (m)   \n",
              "\n",
              "              vn  \n",
              "0  bệnh học khớp  \n",
              "1      bệnh khớp  \n",
              "2      sưng khớp  \n",
              "3   dị vật khớp   "
            ],
            "text/html": [
              "\n",
              "  <div id=\"df-2e05bbd8-9204-49ff-92b8-652a6435b4c0\">\n",
              "    <div class=\"colab-df-container\">\n",
              "      <div>\n",
              "<style scoped>\n",
              "    .dataframe tbody tr th:only-of-type {\n",
              "        vertical-align: middle;\n",
              "    }\n",
              "\n",
              "    .dataframe tbody tr th {\n",
              "        vertical-align: top;\n",
              "    }\n",
              "\n",
              "    .dataframe thead th {\n",
              "        text-align: right;\n",
              "    }\n",
              "</style>\n",
              "<table border=\"1\" class=\"dataframe\">\n",
              "  <thead>\n",
              "    <tr style=\"text-align: right;\">\n",
              "      <th></th>\n",
              "      <th>Unnamed: 0</th>\n",
              "      <th>eng</th>\n",
              "      <th>ni1</th>\n",
              "      <th>ni2</th>\n",
              "      <th>vn</th>\n",
              "    </tr>\n",
              "  </thead>\n",
              "  <tbody>\n",
              "    <tr>\n",
              "      <th>0</th>\n",
              "      <td>0</td>\n",
              "      <td>arthropathology (n)</td>\n",
              "      <td>[,@:8r6up6’80l6d2i]</td>\n",
              "      <td>k</td>\n",
              "      <td>bệnh học khớp</td>\n",
              "    </tr>\n",
              "    <tr>\n",
              "      <th>1</th>\n",
              "      <td>1</td>\n",
              "      <td>-arthropathy (n)</td>\n",
              "      <td>[@:’8r0p68i]</td>\n",
              "      <td>arthropathie (f)</td>\n",
              "      <td>bệnh khớp</td>\n",
              "    </tr>\n",
              "    <tr>\n",
              "      <th>2</th>\n",
              "      <td>2</td>\n",
              "      <td>arthrophyma (n)</td>\n",
              "      <td>[,@:8r6u’faim6]</td>\n",
              "      <td>k</td>\n",
              "      <td>sưng khớp</td>\n",
              "    </tr>\n",
              "    <tr>\n",
              "      <th>3</th>\n",
              "      <td>3</td>\n",
              "      <td>arthrophyte (n)</td>\n",
              "      <td>[‘@:8r6fait]</td>\n",
              "      <td>arthrophyte (m)</td>\n",
              "      <td>dị vật khớp</td>\n",
              "    </tr>\n",
              "  </tbody>\n",
              "</table>\n",
              "</div>\n",
              "      <button class=\"colab-df-convert\" onclick=\"convertToInteractive('df-2e05bbd8-9204-49ff-92b8-652a6435b4c0')\"\n",
              "              title=\"Convert this dataframe to an interactive table.\"\n",
              "              style=\"display:none;\">\n",
              "        \n",
              "  <svg xmlns=\"http://www.w3.org/2000/svg\" height=\"24px\"viewBox=\"0 0 24 24\"\n",
              "       width=\"24px\">\n",
              "    <path d=\"M0 0h24v24H0V0z\" fill=\"none\"/>\n",
              "    <path d=\"M18.56 5.44l.94 2.06.94-2.06 2.06-.94-2.06-.94-.94-2.06-.94 2.06-2.06.94zm-11 1L8.5 8.5l.94-2.06 2.06-.94-2.06-.94L8.5 2.5l-.94 2.06-2.06.94zm10 10l.94 2.06.94-2.06 2.06-.94-2.06-.94-.94-2.06-.94 2.06-2.06.94z\"/><path d=\"M17.41 7.96l-1.37-1.37c-.4-.4-.92-.59-1.43-.59-.52 0-1.04.2-1.43.59L10.3 9.45l-7.72 7.72c-.78.78-.78 2.05 0 2.83L4 21.41c.39.39.9.59 1.41.59.51 0 1.02-.2 1.41-.59l7.78-7.78 2.81-2.81c.8-.78.8-2.07 0-2.86zM5.41 20L4 18.59l7.72-7.72 1.47 1.35L5.41 20z\"/>\n",
              "  </svg>\n",
              "      </button>\n",
              "      \n",
              "  <style>\n",
              "    .colab-df-container {\n",
              "      display:flex;\n",
              "      flex-wrap:wrap;\n",
              "      gap: 12px;\n",
              "    }\n",
              "\n",
              "    .colab-df-convert {\n",
              "      background-color: #E8F0FE;\n",
              "      border: none;\n",
              "      border-radius: 50%;\n",
              "      cursor: pointer;\n",
              "      display: none;\n",
              "      fill: #1967D2;\n",
              "      height: 32px;\n",
              "      padding: 0 0 0 0;\n",
              "      width: 32px;\n",
              "    }\n",
              "\n",
              "    .colab-df-convert:hover {\n",
              "      background-color: #E2EBFA;\n",
              "      box-shadow: 0px 1px 2px rgba(60, 64, 67, 0.3), 0px 1px 3px 1px rgba(60, 64, 67, 0.15);\n",
              "      fill: #174EA6;\n",
              "    }\n",
              "\n",
              "    [theme=dark] .colab-df-convert {\n",
              "      background-color: #3B4455;\n",
              "      fill: #D2E3FC;\n",
              "    }\n",
              "\n",
              "    [theme=dark] .colab-df-convert:hover {\n",
              "      background-color: #434B5C;\n",
              "      box-shadow: 0px 1px 3px 1px rgba(0, 0, 0, 0.15);\n",
              "      filter: drop-shadow(0px 1px 2px rgba(0, 0, 0, 0.3));\n",
              "      fill: #FFFFFF;\n",
              "    }\n",
              "  </style>\n",
              "\n",
              "      <script>\n",
              "        const buttonEl =\n",
              "          document.querySelector('#df-2e05bbd8-9204-49ff-92b8-652a6435b4c0 button.colab-df-convert');\n",
              "        buttonEl.style.display =\n",
              "          google.colab.kernel.accessAllowed ? 'block' : 'none';\n",
              "\n",
              "        async function convertToInteractive(key) {\n",
              "          const element = document.querySelector('#df-2e05bbd8-9204-49ff-92b8-652a6435b4c0');\n",
              "          const dataTable =\n",
              "            await google.colab.kernel.invokeFunction('convertToInteractive',\n",
              "                                                     [key], {});\n",
              "          if (!dataTable) return;\n",
              "\n",
              "          const docLinkHtml = 'Like what you see? Visit the ' +\n",
              "            '<a target=\"_blank\" href=https://colab.research.google.com/notebooks/data_table.ipynb>data table notebook</a>'\n",
              "            + ' to learn more about interactive tables.';\n",
              "          element.innerHTML = '';\n",
              "          dataTable['output_type'] = 'display_data';\n",
              "          await google.colab.output.renderOutput(dataTable, element);\n",
              "          const docLink = document.createElement('div');\n",
              "          docLink.innerHTML = docLinkHtml;\n",
              "          element.appendChild(docLink);\n",
              "        }\n",
              "      </script>\n",
              "    </div>\n",
              "  </div>\n",
              "  "
            ]
          },
          "metadata": {},
          "execution_count": 178
        }
      ]
    },
    {
      "cell_type": "code",
      "source": [
        "df = df.drop('Unnamed: 0', axis=1)"
      ],
      "metadata": {
        "id": "Eh9srrbNRFSZ"
      },
      "execution_count": 179,
      "outputs": []
    },
    {
      "cell_type": "code",
      "source": [
        "df = df.drop(['ni1', 'ni2'], axis=1)"
      ],
      "metadata": {
        "id": "TDzZ8QgQRFUp"
      },
      "execution_count": 180,
      "outputs": []
    },
    {
      "cell_type": "markdown",
      "source": [
        "### Droping NAs"
      ],
      "metadata": {
        "id": "QvhoJ9kTnUTf"
      }
    },
    {
      "cell_type": "code",
      "source": [
        "missing = df[df.isna().any(axis=1)]\n",
        "#missing.to_csv('/content/drive/MyDrive/Fall 2022 - Assignment/Software Construction/Project/full_data/final_missing.csv')\n",
        "missing.shape "
      ],
      "metadata": {
        "id": "bK78wlYtUXj4",
        "colab": {
          "base_uri": "https://localhost:8080/"
        },
        "outputId": "4d3435ce-a752-4271-8087-ea260262338a"
      },
      "execution_count": 181,
      "outputs": [
        {
          "output_type": "execute_result",
          "data": {
            "text/plain": [
              "(2679, 2)"
            ]
          },
          "metadata": {},
          "execution_count": 181
        }
      ]
    },
    {
      "cell_type": "code",
      "source": [
        "# Dropping NAs\n",
        "df = df.dropna(axis='index', how='any')\n",
        "print(df.shape)"
      ],
      "metadata": {
        "id": "JH72GhgXKXNB",
        "colab": {
          "base_uri": "https://localhost:8080/"
        },
        "outputId": "3042f06b-1567-4e68-8a78-86f93b138329"
      },
      "execution_count": 182,
      "outputs": [
        {
          "output_type": "stream",
          "name": "stdout",
          "text": [
            "(36355, 2)\n"
          ]
        }
      ]
    },
    {
      "cell_type": "markdown",
      "source": [
        "### Split cases with ```/``` into multiple rows\n",
        "Example: ```abulia (n) / abulic (a)\t``` becomes 2 rows ```abulia (n)``` and ```abulic (a)```"
      ],
      "metadata": {
        "id": "S0OnF8uYyGHX"
      }
    },
    {
      "cell_type": "code",
      "source": [
        "df_split = df.loc[df.eng.str.contains('/'), :].copy() # create a new df of only rows with '/'\n",
        "\n",
        "df = df.loc[~df.eng.str.contains('/'), :].copy() # remove them for now\n",
        "\n",
        "print(df_split.shape)\n",
        "print(df.shape)"
      ],
      "metadata": {
        "id": "poBYs17_y1f3",
        "colab": {
          "base_uri": "https://localhost:8080/"
        },
        "outputId": "0f779532-3343-4299-e37c-ebf43f770110"
      },
      "execution_count": 183,
      "outputs": [
        {
          "output_type": "stream",
          "name": "stdout",
          "text": [
            "(1598, 2)\n",
            "(34757, 2)\n"
          ]
        }
      ]
    },
    {
      "cell_type": "code",
      "source": [
        "# SOURE: https://stackoverflow.com/questions/58523316/split-rows-in-pandas-dataframe\n",
        "\n",
        "# for index, row in df.iterrows():\n",
        "#     split = row['Shape'].split(' / ')\n",
        "#     for shape in split:\n",
        "#         new_df = new_df.append(pd.DataFrame({'Color':[row['Color']], 'Shape':[shape], 'Price':[row['Price']]}))\n",
        "\n",
        "# new_df = new_df.reset_index(drop=True)\n",
        "\n",
        "df_split['eng'] = df_split.eng.str.split(\" / \")\n",
        "df_split = df_split.explode(\"eng\").reset_index(drop=True)\n",
        "df_split.head(2)\n",
        "print(df_split.shape)"
      ],
      "metadata": {
        "colab": {
          "base_uri": "https://localhost:8080/"
        },
        "id": "nAdZqijn0BL9",
        "outputId": "45faef1e-9c7c-4a7f-bce4-b1fc2c60fe51"
      },
      "execution_count": 184,
      "outputs": [
        {
          "output_type": "stream",
          "name": "stdout",
          "text": [
            "(3181, 2)\n"
          ]
        }
      ]
    },
    {
      "cell_type": "code",
      "source": [
        "# Append the splitted '/' cases back to the orginal data\n",
        "\n",
        "df = df.append(df_split, ignore_index=True)\n",
        "df.shape"
      ],
      "metadata": {
        "id": "NCdy0I-P2Jmt",
        "colab": {
          "base_uri": "https://localhost:8080/"
        },
        "outputId": "bcad5e58-e8df-47f4-9e48-84bbcb465341"
      },
      "execution_count": 185,
      "outputs": [
        {
          "output_type": "execute_result",
          "data": {
            "text/plain": [
              "(37938, 2)"
            ]
          },
          "metadata": {},
          "execution_count": 185
        }
      ]
    },
    {
      "cell_type": "markdown",
      "source": [
        "### Split cases with ```,``` into multiple rows\n",
        "Example: ```abiogenetic, abiogenous (a)``` becomes 2 rows : ```abiogenetic (a)``` and ```abiogenous (a)```"
      ],
      "metadata": {
        "id": "C-_CNEyg1-DE"
      }
    },
    {
      "cell_type": "code",
      "source": [
        "df_split_comma = df.loc[df.eng.str.contains(', '), :].copy() # extract rows with ', '\n",
        "df = df.loc[~df.eng.str.contains(', '), :].copy() # temporarily remove these rows\n",
        "print(df.shape)\n",
        "print(df_split_comma.shape)"
      ],
      "metadata": {
        "id": "11qUnmMK2I5U",
        "colab": {
          "base_uri": "https://localhost:8080/"
        },
        "outputId": "e518e1f9-1f45-4920-c5ec-78789d5323cc"
      },
      "execution_count": 186,
      "outputs": [
        {
          "output_type": "stream",
          "name": "stdout",
          "text": [
            "(36601, 2)\n",
            "(1337, 2)\n"
          ]
        }
      ]
    },
    {
      "cell_type": "code",
      "source": [
        "df_split_comma['eng'] = df_split_comma.eng.str.split(\", \")\n",
        "df_split_comma = df_split_comma.explode(\"eng\").reset_index(drop=True)\n",
        "df_split_comma.head(2)"
      ],
      "metadata": {
        "colab": {
          "base_uri": "https://localhost:8080/",
          "height": 112
        },
        "id": "WEhXMATI3bMQ",
        "outputId": "a6db4ff5-9ce1-4e4d-fa0a-67ab48b53933"
      },
      "execution_count": 187,
      "outputs": [
        {
          "output_type": "execute_result",
          "data": {
            "text/plain": [
              "                           eng                 vn\n",
              "0           arthropneumography  chụp khớp bơm khí\n",
              "1  arthropneumoradiography (n)  chụp khớp bơm khí"
            ],
            "text/html": [
              "\n",
              "  <div id=\"df-f4e9877d-8fbf-45c4-b514-5c41b0dc653f\">\n",
              "    <div class=\"colab-df-container\">\n",
              "      <div>\n",
              "<style scoped>\n",
              "    .dataframe tbody tr th:only-of-type {\n",
              "        vertical-align: middle;\n",
              "    }\n",
              "\n",
              "    .dataframe tbody tr th {\n",
              "        vertical-align: top;\n",
              "    }\n",
              "\n",
              "    .dataframe thead th {\n",
              "        text-align: right;\n",
              "    }\n",
              "</style>\n",
              "<table border=\"1\" class=\"dataframe\">\n",
              "  <thead>\n",
              "    <tr style=\"text-align: right;\">\n",
              "      <th></th>\n",
              "      <th>eng</th>\n",
              "      <th>vn</th>\n",
              "    </tr>\n",
              "  </thead>\n",
              "  <tbody>\n",
              "    <tr>\n",
              "      <th>0</th>\n",
              "      <td>arthropneumography</td>\n",
              "      <td>chụp khớp bơm khí</td>\n",
              "    </tr>\n",
              "    <tr>\n",
              "      <th>1</th>\n",
              "      <td>arthropneumoradiography (n)</td>\n",
              "      <td>chụp khớp bơm khí</td>\n",
              "    </tr>\n",
              "  </tbody>\n",
              "</table>\n",
              "</div>\n",
              "      <button class=\"colab-df-convert\" onclick=\"convertToInteractive('df-f4e9877d-8fbf-45c4-b514-5c41b0dc653f')\"\n",
              "              title=\"Convert this dataframe to an interactive table.\"\n",
              "              style=\"display:none;\">\n",
              "        \n",
              "  <svg xmlns=\"http://www.w3.org/2000/svg\" height=\"24px\"viewBox=\"0 0 24 24\"\n",
              "       width=\"24px\">\n",
              "    <path d=\"M0 0h24v24H0V0z\" fill=\"none\"/>\n",
              "    <path d=\"M18.56 5.44l.94 2.06.94-2.06 2.06-.94-2.06-.94-.94-2.06-.94 2.06-2.06.94zm-11 1L8.5 8.5l.94-2.06 2.06-.94-2.06-.94L8.5 2.5l-.94 2.06-2.06.94zm10 10l.94 2.06.94-2.06 2.06-.94-2.06-.94-.94-2.06-.94 2.06-2.06.94z\"/><path d=\"M17.41 7.96l-1.37-1.37c-.4-.4-.92-.59-1.43-.59-.52 0-1.04.2-1.43.59L10.3 9.45l-7.72 7.72c-.78.78-.78 2.05 0 2.83L4 21.41c.39.39.9.59 1.41.59.51 0 1.02-.2 1.41-.59l7.78-7.78 2.81-2.81c.8-.78.8-2.07 0-2.86zM5.41 20L4 18.59l7.72-7.72 1.47 1.35L5.41 20z\"/>\n",
              "  </svg>\n",
              "      </button>\n",
              "      \n",
              "  <style>\n",
              "    .colab-df-container {\n",
              "      display:flex;\n",
              "      flex-wrap:wrap;\n",
              "      gap: 12px;\n",
              "    }\n",
              "\n",
              "    .colab-df-convert {\n",
              "      background-color: #E8F0FE;\n",
              "      border: none;\n",
              "      border-radius: 50%;\n",
              "      cursor: pointer;\n",
              "      display: none;\n",
              "      fill: #1967D2;\n",
              "      height: 32px;\n",
              "      padding: 0 0 0 0;\n",
              "      width: 32px;\n",
              "    }\n",
              "\n",
              "    .colab-df-convert:hover {\n",
              "      background-color: #E2EBFA;\n",
              "      box-shadow: 0px 1px 2px rgba(60, 64, 67, 0.3), 0px 1px 3px 1px rgba(60, 64, 67, 0.15);\n",
              "      fill: #174EA6;\n",
              "    }\n",
              "\n",
              "    [theme=dark] .colab-df-convert {\n",
              "      background-color: #3B4455;\n",
              "      fill: #D2E3FC;\n",
              "    }\n",
              "\n",
              "    [theme=dark] .colab-df-convert:hover {\n",
              "      background-color: #434B5C;\n",
              "      box-shadow: 0px 1px 3px 1px rgba(0, 0, 0, 0.15);\n",
              "      filter: drop-shadow(0px 1px 2px rgba(0, 0, 0, 0.3));\n",
              "      fill: #FFFFFF;\n",
              "    }\n",
              "  </style>\n",
              "\n",
              "      <script>\n",
              "        const buttonEl =\n",
              "          document.querySelector('#df-f4e9877d-8fbf-45c4-b514-5c41b0dc653f button.colab-df-convert');\n",
              "        buttonEl.style.display =\n",
              "          google.colab.kernel.accessAllowed ? 'block' : 'none';\n",
              "\n",
              "        async function convertToInteractive(key) {\n",
              "          const element = document.querySelector('#df-f4e9877d-8fbf-45c4-b514-5c41b0dc653f');\n",
              "          const dataTable =\n",
              "            await google.colab.kernel.invokeFunction('convertToInteractive',\n",
              "                                                     [key], {});\n",
              "          if (!dataTable) return;\n",
              "\n",
              "          const docLinkHtml = 'Like what you see? Visit the ' +\n",
              "            '<a target=\"_blank\" href=https://colab.research.google.com/notebooks/data_table.ipynb>data table notebook</a>'\n",
              "            + ' to learn more about interactive tables.';\n",
              "          element.innerHTML = '';\n",
              "          dataTable['output_type'] = 'display_data';\n",
              "          await google.colab.output.renderOutput(dataTable, element);\n",
              "          const docLink = document.createElement('div');\n",
              "          docLink.innerHTML = docLinkHtml;\n",
              "          element.appendChild(docLink);\n",
              "        }\n",
              "      </script>\n",
              "    </div>\n",
              "  </div>\n",
              "  "
            ]
          },
          "metadata": {},
          "execution_count": 187
        }
      ]
    },
    {
      "cell_type": "markdown",
      "source": [
        "**Note**: Later on when adding word types (a, n, v...) we will use ```fillna('bfill')``` to account for those without a type\n",
        "Example: ```-aberration``` comes right before ```aberratio (n)``` so will be backfilled with ```(n)```"
      ],
      "metadata": {
        "id": "PIo0X1LG4RSF"
      }
    },
    {
      "cell_type": "code",
      "source": [
        "df = df.append(df_split_comma, ignore_index=True)\n",
        "print(df.shape)"
      ],
      "metadata": {
        "id": "2XOaijas3bOn",
        "colab": {
          "base_uri": "https://localhost:8080/"
        },
        "outputId": "1572bc6f-99fc-432c-f05a-51f8da34a373"
      },
      "execution_count": 188,
      "outputs": [
        {
          "output_type": "stream",
          "name": "stdout",
          "text": [
            "(39347, 2)\n"
          ]
        }
      ]
    },
    {
      "cell_type": "markdown",
      "source": [
        "### Extract word types (n a adj v...)"
      ],
      "metadata": {
        "id": "pPeVptM3nXVN"
      }
    },
    {
      "cell_type": "code",
      "source": [
        "df['word_type'] = df.eng\n",
        "df.head(3)"
      ],
      "metadata": {
        "colab": {
          "base_uri": "https://localhost:8080/",
          "height": 143
        },
        "id": "_ENU_LROLB0_",
        "outputId": "4f4e1d03-307d-4349-bd64-380dbb0a0a8e"
      },
      "execution_count": 189,
      "outputs": [
        {
          "output_type": "execute_result",
          "data": {
            "text/plain": [
              "                   eng             vn            word_type\n",
              "0  arthropathology (n)  bệnh học khớp  arthropathology (n)\n",
              "1     -arthropathy (n)      bệnh khớp     -arthropathy (n)\n",
              "2      arthrophyma (n)      sưng khớp      arthrophyma (n)"
            ],
            "text/html": [
              "\n",
              "  <div id=\"df-0371598a-2690-41fd-b7ee-53502aabf9fd\">\n",
              "    <div class=\"colab-df-container\">\n",
              "      <div>\n",
              "<style scoped>\n",
              "    .dataframe tbody tr th:only-of-type {\n",
              "        vertical-align: middle;\n",
              "    }\n",
              "\n",
              "    .dataframe tbody tr th {\n",
              "        vertical-align: top;\n",
              "    }\n",
              "\n",
              "    .dataframe thead th {\n",
              "        text-align: right;\n",
              "    }\n",
              "</style>\n",
              "<table border=\"1\" class=\"dataframe\">\n",
              "  <thead>\n",
              "    <tr style=\"text-align: right;\">\n",
              "      <th></th>\n",
              "      <th>eng</th>\n",
              "      <th>vn</th>\n",
              "      <th>word_type</th>\n",
              "    </tr>\n",
              "  </thead>\n",
              "  <tbody>\n",
              "    <tr>\n",
              "      <th>0</th>\n",
              "      <td>arthropathology (n)</td>\n",
              "      <td>bệnh học khớp</td>\n",
              "      <td>arthropathology (n)</td>\n",
              "    </tr>\n",
              "    <tr>\n",
              "      <th>1</th>\n",
              "      <td>-arthropathy (n)</td>\n",
              "      <td>bệnh khớp</td>\n",
              "      <td>-arthropathy (n)</td>\n",
              "    </tr>\n",
              "    <tr>\n",
              "      <th>2</th>\n",
              "      <td>arthrophyma (n)</td>\n",
              "      <td>sưng khớp</td>\n",
              "      <td>arthrophyma (n)</td>\n",
              "    </tr>\n",
              "  </tbody>\n",
              "</table>\n",
              "</div>\n",
              "      <button class=\"colab-df-convert\" onclick=\"convertToInteractive('df-0371598a-2690-41fd-b7ee-53502aabf9fd')\"\n",
              "              title=\"Convert this dataframe to an interactive table.\"\n",
              "              style=\"display:none;\">\n",
              "        \n",
              "  <svg xmlns=\"http://www.w3.org/2000/svg\" height=\"24px\"viewBox=\"0 0 24 24\"\n",
              "       width=\"24px\">\n",
              "    <path d=\"M0 0h24v24H0V0z\" fill=\"none\"/>\n",
              "    <path d=\"M18.56 5.44l.94 2.06.94-2.06 2.06-.94-2.06-.94-.94-2.06-.94 2.06-2.06.94zm-11 1L8.5 8.5l.94-2.06 2.06-.94-2.06-.94L8.5 2.5l-.94 2.06-2.06.94zm10 10l.94 2.06.94-2.06 2.06-.94-2.06-.94-.94-2.06-.94 2.06-2.06.94z\"/><path d=\"M17.41 7.96l-1.37-1.37c-.4-.4-.92-.59-1.43-.59-.52 0-1.04.2-1.43.59L10.3 9.45l-7.72 7.72c-.78.78-.78 2.05 0 2.83L4 21.41c.39.39.9.59 1.41.59.51 0 1.02-.2 1.41-.59l7.78-7.78 2.81-2.81c.8-.78.8-2.07 0-2.86zM5.41 20L4 18.59l7.72-7.72 1.47 1.35L5.41 20z\"/>\n",
              "  </svg>\n",
              "      </button>\n",
              "      \n",
              "  <style>\n",
              "    .colab-df-container {\n",
              "      display:flex;\n",
              "      flex-wrap:wrap;\n",
              "      gap: 12px;\n",
              "    }\n",
              "\n",
              "    .colab-df-convert {\n",
              "      background-color: #E8F0FE;\n",
              "      border: none;\n",
              "      border-radius: 50%;\n",
              "      cursor: pointer;\n",
              "      display: none;\n",
              "      fill: #1967D2;\n",
              "      height: 32px;\n",
              "      padding: 0 0 0 0;\n",
              "      width: 32px;\n",
              "    }\n",
              "\n",
              "    .colab-df-convert:hover {\n",
              "      background-color: #E2EBFA;\n",
              "      box-shadow: 0px 1px 2px rgba(60, 64, 67, 0.3), 0px 1px 3px 1px rgba(60, 64, 67, 0.15);\n",
              "      fill: #174EA6;\n",
              "    }\n",
              "\n",
              "    [theme=dark] .colab-df-convert {\n",
              "      background-color: #3B4455;\n",
              "      fill: #D2E3FC;\n",
              "    }\n",
              "\n",
              "    [theme=dark] .colab-df-convert:hover {\n",
              "      background-color: #434B5C;\n",
              "      box-shadow: 0px 1px 3px 1px rgba(0, 0, 0, 0.15);\n",
              "      filter: drop-shadow(0px 1px 2px rgba(0, 0, 0, 0.3));\n",
              "      fill: #FFFFFF;\n",
              "    }\n",
              "  </style>\n",
              "\n",
              "      <script>\n",
              "        const buttonEl =\n",
              "          document.querySelector('#df-0371598a-2690-41fd-b7ee-53502aabf9fd button.colab-df-convert');\n",
              "        buttonEl.style.display =\n",
              "          google.colab.kernel.accessAllowed ? 'block' : 'none';\n",
              "\n",
              "        async function convertToInteractive(key) {\n",
              "          const element = document.querySelector('#df-0371598a-2690-41fd-b7ee-53502aabf9fd');\n",
              "          const dataTable =\n",
              "            await google.colab.kernel.invokeFunction('convertToInteractive',\n",
              "                                                     [key], {});\n",
              "          if (!dataTable) return;\n",
              "\n",
              "          const docLinkHtml = 'Like what you see? Visit the ' +\n",
              "            '<a target=\"_blank\" href=https://colab.research.google.com/notebooks/data_table.ipynb>data table notebook</a>'\n",
              "            + ' to learn more about interactive tables.';\n",
              "          element.innerHTML = '';\n",
              "          dataTable['output_type'] = 'display_data';\n",
              "          await google.colab.output.renderOutput(dataTable, element);\n",
              "          const docLink = document.createElement('div');\n",
              "          docLink.innerHTML = docLinkHtml;\n",
              "          element.appendChild(docLink);\n",
              "        }\n",
              "      </script>\n",
              "    </div>\n",
              "  </div>\n",
              "  "
            ]
          },
          "metadata": {},
          "execution_count": 189
        }
      ]
    },
    {
      "cell_type": "markdown",
      "source": [
        "#### Remove cases with special ```ñn```"
      ],
      "metadata": {
        "id": "As72s01rndgK"
      }
    },
    {
      "cell_type": "code",
      "source": [
        "def remove_special(entry):\n",
        "  '''\n",
        "  For words that contain 'ñn', remove the part that comes after this symbol\n",
        "  '''\n",
        "  if 'ñn' in entry:\n",
        "    return entry.split('ñn')[0]\n",
        "  else:\n",
        "    return entry\n",
        "# lambda x: x.split('ñn')[0] if 'ñn' in x else x"
      ],
      "metadata": {
        "id": "Dxdz8ZCE49gh"
      },
      "execution_count": 190,
      "outputs": []
    },
    {
      "cell_type": "markdown",
      "source": [
        "#### Extract word types"
      ],
      "metadata": {
        "id": "qjsCcXcp5a45"
      }
    },
    {
      "cell_type": "code",
      "source": [
        "def get_word_type(entry):\n",
        "  '''\n",
        "  Works for easy cases. Extract the word type (n, a, v, ...) inside the brackets '()'\n",
        "  '''\n",
        "  entry = entry.rstrip()\n",
        "  if '(' in entry:\n",
        "    if len(entry.split('(')) == 2:\n",
        "      return entry.split('(')[1][:-1]\n",
        "\n",
        "    else:\n",
        "      return \"More than 1 ()'s\"\n",
        "\n",
        "  else:\n",
        "    return np.nan"
      ],
      "metadata": {
        "id": "vzoklmnPLI1i"
      },
      "execution_count": 191,
      "outputs": []
    },
    {
      "cell_type": "code",
      "source": [
        "df.word_type = df.word_type.apply(remove_special)\n",
        "df.word_type = df.word_type.apply(get_word_type)"
      ],
      "metadata": {
        "id": "r6OcYcHkgrhp"
      },
      "execution_count": 192,
      "outputs": []
    },
    {
      "cell_type": "code",
      "source": [],
      "metadata": {
        "id": "Nnu5Tzm-CzvU"
      },
      "execution_count": 192,
      "outputs": []
    },
    {
      "cell_type": "code",
      "source": [
        "df_word_type_na = df.loc[df.word_type.isna(), :].copy() # extract all words with NA\n",
        "df = df.loc[~df.word_type.isna(), :].copy() # temporarily remove these words\n",
        "\n",
        "print(df.shape)\n",
        "print(df_word_type_na.shape)"
      ],
      "metadata": {
        "id": "SMqrL2_6uSSJ",
        "colab": {
          "base_uri": "https://localhost:8080/"
        },
        "outputId": "cfbee0c7-b720-40d5-9d14-a11b31a44dd2"
      },
      "execution_count": 193,
      "outputs": [
        {
          "output_type": "stream",
          "name": "stdout",
          "text": [
            "(37725, 3)\n",
            "(1622, 3)\n"
          ]
        }
      ]
    },
    {
      "cell_type": "markdown",
      "source": [
        "#### Fill NAs\n",
        "Before, there were a few rows resulted from splitting ```', '``` that don't have a word type ```(n)``` afterwards. We fix this by matching them with the word type of the **\"true\"** words - which are the final words in a ```', '``` that contain the word type.\n",
        "\n",
        "Example: ```-aberration, aberratio (n)``` => ```abrratio``` is the **true** word, containing the type ```(n)```."
      ],
      "metadata": {
        "id": "PQGPuAPKC0-K"
      }
    },
    {
      "cell_type": "code",
      "source": [
        "def get_word_type_for_na(entry):\n",
        "  if entry in df_split_comma.eng.values:\n",
        "    curr_idx = np.where(df_split_comma.eng.values == entry)[0][0] # index of the entry\n",
        "\n",
        "    move = 1\n",
        "    while df_split_comma.eng.values[curr_idx + move][-1] != ')': # sometimes more than 1 word before \"true\" word\n",
        "      move += 1 # increase this until we find the \"true\" label.\n",
        "\n",
        "    type_idx = curr_idx + move # \"true\" word with word type\n",
        "    type_value = df_split_comma.eng.values[type_idx]\n",
        "\n",
        "    try:\n",
        "      return  df.loc[df.eng==type_value, 'word_type'].values[0]\n",
        "    except IndexError:\n",
        "      return np.nan\n",
        "  \n",
        "  else:\n",
        "    return np.nan"
      ],
      "metadata": {
        "id": "5kFS3ioH_j9A"
      },
      "execution_count": 194,
      "outputs": []
    },
    {
      "cell_type": "code",
      "source": [
        "df_word_type_na.word_type = df_word_type_na.eng\n",
        "df_word_type_na.word_type = df_word_type_na.word_type.apply(get_word_type_for_na)\n",
        "df_word_type_na.tail(10)"
      ],
      "metadata": {
        "colab": {
          "base_uri": "https://localhost:8080/",
          "height": 363
        },
        "id": "s-SLfglm51r1",
        "outputId": "acb0a3f8-42ca-4a7e-dc0d-7d5573cf26fe"
      },
      "execution_count": 195,
      "outputs": [
        {
          "output_type": "execute_result",
          "data": {
            "text/plain": [
              "                     eng                         vn word_type\n",
              "39327      brachycephaly             ngắn đầu (tật)         n\n",
              "39329     brachycephalic             ngắn đầu (tật)         a\n",
              "39331     bronchiectasic         giãn phế quản (ch)         a\n",
              "39333  -bronchopneumonia         viêm phế quản-phổi         n\n",
              "39335     -ambidexterity              thuận hai tay         n\n",
              "39337        -amyotrophy                teo cơ (ch)         n\n",
              "39339        anachoretic       dồn tới một nơi (sự)         a\n",
              "39341            anagogy         giải thích thần bí         n\n",
              "39343       stenocephaly                   đầu hẹp          n\n",
              "39345            stromal  chất đệm, chất nền,mô đỡ          a"
            ],
            "text/html": [
              "\n",
              "  <div id=\"df-6b03ac98-6212-4460-9495-eb00f8633051\">\n",
              "    <div class=\"colab-df-container\">\n",
              "      <div>\n",
              "<style scoped>\n",
              "    .dataframe tbody tr th:only-of-type {\n",
              "        vertical-align: middle;\n",
              "    }\n",
              "\n",
              "    .dataframe tbody tr th {\n",
              "        vertical-align: top;\n",
              "    }\n",
              "\n",
              "    .dataframe thead th {\n",
              "        text-align: right;\n",
              "    }\n",
              "</style>\n",
              "<table border=\"1\" class=\"dataframe\">\n",
              "  <thead>\n",
              "    <tr style=\"text-align: right;\">\n",
              "      <th></th>\n",
              "      <th>eng</th>\n",
              "      <th>vn</th>\n",
              "      <th>word_type</th>\n",
              "    </tr>\n",
              "  </thead>\n",
              "  <tbody>\n",
              "    <tr>\n",
              "      <th>39327</th>\n",
              "      <td>brachycephaly</td>\n",
              "      <td>ngắn đầu (tật)</td>\n",
              "      <td>n</td>\n",
              "    </tr>\n",
              "    <tr>\n",
              "      <th>39329</th>\n",
              "      <td>brachycephalic</td>\n",
              "      <td>ngắn đầu (tật)</td>\n",
              "      <td>a</td>\n",
              "    </tr>\n",
              "    <tr>\n",
              "      <th>39331</th>\n",
              "      <td>bronchiectasic</td>\n",
              "      <td>giãn phế quản (ch)</td>\n",
              "      <td>a</td>\n",
              "    </tr>\n",
              "    <tr>\n",
              "      <th>39333</th>\n",
              "      <td>-bronchopneumonia</td>\n",
              "      <td>viêm phế quản-phổi</td>\n",
              "      <td>n</td>\n",
              "    </tr>\n",
              "    <tr>\n",
              "      <th>39335</th>\n",
              "      <td>-ambidexterity</td>\n",
              "      <td>thuận hai tay</td>\n",
              "      <td>n</td>\n",
              "    </tr>\n",
              "    <tr>\n",
              "      <th>39337</th>\n",
              "      <td>-amyotrophy</td>\n",
              "      <td>teo cơ (ch)</td>\n",
              "      <td>n</td>\n",
              "    </tr>\n",
              "    <tr>\n",
              "      <th>39339</th>\n",
              "      <td>anachoretic</td>\n",
              "      <td>dồn tới một nơi (sự)</td>\n",
              "      <td>a</td>\n",
              "    </tr>\n",
              "    <tr>\n",
              "      <th>39341</th>\n",
              "      <td>anagogy</td>\n",
              "      <td>giải thích thần bí</td>\n",
              "      <td>n</td>\n",
              "    </tr>\n",
              "    <tr>\n",
              "      <th>39343</th>\n",
              "      <td>stenocephaly</td>\n",
              "      <td>đầu hẹp</td>\n",
              "      <td>n</td>\n",
              "    </tr>\n",
              "    <tr>\n",
              "      <th>39345</th>\n",
              "      <td>stromal</td>\n",
              "      <td>chất đệm, chất nền,mô đỡ</td>\n",
              "      <td>a</td>\n",
              "    </tr>\n",
              "  </tbody>\n",
              "</table>\n",
              "</div>\n",
              "      <button class=\"colab-df-convert\" onclick=\"convertToInteractive('df-6b03ac98-6212-4460-9495-eb00f8633051')\"\n",
              "              title=\"Convert this dataframe to an interactive table.\"\n",
              "              style=\"display:none;\">\n",
              "        \n",
              "  <svg xmlns=\"http://www.w3.org/2000/svg\" height=\"24px\"viewBox=\"0 0 24 24\"\n",
              "       width=\"24px\">\n",
              "    <path d=\"M0 0h24v24H0V0z\" fill=\"none\"/>\n",
              "    <path d=\"M18.56 5.44l.94 2.06.94-2.06 2.06-.94-2.06-.94-.94-2.06-.94 2.06-2.06.94zm-11 1L8.5 8.5l.94-2.06 2.06-.94-2.06-.94L8.5 2.5l-.94 2.06-2.06.94zm10 10l.94 2.06.94-2.06 2.06-.94-2.06-.94-.94-2.06-.94 2.06-2.06.94z\"/><path d=\"M17.41 7.96l-1.37-1.37c-.4-.4-.92-.59-1.43-.59-.52 0-1.04.2-1.43.59L10.3 9.45l-7.72 7.72c-.78.78-.78 2.05 0 2.83L4 21.41c.39.39.9.59 1.41.59.51 0 1.02-.2 1.41-.59l7.78-7.78 2.81-2.81c.8-.78.8-2.07 0-2.86zM5.41 20L4 18.59l7.72-7.72 1.47 1.35L5.41 20z\"/>\n",
              "  </svg>\n",
              "      </button>\n",
              "      \n",
              "  <style>\n",
              "    .colab-df-container {\n",
              "      display:flex;\n",
              "      flex-wrap:wrap;\n",
              "      gap: 12px;\n",
              "    }\n",
              "\n",
              "    .colab-df-convert {\n",
              "      background-color: #E8F0FE;\n",
              "      border: none;\n",
              "      border-radius: 50%;\n",
              "      cursor: pointer;\n",
              "      display: none;\n",
              "      fill: #1967D2;\n",
              "      height: 32px;\n",
              "      padding: 0 0 0 0;\n",
              "      width: 32px;\n",
              "    }\n",
              "\n",
              "    .colab-df-convert:hover {\n",
              "      background-color: #E2EBFA;\n",
              "      box-shadow: 0px 1px 2px rgba(60, 64, 67, 0.3), 0px 1px 3px 1px rgba(60, 64, 67, 0.15);\n",
              "      fill: #174EA6;\n",
              "    }\n",
              "\n",
              "    [theme=dark] .colab-df-convert {\n",
              "      background-color: #3B4455;\n",
              "      fill: #D2E3FC;\n",
              "    }\n",
              "\n",
              "    [theme=dark] .colab-df-convert:hover {\n",
              "      background-color: #434B5C;\n",
              "      box-shadow: 0px 1px 3px 1px rgba(0, 0, 0, 0.15);\n",
              "      filter: drop-shadow(0px 1px 2px rgba(0, 0, 0, 0.3));\n",
              "      fill: #FFFFFF;\n",
              "    }\n",
              "  </style>\n",
              "\n",
              "      <script>\n",
              "        const buttonEl =\n",
              "          document.querySelector('#df-6b03ac98-6212-4460-9495-eb00f8633051 button.colab-df-convert');\n",
              "        buttonEl.style.display =\n",
              "          google.colab.kernel.accessAllowed ? 'block' : 'none';\n",
              "\n",
              "        async function convertToInteractive(key) {\n",
              "          const element = document.querySelector('#df-6b03ac98-6212-4460-9495-eb00f8633051');\n",
              "          const dataTable =\n",
              "            await google.colab.kernel.invokeFunction('convertToInteractive',\n",
              "                                                     [key], {});\n",
              "          if (!dataTable) return;\n",
              "\n",
              "          const docLinkHtml = 'Like what you see? Visit the ' +\n",
              "            '<a target=\"_blank\" href=https://colab.research.google.com/notebooks/data_table.ipynb>data table notebook</a>'\n",
              "            + ' to learn more about interactive tables.';\n",
              "          element.innerHTML = '';\n",
              "          dataTable['output_type'] = 'display_data';\n",
              "          await google.colab.output.renderOutput(dataTable, element);\n",
              "          const docLink = document.createElement('div');\n",
              "          docLink.innerHTML = docLinkHtml;\n",
              "          element.appendChild(docLink);\n",
              "        }\n",
              "      </script>\n",
              "    </div>\n",
              "  </div>\n",
              "  "
            ]
          },
          "metadata": {},
          "execution_count": 195
        }
      ]
    },
    {
      "cell_type": "code",
      "source": [
        "df = df.append(df_word_type_na, ignore_index=True)\n",
        "df.shape"
      ],
      "metadata": {
        "colab": {
          "base_uri": "https://localhost:8080/"
        },
        "id": "BZxq7B_LUlU_",
        "outputId": "df9b86dd-9e7c-4612-ca8b-e7b8d89b4d58"
      },
      "execution_count": 196,
      "outputs": [
        {
          "output_type": "execute_result",
          "data": {
            "text/plain": [
              "(39347, 3)"
            ]
          },
          "metadata": {},
          "execution_count": 196
        }
      ]
    },
    {
      "cell_type": "markdown",
      "source": [
        "### Too edgy edge cases\n",
        "The rest are edge cases with no rules or standards for now."
      ],
      "metadata": {
        "id": "N71-N3YXFr2p"
      }
    },
    {
      "cell_type": "code",
      "source": [
        "df.word_type.value_counts()"
      ],
      "metadata": {
        "colab": {
          "base_uri": "https://localhost:8080/"
        },
        "id": "otrtM8a9GxG0",
        "outputId": "d6930807-7ab3-4721-c6b4-2af579a7698e"
      },
      "execution_count": 197,
      "outputs": [
        {
          "output_type": "execute_result",
          "data": {
            "text/plain": [
              "n                        27005\n",
              "a                         9592\n",
              "More than 1 ()'s           612\n",
              "a,n                        485\n",
              "v                          332\n",
              "                         ...  \n",
              "median lethal dose           1\n",
              "pref.)  copr                 1\n",
              "pref)  colp                  1\n",
              "kilogram                     1\n",
              "a)///////////////////        1\n",
              "Name: word_type, Length: 177, dtype: int64"
            ]
          },
          "metadata": {},
          "execution_count": 197
        }
      ]
    },
    {
      "cell_type": "code",
      "source": [
        "df[df.word_type=='diffraction']"
      ],
      "metadata": {
        "colab": {
          "base_uri": "https://localhost:8080/",
          "height": 81
        },
        "id": "pZQ1rFdBa0_F",
        "outputId": "52b17725-8b00-4970-bb71-68bc6797fff7"
      },
      "execution_count": 198,
      "outputs": [
        {
          "output_type": "execute_result",
          "data": {
            "text/plain": [
              "                        eng             vn    word_type\n",
              "8787  grating (diffraction)  mạng nhiễu xạ  diffraction"
            ],
            "text/html": [
              "\n",
              "  <div id=\"df-5e7caad8-f957-406a-859e-1528dedda9ed\">\n",
              "    <div class=\"colab-df-container\">\n",
              "      <div>\n",
              "<style scoped>\n",
              "    .dataframe tbody tr th:only-of-type {\n",
              "        vertical-align: middle;\n",
              "    }\n",
              "\n",
              "    .dataframe tbody tr th {\n",
              "        vertical-align: top;\n",
              "    }\n",
              "\n",
              "    .dataframe thead th {\n",
              "        text-align: right;\n",
              "    }\n",
              "</style>\n",
              "<table border=\"1\" class=\"dataframe\">\n",
              "  <thead>\n",
              "    <tr style=\"text-align: right;\">\n",
              "      <th></th>\n",
              "      <th>eng</th>\n",
              "      <th>vn</th>\n",
              "      <th>word_type</th>\n",
              "    </tr>\n",
              "  </thead>\n",
              "  <tbody>\n",
              "    <tr>\n",
              "      <th>8787</th>\n",
              "      <td>grating (diffraction)</td>\n",
              "      <td>mạng nhiễu xạ</td>\n",
              "      <td>diffraction</td>\n",
              "    </tr>\n",
              "  </tbody>\n",
              "</table>\n",
              "</div>\n",
              "      <button class=\"colab-df-convert\" onclick=\"convertToInteractive('df-5e7caad8-f957-406a-859e-1528dedda9ed')\"\n",
              "              title=\"Convert this dataframe to an interactive table.\"\n",
              "              style=\"display:none;\">\n",
              "        \n",
              "  <svg xmlns=\"http://www.w3.org/2000/svg\" height=\"24px\"viewBox=\"0 0 24 24\"\n",
              "       width=\"24px\">\n",
              "    <path d=\"M0 0h24v24H0V0z\" fill=\"none\"/>\n",
              "    <path d=\"M18.56 5.44l.94 2.06.94-2.06 2.06-.94-2.06-.94-.94-2.06-.94 2.06-2.06.94zm-11 1L8.5 8.5l.94-2.06 2.06-.94-2.06-.94L8.5 2.5l-.94 2.06-2.06.94zm10 10l.94 2.06.94-2.06 2.06-.94-2.06-.94-.94-2.06-.94 2.06-2.06.94z\"/><path d=\"M17.41 7.96l-1.37-1.37c-.4-.4-.92-.59-1.43-.59-.52 0-1.04.2-1.43.59L10.3 9.45l-7.72 7.72c-.78.78-.78 2.05 0 2.83L4 21.41c.39.39.9.59 1.41.59.51 0 1.02-.2 1.41-.59l7.78-7.78 2.81-2.81c.8-.78.8-2.07 0-2.86zM5.41 20L4 18.59l7.72-7.72 1.47 1.35L5.41 20z\"/>\n",
              "  </svg>\n",
              "      </button>\n",
              "      \n",
              "  <style>\n",
              "    .colab-df-container {\n",
              "      display:flex;\n",
              "      flex-wrap:wrap;\n",
              "      gap: 12px;\n",
              "    }\n",
              "\n",
              "    .colab-df-convert {\n",
              "      background-color: #E8F0FE;\n",
              "      border: none;\n",
              "      border-radius: 50%;\n",
              "      cursor: pointer;\n",
              "      display: none;\n",
              "      fill: #1967D2;\n",
              "      height: 32px;\n",
              "      padding: 0 0 0 0;\n",
              "      width: 32px;\n",
              "    }\n",
              "\n",
              "    .colab-df-convert:hover {\n",
              "      background-color: #E2EBFA;\n",
              "      box-shadow: 0px 1px 2px rgba(60, 64, 67, 0.3), 0px 1px 3px 1px rgba(60, 64, 67, 0.15);\n",
              "      fill: #174EA6;\n",
              "    }\n",
              "\n",
              "    [theme=dark] .colab-df-convert {\n",
              "      background-color: #3B4455;\n",
              "      fill: #D2E3FC;\n",
              "    }\n",
              "\n",
              "    [theme=dark] .colab-df-convert:hover {\n",
              "      background-color: #434B5C;\n",
              "      box-shadow: 0px 1px 3px 1px rgba(0, 0, 0, 0.15);\n",
              "      filter: drop-shadow(0px 1px 2px rgba(0, 0, 0, 0.3));\n",
              "      fill: #FFFFFF;\n",
              "    }\n",
              "  </style>\n",
              "\n",
              "      <script>\n",
              "        const buttonEl =\n",
              "          document.querySelector('#df-5e7caad8-f957-406a-859e-1528dedda9ed button.colab-df-convert');\n",
              "        buttonEl.style.display =\n",
              "          google.colab.kernel.accessAllowed ? 'block' : 'none';\n",
              "\n",
              "        async function convertToInteractive(key) {\n",
              "          const element = document.querySelector('#df-5e7caad8-f957-406a-859e-1528dedda9ed');\n",
              "          const dataTable =\n",
              "            await google.colab.kernel.invokeFunction('convertToInteractive',\n",
              "                                                     [key], {});\n",
              "          if (!dataTable) return;\n",
              "\n",
              "          const docLinkHtml = 'Like what you see? Visit the ' +\n",
              "            '<a target=\"_blank\" href=https://colab.research.google.com/notebooks/data_table.ipynb>data table notebook</a>'\n",
              "            + ' to learn more about interactive tables.';\n",
              "          element.innerHTML = '';\n",
              "          dataTable['output_type'] = 'display_data';\n",
              "          await google.colab.output.renderOutput(dataTable, element);\n",
              "          const docLink = document.createElement('div');\n",
              "          docLink.innerHTML = docLinkHtml;\n",
              "          element.appendChild(docLink);\n",
              "        }\n",
              "      </script>\n",
              "    </div>\n",
              "  </div>\n",
              "  "
            ]
          },
          "metadata": {},
          "execution_count": 198
        }
      ]
    },
    {
      "cell_type": "code",
      "source": [
        "edge = df_word_type_na.loc[df_word_type_na.word_type.isna(), :].copy()\n",
        "df_word_type_na = df_word_type_na.loc[~df_word_type_na.word_type.isna(), :].copy()\n",
        "\n",
        "df = df.append(df_word_type_na, ignore_index=True)"
      ],
      "metadata": {
        "id": "kHCiNlmQEatE"
      },
      "execution_count": 199,
      "outputs": []
    },
    {
      "cell_type": "code",
      "source": [
        "more_edge = df.loc[df.word_type==\"More than 1 ()'s\", :].copy()\n",
        "df = df.loc[df.word_type!=\"More than 1 ()'s\", :].copy()\n",
        "\n",
        "edge = edge.append(more_edge, ignore_index=True)"
      ],
      "metadata": {
        "id": "fBXytZQ9G0Af"
      },
      "execution_count": 200,
      "outputs": []
    },
    {
      "cell_type": "code",
      "source": [
        "edge"
      ],
      "metadata": {
        "colab": {
          "base_uri": "https://localhost:8080/",
          "height": 423
        },
        "id": "HFYGoKssUCmA",
        "outputId": "4102ca5b-f291-4430-e0ff-6c16027e6b1e"
      },
      "execution_count": 201,
      "outputs": [
        {
          "output_type": "execute_result",
          "data": {
            "text/plain": [
              "                              eng  \\\n",
              "0               -articulo-mortis    \n",
              "1                  -ascorbic acid   \n",
              "2    -atrioventricularis communis   \n",
              "3                  -axis cylinder   \n",
              "4                           anat.   \n",
              "..                            ...   \n",
              "873                   -babesiasis   \n",
              "874                      bacilli-   \n",
              "875                    baritosis    \n",
              "876                  sarsaparilla   \n",
              "877                      -zooglea   \n",
              "\n",
              "                                                 vn         word_type  \n",
              "0                        lúc hấp hối, lúc lâm chung               NaN  \n",
              "1                                     acid ascorbic               NaN  \n",
              "2                                ống nhĩ thất chung               NaN  \n",
              "3                                sợi trục, trụ trục               NaN  \n",
              "4                                     giải phẫu học               NaN  \n",
              "..                                              ...               ...  \n",
              "873                              bệnh nhiễm Babesia  More than 1 ()'s  \n",
              "874                                     trực khuẩn   More than 1 ()'s  \n",
              "875                              bệnh bụi bari phổi  More than 1 ()'s  \n",
              "876                                   thổ phục linh  More than 1 ()'s  \n",
              "877  tập đoàn khuẩn giao, khuẩn lạc trong chất nhầy  More than 1 ()'s  \n",
              "\n",
              "[878 rows x 3 columns]"
            ],
            "text/html": [
              "\n",
              "  <div id=\"df-7f4cb1fc-5951-4544-b966-41c8c4adbff3\">\n",
              "    <div class=\"colab-df-container\">\n",
              "      <div>\n",
              "<style scoped>\n",
              "    .dataframe tbody tr th:only-of-type {\n",
              "        vertical-align: middle;\n",
              "    }\n",
              "\n",
              "    .dataframe tbody tr th {\n",
              "        vertical-align: top;\n",
              "    }\n",
              "\n",
              "    .dataframe thead th {\n",
              "        text-align: right;\n",
              "    }\n",
              "</style>\n",
              "<table border=\"1\" class=\"dataframe\">\n",
              "  <thead>\n",
              "    <tr style=\"text-align: right;\">\n",
              "      <th></th>\n",
              "      <th>eng</th>\n",
              "      <th>vn</th>\n",
              "      <th>word_type</th>\n",
              "    </tr>\n",
              "  </thead>\n",
              "  <tbody>\n",
              "    <tr>\n",
              "      <th>0</th>\n",
              "      <td>-articulo-mortis</td>\n",
              "      <td>lúc hấp hối, lúc lâm chung</td>\n",
              "      <td>NaN</td>\n",
              "    </tr>\n",
              "    <tr>\n",
              "      <th>1</th>\n",
              "      <td>-ascorbic acid</td>\n",
              "      <td>acid ascorbic</td>\n",
              "      <td>NaN</td>\n",
              "    </tr>\n",
              "    <tr>\n",
              "      <th>2</th>\n",
              "      <td>-atrioventricularis communis</td>\n",
              "      <td>ống nhĩ thất chung</td>\n",
              "      <td>NaN</td>\n",
              "    </tr>\n",
              "    <tr>\n",
              "      <th>3</th>\n",
              "      <td>-axis cylinder</td>\n",
              "      <td>sợi trục, trụ trục</td>\n",
              "      <td>NaN</td>\n",
              "    </tr>\n",
              "    <tr>\n",
              "      <th>4</th>\n",
              "      <td>anat.</td>\n",
              "      <td>giải phẫu học</td>\n",
              "      <td>NaN</td>\n",
              "    </tr>\n",
              "    <tr>\n",
              "      <th>...</th>\n",
              "      <td>...</td>\n",
              "      <td>...</td>\n",
              "      <td>...</td>\n",
              "    </tr>\n",
              "    <tr>\n",
              "      <th>873</th>\n",
              "      <td>-babesiasis</td>\n",
              "      <td>bệnh nhiễm Babesia</td>\n",
              "      <td>More than 1 ()'s</td>\n",
              "    </tr>\n",
              "    <tr>\n",
              "      <th>874</th>\n",
              "      <td>bacilli-</td>\n",
              "      <td>trực khuẩn</td>\n",
              "      <td>More than 1 ()'s</td>\n",
              "    </tr>\n",
              "    <tr>\n",
              "      <th>875</th>\n",
              "      <td>baritosis</td>\n",
              "      <td>bệnh bụi bari phổi</td>\n",
              "      <td>More than 1 ()'s</td>\n",
              "    </tr>\n",
              "    <tr>\n",
              "      <th>876</th>\n",
              "      <td>sarsaparilla</td>\n",
              "      <td>thổ phục linh</td>\n",
              "      <td>More than 1 ()'s</td>\n",
              "    </tr>\n",
              "    <tr>\n",
              "      <th>877</th>\n",
              "      <td>-zooglea</td>\n",
              "      <td>tập đoàn khuẩn giao, khuẩn lạc trong chất nhầy</td>\n",
              "      <td>More than 1 ()'s</td>\n",
              "    </tr>\n",
              "  </tbody>\n",
              "</table>\n",
              "<p>878 rows × 3 columns</p>\n",
              "</div>\n",
              "      <button class=\"colab-df-convert\" onclick=\"convertToInteractive('df-7f4cb1fc-5951-4544-b966-41c8c4adbff3')\"\n",
              "              title=\"Convert this dataframe to an interactive table.\"\n",
              "              style=\"display:none;\">\n",
              "        \n",
              "  <svg xmlns=\"http://www.w3.org/2000/svg\" height=\"24px\"viewBox=\"0 0 24 24\"\n",
              "       width=\"24px\">\n",
              "    <path d=\"M0 0h24v24H0V0z\" fill=\"none\"/>\n",
              "    <path d=\"M18.56 5.44l.94 2.06.94-2.06 2.06-.94-2.06-.94-.94-2.06-.94 2.06-2.06.94zm-11 1L8.5 8.5l.94-2.06 2.06-.94-2.06-.94L8.5 2.5l-.94 2.06-2.06.94zm10 10l.94 2.06.94-2.06 2.06-.94-2.06-.94-.94-2.06-.94 2.06-2.06.94z\"/><path d=\"M17.41 7.96l-1.37-1.37c-.4-.4-.92-.59-1.43-.59-.52 0-1.04.2-1.43.59L10.3 9.45l-7.72 7.72c-.78.78-.78 2.05 0 2.83L4 21.41c.39.39.9.59 1.41.59.51 0 1.02-.2 1.41-.59l7.78-7.78 2.81-2.81c.8-.78.8-2.07 0-2.86zM5.41 20L4 18.59l7.72-7.72 1.47 1.35L5.41 20z\"/>\n",
              "  </svg>\n",
              "      </button>\n",
              "      \n",
              "  <style>\n",
              "    .colab-df-container {\n",
              "      display:flex;\n",
              "      flex-wrap:wrap;\n",
              "      gap: 12px;\n",
              "    }\n",
              "\n",
              "    .colab-df-convert {\n",
              "      background-color: #E8F0FE;\n",
              "      border: none;\n",
              "      border-radius: 50%;\n",
              "      cursor: pointer;\n",
              "      display: none;\n",
              "      fill: #1967D2;\n",
              "      height: 32px;\n",
              "      padding: 0 0 0 0;\n",
              "      width: 32px;\n",
              "    }\n",
              "\n",
              "    .colab-df-convert:hover {\n",
              "      background-color: #E2EBFA;\n",
              "      box-shadow: 0px 1px 2px rgba(60, 64, 67, 0.3), 0px 1px 3px 1px rgba(60, 64, 67, 0.15);\n",
              "      fill: #174EA6;\n",
              "    }\n",
              "\n",
              "    [theme=dark] .colab-df-convert {\n",
              "      background-color: #3B4455;\n",
              "      fill: #D2E3FC;\n",
              "    }\n",
              "\n",
              "    [theme=dark] .colab-df-convert:hover {\n",
              "      background-color: #434B5C;\n",
              "      box-shadow: 0px 1px 3px 1px rgba(0, 0, 0, 0.15);\n",
              "      filter: drop-shadow(0px 1px 2px rgba(0, 0, 0, 0.3));\n",
              "      fill: #FFFFFF;\n",
              "    }\n",
              "  </style>\n",
              "\n",
              "      <script>\n",
              "        const buttonEl =\n",
              "          document.querySelector('#df-7f4cb1fc-5951-4544-b966-41c8c4adbff3 button.colab-df-convert');\n",
              "        buttonEl.style.display =\n",
              "          google.colab.kernel.accessAllowed ? 'block' : 'none';\n",
              "\n",
              "        async function convertToInteractive(key) {\n",
              "          const element = document.querySelector('#df-7f4cb1fc-5951-4544-b966-41c8c4adbff3');\n",
              "          const dataTable =\n",
              "            await google.colab.kernel.invokeFunction('convertToInteractive',\n",
              "                                                     [key], {});\n",
              "          if (!dataTable) return;\n",
              "\n",
              "          const docLinkHtml = 'Like what you see? Visit the ' +\n",
              "            '<a target=\"_blank\" href=https://colab.research.google.com/notebooks/data_table.ipynb>data table notebook</a>'\n",
              "            + ' to learn more about interactive tables.';\n",
              "          element.innerHTML = '';\n",
              "          dataTable['output_type'] = 'display_data';\n",
              "          await google.colab.output.renderOutput(dataTable, element);\n",
              "          const docLink = document.createElement('div');\n",
              "          docLink.innerHTML = docLinkHtml;\n",
              "          element.appendChild(docLink);\n",
              "        }\n",
              "      </script>\n",
              "    </div>\n",
              "  </div>\n",
              "  "
            ]
          },
          "metadata": {},
          "execution_count": 201
        }
      ]
    },
    {
      "cell_type": "code",
      "source": [
        "# RUN ONCE\n",
        "edge.to_csv('/content/drive/MyDrive/Fall 2022 - Assignment/Software Construction/Project/full_data/edge_final.csv')"
      ],
      "metadata": {
        "id": "fAYJxdayFICs"
      },
      "execution_count": 202,
      "outputs": []
    },
    {
      "cell_type": "markdown",
      "source": [
        "#### Remove the word types in ```eng``` column"
      ],
      "metadata": {
        "id": "m-tHGWZHqQh7"
      }
    },
    {
      "cell_type": "code",
      "source": [
        "df.head()"
      ],
      "metadata": {
        "colab": {
          "base_uri": "https://localhost:8080/",
          "height": 206
        },
        "id": "rIPFB6TiqVm-",
        "outputId": "16b16e88-6c85-48d3-915f-cd15b5e35d90"
      },
      "execution_count": 203,
      "outputs": [
        {
          "output_type": "execute_result",
          "data": {
            "text/plain": [
              "                   eng                                       vn word_type\n",
              "0  arthropathology (n)                            bệnh học khớp         n\n",
              "1     -arthropathy (n)                                bệnh khớp         n\n",
              "2      arthrophyma (n)                                sưng khớp         n\n",
              "3      arthrophyte (n)                             dị vật khớp          n\n",
              "4        arthropod (n)  chân khớp (động vật), tiết chi động vật         n"
            ],
            "text/html": [
              "\n",
              "  <div id=\"df-3cd8087f-751c-4fc3-a4e5-f50940e7417d\">\n",
              "    <div class=\"colab-df-container\">\n",
              "      <div>\n",
              "<style scoped>\n",
              "    .dataframe tbody tr th:only-of-type {\n",
              "        vertical-align: middle;\n",
              "    }\n",
              "\n",
              "    .dataframe tbody tr th {\n",
              "        vertical-align: top;\n",
              "    }\n",
              "\n",
              "    .dataframe thead th {\n",
              "        text-align: right;\n",
              "    }\n",
              "</style>\n",
              "<table border=\"1\" class=\"dataframe\">\n",
              "  <thead>\n",
              "    <tr style=\"text-align: right;\">\n",
              "      <th></th>\n",
              "      <th>eng</th>\n",
              "      <th>vn</th>\n",
              "      <th>word_type</th>\n",
              "    </tr>\n",
              "  </thead>\n",
              "  <tbody>\n",
              "    <tr>\n",
              "      <th>0</th>\n",
              "      <td>arthropathology (n)</td>\n",
              "      <td>bệnh học khớp</td>\n",
              "      <td>n</td>\n",
              "    </tr>\n",
              "    <tr>\n",
              "      <th>1</th>\n",
              "      <td>-arthropathy (n)</td>\n",
              "      <td>bệnh khớp</td>\n",
              "      <td>n</td>\n",
              "    </tr>\n",
              "    <tr>\n",
              "      <th>2</th>\n",
              "      <td>arthrophyma (n)</td>\n",
              "      <td>sưng khớp</td>\n",
              "      <td>n</td>\n",
              "    </tr>\n",
              "    <tr>\n",
              "      <th>3</th>\n",
              "      <td>arthrophyte (n)</td>\n",
              "      <td>dị vật khớp</td>\n",
              "      <td>n</td>\n",
              "    </tr>\n",
              "    <tr>\n",
              "      <th>4</th>\n",
              "      <td>arthropod (n)</td>\n",
              "      <td>chân khớp (động vật), tiết chi động vật</td>\n",
              "      <td>n</td>\n",
              "    </tr>\n",
              "  </tbody>\n",
              "</table>\n",
              "</div>\n",
              "      <button class=\"colab-df-convert\" onclick=\"convertToInteractive('df-3cd8087f-751c-4fc3-a4e5-f50940e7417d')\"\n",
              "              title=\"Convert this dataframe to an interactive table.\"\n",
              "              style=\"display:none;\">\n",
              "        \n",
              "  <svg xmlns=\"http://www.w3.org/2000/svg\" height=\"24px\"viewBox=\"0 0 24 24\"\n",
              "       width=\"24px\">\n",
              "    <path d=\"M0 0h24v24H0V0z\" fill=\"none\"/>\n",
              "    <path d=\"M18.56 5.44l.94 2.06.94-2.06 2.06-.94-2.06-.94-.94-2.06-.94 2.06-2.06.94zm-11 1L8.5 8.5l.94-2.06 2.06-.94-2.06-.94L8.5 2.5l-.94 2.06-2.06.94zm10 10l.94 2.06.94-2.06 2.06-.94-2.06-.94-.94-2.06-.94 2.06-2.06.94z\"/><path d=\"M17.41 7.96l-1.37-1.37c-.4-.4-.92-.59-1.43-.59-.52 0-1.04.2-1.43.59L10.3 9.45l-7.72 7.72c-.78.78-.78 2.05 0 2.83L4 21.41c.39.39.9.59 1.41.59.51 0 1.02-.2 1.41-.59l7.78-7.78 2.81-2.81c.8-.78.8-2.07 0-2.86zM5.41 20L4 18.59l7.72-7.72 1.47 1.35L5.41 20z\"/>\n",
              "  </svg>\n",
              "      </button>\n",
              "      \n",
              "  <style>\n",
              "    .colab-df-container {\n",
              "      display:flex;\n",
              "      flex-wrap:wrap;\n",
              "      gap: 12px;\n",
              "    }\n",
              "\n",
              "    .colab-df-convert {\n",
              "      background-color: #E8F0FE;\n",
              "      border: none;\n",
              "      border-radius: 50%;\n",
              "      cursor: pointer;\n",
              "      display: none;\n",
              "      fill: #1967D2;\n",
              "      height: 32px;\n",
              "      padding: 0 0 0 0;\n",
              "      width: 32px;\n",
              "    }\n",
              "\n",
              "    .colab-df-convert:hover {\n",
              "      background-color: #E2EBFA;\n",
              "      box-shadow: 0px 1px 2px rgba(60, 64, 67, 0.3), 0px 1px 3px 1px rgba(60, 64, 67, 0.15);\n",
              "      fill: #174EA6;\n",
              "    }\n",
              "\n",
              "    [theme=dark] .colab-df-convert {\n",
              "      background-color: #3B4455;\n",
              "      fill: #D2E3FC;\n",
              "    }\n",
              "\n",
              "    [theme=dark] .colab-df-convert:hover {\n",
              "      background-color: #434B5C;\n",
              "      box-shadow: 0px 1px 3px 1px rgba(0, 0, 0, 0.15);\n",
              "      filter: drop-shadow(0px 1px 2px rgba(0, 0, 0, 0.3));\n",
              "      fill: #FFFFFF;\n",
              "    }\n",
              "  </style>\n",
              "\n",
              "      <script>\n",
              "        const buttonEl =\n",
              "          document.querySelector('#df-3cd8087f-751c-4fc3-a4e5-f50940e7417d button.colab-df-convert');\n",
              "        buttonEl.style.display =\n",
              "          google.colab.kernel.accessAllowed ? 'block' : 'none';\n",
              "\n",
              "        async function convertToInteractive(key) {\n",
              "          const element = document.querySelector('#df-3cd8087f-751c-4fc3-a4e5-f50940e7417d');\n",
              "          const dataTable =\n",
              "            await google.colab.kernel.invokeFunction('convertToInteractive',\n",
              "                                                     [key], {});\n",
              "          if (!dataTable) return;\n",
              "\n",
              "          const docLinkHtml = 'Like what you see? Visit the ' +\n",
              "            '<a target=\"_blank\" href=https://colab.research.google.com/notebooks/data_table.ipynb>data table notebook</a>'\n",
              "            + ' to learn more about interactive tables.';\n",
              "          element.innerHTML = '';\n",
              "          dataTable['output_type'] = 'display_data';\n",
              "          await google.colab.output.renderOutput(dataTable, element);\n",
              "          const docLink = document.createElement('div');\n",
              "          docLink.innerHTML = docLinkHtml;\n",
              "          element.appendChild(docLink);\n",
              "        }\n",
              "      </script>\n",
              "    </div>\n",
              "  </div>\n",
              "  "
            ]
          },
          "metadata": {},
          "execution_count": 203
        }
      ]
    },
    {
      "cell_type": "code",
      "source": [
        "# Idea is to split on \"(\", and keep only the [0] part\n",
        "def remove_word_type(entry):\n",
        "  if \"(\" in entry:\n",
        "    keep = entry.split('(')[0].rstrip()\n",
        "    return keep\n",
        "  else:\n",
        "    return entry\n",
        "\n",
        "df.eng = df.eng.apply(remove_word_type)"
      ],
      "metadata": {
        "id": "XQU56T7HqVpP"
      },
      "execution_count": 204,
      "outputs": []
    },
    {
      "cell_type": "markdown",
      "source": [
        "### Add new ```word_type_vn``` column\n"
      ],
      "metadata": {
        "id": "jTU8IFO0rQCk"
      }
    },
    {
      "cell_type": "code",
      "source": [
        "df.word_type.value_counts()"
      ],
      "metadata": {
        "colab": {
          "base_uri": "https://localhost:8080/"
        },
        "id": "lBBvPLbzqzOh",
        "outputId": "cf743125-bc62-42fe-f488-83737a211d85"
      },
      "execution_count": 205,
      "outputs": [
        {
          "output_type": "execute_result",
          "data": {
            "text/plain": [
              "n                        27873\n",
              "a                        10032\n",
              "a,n                        499\n",
              "v                          338\n",
              "pref.                      171\n",
              "                         ...  \n",
              "median lethal dose           1\n",
              "pref.)  copr                 1\n",
              "pref)  colp                  1\n",
              "kilogram                     1\n",
              "a)///////////////////        1\n",
              "Name: word_type, Length: 176, dtype: int64"
            ]
          },
          "metadata": {},
          "execution_count": 205
        }
      ]
    },
    {
      "cell_type": "code",
      "source": [
        "df['word_type_vn'] = df.word_type\n"
      ],
      "metadata": {
        "id": "S2UULXSBrt52"
      },
      "execution_count": 206,
      "outputs": []
    },
    {
      "cell_type": "code",
      "source": [
        "df.word_type_vn.value_counts()"
      ],
      "metadata": {
        "colab": {
          "base_uri": "https://localhost:8080/"
        },
        "id": "GyKrO95EtwBl",
        "outputId": "4e6d6e56-fd0a-4075-844c-6067fe450cd3"
      },
      "execution_count": 207,
      "outputs": [
        {
          "output_type": "execute_result",
          "data": {
            "text/plain": [
              "n                        27873\n",
              "a                        10032\n",
              "a,n                        499\n",
              "v                          338\n",
              "pref.                      171\n",
              "                         ...  \n",
              "median lethal dose           1\n",
              "pref.)  copr                 1\n",
              "pref)  colp                  1\n",
              "kilogram                     1\n",
              "a)///////////////////        1\n",
              "Name: word_type_vn, Length: 176, dtype: int64"
            ]
          },
          "metadata": {},
          "execution_count": 207
        }
      ]
    },
    {
      "cell_type": "code",
      "source": [
        "df.word_type_vn.value_counts().head(45)"
      ],
      "metadata": {
        "colab": {
          "base_uri": "https://localhost:8080/"
        },
        "id": "HAfiXitgdWiC",
        "outputId": "a7fa32f5-a2e8-4f1b-f35f-25cdc8a1e30b"
      },
      "execution_count": 209,
      "outputs": [
        {
          "output_type": "execute_result",
          "data": {
            "text/plain": [
              "n                             27873\n",
              "a                             10032\n",
              "a,n                             499\n",
              "v                               338\n",
              "pref.                           171\n",
              "a.n                             116\n",
              "F                                87\n",
              "suff.                            86\n",
              "L                                71\n",
              "m                                41\n",
              "ad                               36\n",
              " n                               35\n",
              "pref.)                           34\n",
              "f                                27\n",
              "o)                               22\n",
              "v,n                              20\n",
              "disorder                         19\n",
              "n,v                              17\n",
              "pref.)                           16\n",
              "ad.                              16\n",
              "suff.)                           15\n",
              "pref                             15\n",
              "                                 14\n",
              "suff.)                           12\n",
              "n)                                8\n",
              "v.n                               6\n",
              "pref)                             6\n",
              "a,v                               5\n",
              " a                                5\n",
              "n.pl                              5\n",
              "n                                 5\n",
              "o)-                               4\n",
              "n.a                               4\n",
              "n.v                               4\n",
              "G                                 4\n",
              "pref)                             3\n",
              "left  position                    3\n",
              "talipes                           3\n",
              "let twice as much be given        3\n",
              "kilodalton                        3\n",
              "milliequivalent                   3\n",
              "n)                                3\n",
              "n)?                               3\n",
              "kilo electron volt                3\n",
              "a,m                               3\n",
              "Name: word_type_vn, dtype: int64"
            ]
          },
          "metadata": {},
          "execution_count": 209
        }
      ]
    },
    {
      "cell_type": "code",
      "source": [
        "def get_word_type_vn(entry):\n",
        "  entry = str(entry)\n",
        "  if entry == 'n':\n",
        "    return 'danh từ'\n",
        "  if entry == 'a':\n",
        "    return 'tính từ'\n",
        "  if entry == 'v':\n",
        "    return 'động từ'\n",
        "  if 'pref' in entry: # prefix\n",
        "    return 'tiền tố'\n",
        "  if 'suff' in entry:\n",
        "    return 'hậu tố'\n",
        "  else:\n",
        "    if 'a' in entry and len(entry) <= 3:\n",
        "      return 'tính từ'\n",
        "    if 'n' in entry and len(entry) <= 3:\n",
        "      return 'danh từ'\n",
        "    if 'v' in entry and len(entry) <= 3:\n",
        "      return 'động từ'\n",
        "  return entry"
      ],
      "metadata": {
        "id": "C28yYlaqtwD_"
      },
      "execution_count": 210,
      "outputs": []
    },
    {
      "cell_type": "code",
      "source": [
        "df.head()"
      ],
      "metadata": {
        "colab": {
          "base_uri": "https://localhost:8080/",
          "height": 206
        },
        "id": "ili4sJCpdUN-",
        "outputId": "b2a5c24b-dee0-42ea-d101-67c6197a49c3"
      },
      "execution_count": 211,
      "outputs": [
        {
          "output_type": "execute_result",
          "data": {
            "text/plain": [
              "               eng                                       vn word_type  \\\n",
              "0  arthropathology                            bệnh học khớp         n   \n",
              "1     -arthropathy                                bệnh khớp         n   \n",
              "2      arthrophyma                                sưng khớp         n   \n",
              "3      arthrophyte                             dị vật khớp          n   \n",
              "4        arthropod  chân khớp (động vật), tiết chi động vật         n   \n",
              "\n",
              "  word_type_vn  \n",
              "0            n  \n",
              "1            n  \n",
              "2            n  \n",
              "3            n  \n",
              "4            n  "
            ],
            "text/html": [
              "\n",
              "  <div id=\"df-151e7b8f-cba0-49a6-a8f5-0a541f7b0500\">\n",
              "    <div class=\"colab-df-container\">\n",
              "      <div>\n",
              "<style scoped>\n",
              "    .dataframe tbody tr th:only-of-type {\n",
              "        vertical-align: middle;\n",
              "    }\n",
              "\n",
              "    .dataframe tbody tr th {\n",
              "        vertical-align: top;\n",
              "    }\n",
              "\n",
              "    .dataframe thead th {\n",
              "        text-align: right;\n",
              "    }\n",
              "</style>\n",
              "<table border=\"1\" class=\"dataframe\">\n",
              "  <thead>\n",
              "    <tr style=\"text-align: right;\">\n",
              "      <th></th>\n",
              "      <th>eng</th>\n",
              "      <th>vn</th>\n",
              "      <th>word_type</th>\n",
              "      <th>word_type_vn</th>\n",
              "    </tr>\n",
              "  </thead>\n",
              "  <tbody>\n",
              "    <tr>\n",
              "      <th>0</th>\n",
              "      <td>arthropathology</td>\n",
              "      <td>bệnh học khớp</td>\n",
              "      <td>n</td>\n",
              "      <td>n</td>\n",
              "    </tr>\n",
              "    <tr>\n",
              "      <th>1</th>\n",
              "      <td>-arthropathy</td>\n",
              "      <td>bệnh khớp</td>\n",
              "      <td>n</td>\n",
              "      <td>n</td>\n",
              "    </tr>\n",
              "    <tr>\n",
              "      <th>2</th>\n",
              "      <td>arthrophyma</td>\n",
              "      <td>sưng khớp</td>\n",
              "      <td>n</td>\n",
              "      <td>n</td>\n",
              "    </tr>\n",
              "    <tr>\n",
              "      <th>3</th>\n",
              "      <td>arthrophyte</td>\n",
              "      <td>dị vật khớp</td>\n",
              "      <td>n</td>\n",
              "      <td>n</td>\n",
              "    </tr>\n",
              "    <tr>\n",
              "      <th>4</th>\n",
              "      <td>arthropod</td>\n",
              "      <td>chân khớp (động vật), tiết chi động vật</td>\n",
              "      <td>n</td>\n",
              "      <td>n</td>\n",
              "    </tr>\n",
              "  </tbody>\n",
              "</table>\n",
              "</div>\n",
              "      <button class=\"colab-df-convert\" onclick=\"convertToInteractive('df-151e7b8f-cba0-49a6-a8f5-0a541f7b0500')\"\n",
              "              title=\"Convert this dataframe to an interactive table.\"\n",
              "              style=\"display:none;\">\n",
              "        \n",
              "  <svg xmlns=\"http://www.w3.org/2000/svg\" height=\"24px\"viewBox=\"0 0 24 24\"\n",
              "       width=\"24px\">\n",
              "    <path d=\"M0 0h24v24H0V0z\" fill=\"none\"/>\n",
              "    <path d=\"M18.56 5.44l.94 2.06.94-2.06 2.06-.94-2.06-.94-.94-2.06-.94 2.06-2.06.94zm-11 1L8.5 8.5l.94-2.06 2.06-.94-2.06-.94L8.5 2.5l-.94 2.06-2.06.94zm10 10l.94 2.06.94-2.06 2.06-.94-2.06-.94-.94-2.06-.94 2.06-2.06.94z\"/><path d=\"M17.41 7.96l-1.37-1.37c-.4-.4-.92-.59-1.43-.59-.52 0-1.04.2-1.43.59L10.3 9.45l-7.72 7.72c-.78.78-.78 2.05 0 2.83L4 21.41c.39.39.9.59 1.41.59.51 0 1.02-.2 1.41-.59l7.78-7.78 2.81-2.81c.8-.78.8-2.07 0-2.86zM5.41 20L4 18.59l7.72-7.72 1.47 1.35L5.41 20z\"/>\n",
              "  </svg>\n",
              "      </button>\n",
              "      \n",
              "  <style>\n",
              "    .colab-df-container {\n",
              "      display:flex;\n",
              "      flex-wrap:wrap;\n",
              "      gap: 12px;\n",
              "    }\n",
              "\n",
              "    .colab-df-convert {\n",
              "      background-color: #E8F0FE;\n",
              "      border: none;\n",
              "      border-radius: 50%;\n",
              "      cursor: pointer;\n",
              "      display: none;\n",
              "      fill: #1967D2;\n",
              "      height: 32px;\n",
              "      padding: 0 0 0 0;\n",
              "      width: 32px;\n",
              "    }\n",
              "\n",
              "    .colab-df-convert:hover {\n",
              "      background-color: #E2EBFA;\n",
              "      box-shadow: 0px 1px 2px rgba(60, 64, 67, 0.3), 0px 1px 3px 1px rgba(60, 64, 67, 0.15);\n",
              "      fill: #174EA6;\n",
              "    }\n",
              "\n",
              "    [theme=dark] .colab-df-convert {\n",
              "      background-color: #3B4455;\n",
              "      fill: #D2E3FC;\n",
              "    }\n",
              "\n",
              "    [theme=dark] .colab-df-convert:hover {\n",
              "      background-color: #434B5C;\n",
              "      box-shadow: 0px 1px 3px 1px rgba(0, 0, 0, 0.15);\n",
              "      filter: drop-shadow(0px 1px 2px rgba(0, 0, 0, 0.3));\n",
              "      fill: #FFFFFF;\n",
              "    }\n",
              "  </style>\n",
              "\n",
              "      <script>\n",
              "        const buttonEl =\n",
              "          document.querySelector('#df-151e7b8f-cba0-49a6-a8f5-0a541f7b0500 button.colab-df-convert');\n",
              "        buttonEl.style.display =\n",
              "          google.colab.kernel.accessAllowed ? 'block' : 'none';\n",
              "\n",
              "        async function convertToInteractive(key) {\n",
              "          const element = document.querySelector('#df-151e7b8f-cba0-49a6-a8f5-0a541f7b0500');\n",
              "          const dataTable =\n",
              "            await google.colab.kernel.invokeFunction('convertToInteractive',\n",
              "                                                     [key], {});\n",
              "          if (!dataTable) return;\n",
              "\n",
              "          const docLinkHtml = 'Like what you see? Visit the ' +\n",
              "            '<a target=\"_blank\" href=https://colab.research.google.com/notebooks/data_table.ipynb>data table notebook</a>'\n",
              "            + ' to learn more about interactive tables.';\n",
              "          element.innerHTML = '';\n",
              "          dataTable['output_type'] = 'display_data';\n",
              "          await google.colab.output.renderOutput(dataTable, element);\n",
              "          const docLink = document.createElement('div');\n",
              "          docLink.innerHTML = docLinkHtml;\n",
              "          element.appendChild(docLink);\n",
              "        }\n",
              "      </script>\n",
              "    </div>\n",
              "  </div>\n",
              "  "
            ]
          },
          "metadata": {},
          "execution_count": 211
        }
      ]
    },
    {
      "cell_type": "code",
      "source": [
        "df.word_type_vn = df.word_type_vn.apply(get_word_type_vn)"
      ],
      "metadata": {
        "id": "IiNv6RC-twGY"
      },
      "execution_count": 212,
      "outputs": []
    },
    {
      "cell_type": "code",
      "source": [
        "df.head(10)"
      ],
      "metadata": {
        "colab": {
          "base_uri": "https://localhost:8080/",
          "height": 363
        },
        "id": "FAiSF-wQpThe",
        "outputId": "23da564a-39c3-4179-bcb2-22d87cea6570"
      },
      "execution_count": 213,
      "outputs": [
        {
          "output_type": "execute_result",
          "data": {
            "text/plain": [
              "                  eng                                       vn word_type  \\\n",
              "0     arthropathology                            bệnh học khớp         n   \n",
              "1        -arthropathy                                bệnh khớp         n   \n",
              "2         arthrophyma                                sưng khớp         n   \n",
              "3         arthrophyte                             dị vật khớp          n   \n",
              "4           arthropod  chân khớp (động vật), tiết chi động vật         n   \n",
              "5         -Arthropoda                        chân khớp (ngành)         n   \n",
              "6       -arthropyosis                        sinh mủ khớp (sự)         n   \n",
              "7         arthrorisis                      hạn chế khớp (thth)         n   \n",
              "8    arthroscintigram                        nhấp nháy đồ khớp         n   \n",
              "9  arthroscintigraphy              chụp nhấp nháy khớp (thuật)         n   \n",
              "\n",
              "  word_type_vn  \n",
              "0      danh từ  \n",
              "1      danh từ  \n",
              "2      danh từ  \n",
              "3      danh từ  \n",
              "4      danh từ  \n",
              "5      danh từ  \n",
              "6      danh từ  \n",
              "7      danh từ  \n",
              "8      danh từ  \n",
              "9      danh từ  "
            ],
            "text/html": [
              "\n",
              "  <div id=\"df-0ca6715c-dcc8-403d-982b-c97d0241734f\">\n",
              "    <div class=\"colab-df-container\">\n",
              "      <div>\n",
              "<style scoped>\n",
              "    .dataframe tbody tr th:only-of-type {\n",
              "        vertical-align: middle;\n",
              "    }\n",
              "\n",
              "    .dataframe tbody tr th {\n",
              "        vertical-align: top;\n",
              "    }\n",
              "\n",
              "    .dataframe thead th {\n",
              "        text-align: right;\n",
              "    }\n",
              "</style>\n",
              "<table border=\"1\" class=\"dataframe\">\n",
              "  <thead>\n",
              "    <tr style=\"text-align: right;\">\n",
              "      <th></th>\n",
              "      <th>eng</th>\n",
              "      <th>vn</th>\n",
              "      <th>word_type</th>\n",
              "      <th>word_type_vn</th>\n",
              "    </tr>\n",
              "  </thead>\n",
              "  <tbody>\n",
              "    <tr>\n",
              "      <th>0</th>\n",
              "      <td>arthropathology</td>\n",
              "      <td>bệnh học khớp</td>\n",
              "      <td>n</td>\n",
              "      <td>danh từ</td>\n",
              "    </tr>\n",
              "    <tr>\n",
              "      <th>1</th>\n",
              "      <td>-arthropathy</td>\n",
              "      <td>bệnh khớp</td>\n",
              "      <td>n</td>\n",
              "      <td>danh từ</td>\n",
              "    </tr>\n",
              "    <tr>\n",
              "      <th>2</th>\n",
              "      <td>arthrophyma</td>\n",
              "      <td>sưng khớp</td>\n",
              "      <td>n</td>\n",
              "      <td>danh từ</td>\n",
              "    </tr>\n",
              "    <tr>\n",
              "      <th>3</th>\n",
              "      <td>arthrophyte</td>\n",
              "      <td>dị vật khớp</td>\n",
              "      <td>n</td>\n",
              "      <td>danh từ</td>\n",
              "    </tr>\n",
              "    <tr>\n",
              "      <th>4</th>\n",
              "      <td>arthropod</td>\n",
              "      <td>chân khớp (động vật), tiết chi động vật</td>\n",
              "      <td>n</td>\n",
              "      <td>danh từ</td>\n",
              "    </tr>\n",
              "    <tr>\n",
              "      <th>5</th>\n",
              "      <td>-Arthropoda</td>\n",
              "      <td>chân khớp (ngành)</td>\n",
              "      <td>n</td>\n",
              "      <td>danh từ</td>\n",
              "    </tr>\n",
              "    <tr>\n",
              "      <th>6</th>\n",
              "      <td>-arthropyosis</td>\n",
              "      <td>sinh mủ khớp (sự)</td>\n",
              "      <td>n</td>\n",
              "      <td>danh từ</td>\n",
              "    </tr>\n",
              "    <tr>\n",
              "      <th>7</th>\n",
              "      <td>arthrorisis</td>\n",
              "      <td>hạn chế khớp (thth)</td>\n",
              "      <td>n</td>\n",
              "      <td>danh từ</td>\n",
              "    </tr>\n",
              "    <tr>\n",
              "      <th>8</th>\n",
              "      <td>arthroscintigram</td>\n",
              "      <td>nhấp nháy đồ khớp</td>\n",
              "      <td>n</td>\n",
              "      <td>danh từ</td>\n",
              "    </tr>\n",
              "    <tr>\n",
              "      <th>9</th>\n",
              "      <td>arthroscintigraphy</td>\n",
              "      <td>chụp nhấp nháy khớp (thuật)</td>\n",
              "      <td>n</td>\n",
              "      <td>danh từ</td>\n",
              "    </tr>\n",
              "  </tbody>\n",
              "</table>\n",
              "</div>\n",
              "      <button class=\"colab-df-convert\" onclick=\"convertToInteractive('df-0ca6715c-dcc8-403d-982b-c97d0241734f')\"\n",
              "              title=\"Convert this dataframe to an interactive table.\"\n",
              "              style=\"display:none;\">\n",
              "        \n",
              "  <svg xmlns=\"http://www.w3.org/2000/svg\" height=\"24px\"viewBox=\"0 0 24 24\"\n",
              "       width=\"24px\">\n",
              "    <path d=\"M0 0h24v24H0V0z\" fill=\"none\"/>\n",
              "    <path d=\"M18.56 5.44l.94 2.06.94-2.06 2.06-.94-2.06-.94-.94-2.06-.94 2.06-2.06.94zm-11 1L8.5 8.5l.94-2.06 2.06-.94-2.06-.94L8.5 2.5l-.94 2.06-2.06.94zm10 10l.94 2.06.94-2.06 2.06-.94-2.06-.94-.94-2.06-.94 2.06-2.06.94z\"/><path d=\"M17.41 7.96l-1.37-1.37c-.4-.4-.92-.59-1.43-.59-.52 0-1.04.2-1.43.59L10.3 9.45l-7.72 7.72c-.78.78-.78 2.05 0 2.83L4 21.41c.39.39.9.59 1.41.59.51 0 1.02-.2 1.41-.59l7.78-7.78 2.81-2.81c.8-.78.8-2.07 0-2.86zM5.41 20L4 18.59l7.72-7.72 1.47 1.35L5.41 20z\"/>\n",
              "  </svg>\n",
              "      </button>\n",
              "      \n",
              "  <style>\n",
              "    .colab-df-container {\n",
              "      display:flex;\n",
              "      flex-wrap:wrap;\n",
              "      gap: 12px;\n",
              "    }\n",
              "\n",
              "    .colab-df-convert {\n",
              "      background-color: #E8F0FE;\n",
              "      border: none;\n",
              "      border-radius: 50%;\n",
              "      cursor: pointer;\n",
              "      display: none;\n",
              "      fill: #1967D2;\n",
              "      height: 32px;\n",
              "      padding: 0 0 0 0;\n",
              "      width: 32px;\n",
              "    }\n",
              "\n",
              "    .colab-df-convert:hover {\n",
              "      background-color: #E2EBFA;\n",
              "      box-shadow: 0px 1px 2px rgba(60, 64, 67, 0.3), 0px 1px 3px 1px rgba(60, 64, 67, 0.15);\n",
              "      fill: #174EA6;\n",
              "    }\n",
              "\n",
              "    [theme=dark] .colab-df-convert {\n",
              "      background-color: #3B4455;\n",
              "      fill: #D2E3FC;\n",
              "    }\n",
              "\n",
              "    [theme=dark] .colab-df-convert:hover {\n",
              "      background-color: #434B5C;\n",
              "      box-shadow: 0px 1px 3px 1px rgba(0, 0, 0, 0.15);\n",
              "      filter: drop-shadow(0px 1px 2px rgba(0, 0, 0, 0.3));\n",
              "      fill: #FFFFFF;\n",
              "    }\n",
              "  </style>\n",
              "\n",
              "      <script>\n",
              "        const buttonEl =\n",
              "          document.querySelector('#df-0ca6715c-dcc8-403d-982b-c97d0241734f button.colab-df-convert');\n",
              "        buttonEl.style.display =\n",
              "          google.colab.kernel.accessAllowed ? 'block' : 'none';\n",
              "\n",
              "        async function convertToInteractive(key) {\n",
              "          const element = document.querySelector('#df-0ca6715c-dcc8-403d-982b-c97d0241734f');\n",
              "          const dataTable =\n",
              "            await google.colab.kernel.invokeFunction('convertToInteractive',\n",
              "                                                     [key], {});\n",
              "          if (!dataTable) return;\n",
              "\n",
              "          const docLinkHtml = 'Like what you see? Visit the ' +\n",
              "            '<a target=\"_blank\" href=https://colab.research.google.com/notebooks/data_table.ipynb>data table notebook</a>'\n",
              "            + ' to learn more about interactive tables.';\n",
              "          element.innerHTML = '';\n",
              "          dataTable['output_type'] = 'display_data';\n",
              "          await google.colab.output.renderOutput(dataTable, element);\n",
              "          const docLink = document.createElement('div');\n",
              "          docLink.innerHTML = docLinkHtml;\n",
              "          element.appendChild(docLink);\n",
              "        }\n",
              "      </script>\n",
              "    </div>\n",
              "  </div>\n",
              "  "
            ]
          },
          "metadata": {},
          "execution_count": 213
        }
      ]
    },
    {
      "cell_type": "markdown",
      "source": [
        "### Remove ```'-'``` before words"
      ],
      "metadata": {
        "id": "FCv3SAsZoyR7"
      }
    },
    {
      "cell_type": "code",
      "source": [
        "df.eng = df.eng.apply(lambda x: x.lstrip('-'))"
      ],
      "metadata": {
        "id": "SfBuuOY5rt8n"
      },
      "execution_count": 214,
      "outputs": []
    },
    {
      "cell_type": "code",
      "source": [],
      "metadata": {
        "id": "_6GkX55AruCN"
      },
      "execution_count": null,
      "outputs": []
    },
    {
      "cell_type": "markdown",
      "source": [
        "### Final version"
      ],
      "metadata": {
        "id": "y70VFi2TGbQC"
      }
    },
    {
      "cell_type": "code",
      "source": [
        "df.head(4)"
      ],
      "metadata": {
        "colab": {
          "base_uri": "https://localhost:8080/",
          "height": 175
        },
        "id": "8ipa4baXGcpT",
        "outputId": "7d9e49d8-4ae9-4c6b-f390-6dd54e5104fb"
      },
      "execution_count": 215,
      "outputs": [
        {
          "output_type": "execute_result",
          "data": {
            "text/plain": [
              "               eng             vn word_type word_type_vn\n",
              "0  arthropathology  bệnh học khớp         n      danh từ\n",
              "1      arthropathy      bệnh khớp         n      danh từ\n",
              "2      arthrophyma      sưng khớp         n      danh từ\n",
              "3      arthrophyte   dị vật khớp          n      danh từ"
            ],
            "text/html": [
              "\n",
              "  <div id=\"df-eac3f078-2cdf-42a7-9784-fc2f06d01bab\">\n",
              "    <div class=\"colab-df-container\">\n",
              "      <div>\n",
              "<style scoped>\n",
              "    .dataframe tbody tr th:only-of-type {\n",
              "        vertical-align: middle;\n",
              "    }\n",
              "\n",
              "    .dataframe tbody tr th {\n",
              "        vertical-align: top;\n",
              "    }\n",
              "\n",
              "    .dataframe thead th {\n",
              "        text-align: right;\n",
              "    }\n",
              "</style>\n",
              "<table border=\"1\" class=\"dataframe\">\n",
              "  <thead>\n",
              "    <tr style=\"text-align: right;\">\n",
              "      <th></th>\n",
              "      <th>eng</th>\n",
              "      <th>vn</th>\n",
              "      <th>word_type</th>\n",
              "      <th>word_type_vn</th>\n",
              "    </tr>\n",
              "  </thead>\n",
              "  <tbody>\n",
              "    <tr>\n",
              "      <th>0</th>\n",
              "      <td>arthropathology</td>\n",
              "      <td>bệnh học khớp</td>\n",
              "      <td>n</td>\n",
              "      <td>danh từ</td>\n",
              "    </tr>\n",
              "    <tr>\n",
              "      <th>1</th>\n",
              "      <td>arthropathy</td>\n",
              "      <td>bệnh khớp</td>\n",
              "      <td>n</td>\n",
              "      <td>danh từ</td>\n",
              "    </tr>\n",
              "    <tr>\n",
              "      <th>2</th>\n",
              "      <td>arthrophyma</td>\n",
              "      <td>sưng khớp</td>\n",
              "      <td>n</td>\n",
              "      <td>danh từ</td>\n",
              "    </tr>\n",
              "    <tr>\n",
              "      <th>3</th>\n",
              "      <td>arthrophyte</td>\n",
              "      <td>dị vật khớp</td>\n",
              "      <td>n</td>\n",
              "      <td>danh từ</td>\n",
              "    </tr>\n",
              "  </tbody>\n",
              "</table>\n",
              "</div>\n",
              "      <button class=\"colab-df-convert\" onclick=\"convertToInteractive('df-eac3f078-2cdf-42a7-9784-fc2f06d01bab')\"\n",
              "              title=\"Convert this dataframe to an interactive table.\"\n",
              "              style=\"display:none;\">\n",
              "        \n",
              "  <svg xmlns=\"http://www.w3.org/2000/svg\" height=\"24px\"viewBox=\"0 0 24 24\"\n",
              "       width=\"24px\">\n",
              "    <path d=\"M0 0h24v24H0V0z\" fill=\"none\"/>\n",
              "    <path d=\"M18.56 5.44l.94 2.06.94-2.06 2.06-.94-2.06-.94-.94-2.06-.94 2.06-2.06.94zm-11 1L8.5 8.5l.94-2.06 2.06-.94-2.06-.94L8.5 2.5l-.94 2.06-2.06.94zm10 10l.94 2.06.94-2.06 2.06-.94-2.06-.94-.94-2.06-.94 2.06-2.06.94z\"/><path d=\"M17.41 7.96l-1.37-1.37c-.4-.4-.92-.59-1.43-.59-.52 0-1.04.2-1.43.59L10.3 9.45l-7.72 7.72c-.78.78-.78 2.05 0 2.83L4 21.41c.39.39.9.59 1.41.59.51 0 1.02-.2 1.41-.59l7.78-7.78 2.81-2.81c.8-.78.8-2.07 0-2.86zM5.41 20L4 18.59l7.72-7.72 1.47 1.35L5.41 20z\"/>\n",
              "  </svg>\n",
              "      </button>\n",
              "      \n",
              "  <style>\n",
              "    .colab-df-container {\n",
              "      display:flex;\n",
              "      flex-wrap:wrap;\n",
              "      gap: 12px;\n",
              "    }\n",
              "\n",
              "    .colab-df-convert {\n",
              "      background-color: #E8F0FE;\n",
              "      border: none;\n",
              "      border-radius: 50%;\n",
              "      cursor: pointer;\n",
              "      display: none;\n",
              "      fill: #1967D2;\n",
              "      height: 32px;\n",
              "      padding: 0 0 0 0;\n",
              "      width: 32px;\n",
              "    }\n",
              "\n",
              "    .colab-df-convert:hover {\n",
              "      background-color: #E2EBFA;\n",
              "      box-shadow: 0px 1px 2px rgba(60, 64, 67, 0.3), 0px 1px 3px 1px rgba(60, 64, 67, 0.15);\n",
              "      fill: #174EA6;\n",
              "    }\n",
              "\n",
              "    [theme=dark] .colab-df-convert {\n",
              "      background-color: #3B4455;\n",
              "      fill: #D2E3FC;\n",
              "    }\n",
              "\n",
              "    [theme=dark] .colab-df-convert:hover {\n",
              "      background-color: #434B5C;\n",
              "      box-shadow: 0px 1px 3px 1px rgba(0, 0, 0, 0.15);\n",
              "      filter: drop-shadow(0px 1px 2px rgba(0, 0, 0, 0.3));\n",
              "      fill: #FFFFFF;\n",
              "    }\n",
              "  </style>\n",
              "\n",
              "      <script>\n",
              "        const buttonEl =\n",
              "          document.querySelector('#df-eac3f078-2cdf-42a7-9784-fc2f06d01bab button.colab-df-convert');\n",
              "        buttonEl.style.display =\n",
              "          google.colab.kernel.accessAllowed ? 'block' : 'none';\n",
              "\n",
              "        async function convertToInteractive(key) {\n",
              "          const element = document.querySelector('#df-eac3f078-2cdf-42a7-9784-fc2f06d01bab');\n",
              "          const dataTable =\n",
              "            await google.colab.kernel.invokeFunction('convertToInteractive',\n",
              "                                                     [key], {});\n",
              "          if (!dataTable) return;\n",
              "\n",
              "          const docLinkHtml = 'Like what you see? Visit the ' +\n",
              "            '<a target=\"_blank\" href=https://colab.research.google.com/notebooks/data_table.ipynb>data table notebook</a>'\n",
              "            + ' to learn more about interactive tables.';\n",
              "          element.innerHTML = '';\n",
              "          dataTable['output_type'] = 'display_data';\n",
              "          await google.colab.output.renderOutput(dataTable, element);\n",
              "          const docLink = document.createElement('div');\n",
              "          docLink.innerHTML = docLinkHtml;\n",
              "          element.appendChild(docLink);\n",
              "        }\n",
              "      </script>\n",
              "    </div>\n",
              "  </div>\n",
              "  "
            ]
          },
          "metadata": {},
          "execution_count": 215
        }
      ]
    },
    {
      "cell_type": "code",
      "source": [
        "df.isna().any()"
      ],
      "metadata": {
        "colab": {
          "base_uri": "https://localhost:8080/"
        },
        "id": "4Z2MA6YIGdyD",
        "outputId": "fc10c5b3-7c01-4fa0-c9ea-115c035c7f06"
      },
      "execution_count": 216,
      "outputs": [
        {
          "output_type": "execute_result",
          "data": {
            "text/plain": [
              "eng             False\n",
              "vn              False\n",
              "word_type        True\n",
              "word_type_vn    False\n",
              "dtype: bool"
            ]
          },
          "metadata": {},
          "execution_count": 216
        }
      ]
    },
    {
      "cell_type": "code",
      "source": [
        "na_word_type = df.loc[df.word_type.isna(), :].copy()\n",
        "df = df.loc[~df.word_type.isna(), :].copy()"
      ],
      "metadata": {
        "id": "BcsP2jT2DpFb"
      },
      "execution_count": 227,
      "outputs": []
    },
    {
      "cell_type": "code",
      "source": [
        "df.shape"
      ],
      "metadata": {
        "colab": {
          "base_uri": "https://localhost:8080/"
        },
        "id": "ng3l9bnipaG2",
        "outputId": "2d87547e-e777-4ede-ad91-0e185c9f872d"
      },
      "execution_count": 228,
      "outputs": [
        {
          "output_type": "execute_result",
          "data": {
            "text/plain": [
              "(39841, 4)"
            ]
          },
          "metadata": {},
          "execution_count": 228
        }
      ]
    },
    {
      "cell_type": "code",
      "source": [
        "# RUN ONCE\n",
        "\n",
        "df.to_csv('/content/drive/MyDrive/Fall 2022 - Assignment/Software Construction/Project/full_data/final_df.csv')\n",
        "na_word_type.to_csv('/content/drive/MyDrive/Fall 2022 - Assignment/Software Construction/Project/full_data/na_word_type.csv')"
      ],
      "metadata": {
        "id": "DhZBRSbrHnKQ"
      },
      "execution_count": 229,
      "outputs": []
    },
    {
      "cell_type": "code",
      "source": [
        "df"
      ],
      "metadata": {
        "id": "DPsyY8BWHrhK",
        "colab": {
          "base_uri": "https://localhost:8080/",
          "height": 423
        },
        "outputId": "e1411ba2-d736-41ec-d9ae-bd4dd4507154"
      },
      "execution_count": 230,
      "outputs": [
        {
          "output_type": "execute_result",
          "data": {
            "text/plain": [
              "                   eng                                       vn word_type  \\\n",
              "0      arthropathology                            bệnh học khớp         n   \n",
              "1          arthropathy                                bệnh khớp         n   \n",
              "2          arthrophyma                                sưng khớp         n   \n",
              "3          arthrophyte                             dị vật khớp          n   \n",
              "4            arthropod  chân khớp (động vật), tiết chi động vật         n   \n",
              "...                ...                                      ...       ...   \n",
              "40714       amyotrophy                              teo cơ (ch)         n   \n",
              "40715      anachoretic                     dồn tới một nơi (sự)         a   \n",
              "40716          anagogy                       giải thích thần bí         n   \n",
              "40717     stenocephaly                                 đầu hẹp          n   \n",
              "40718          stromal                chất đệm, chất nền,mô đỡ          a   \n",
              "\n",
              "      word_type_vn  \n",
              "0          danh từ  \n",
              "1          danh từ  \n",
              "2          danh từ  \n",
              "3          danh từ  \n",
              "4          danh từ  \n",
              "...            ...  \n",
              "40714      danh từ  \n",
              "40715      tính từ  \n",
              "40716      danh từ  \n",
              "40717      danh từ  \n",
              "40718      tính từ  \n",
              "\n",
              "[39841 rows x 4 columns]"
            ],
            "text/html": [
              "\n",
              "  <div id=\"df-10c59420-d64b-4248-93c6-153029122b79\">\n",
              "    <div class=\"colab-df-container\">\n",
              "      <div>\n",
              "<style scoped>\n",
              "    .dataframe tbody tr th:only-of-type {\n",
              "        vertical-align: middle;\n",
              "    }\n",
              "\n",
              "    .dataframe tbody tr th {\n",
              "        vertical-align: top;\n",
              "    }\n",
              "\n",
              "    .dataframe thead th {\n",
              "        text-align: right;\n",
              "    }\n",
              "</style>\n",
              "<table border=\"1\" class=\"dataframe\">\n",
              "  <thead>\n",
              "    <tr style=\"text-align: right;\">\n",
              "      <th></th>\n",
              "      <th>eng</th>\n",
              "      <th>vn</th>\n",
              "      <th>word_type</th>\n",
              "      <th>word_type_vn</th>\n",
              "    </tr>\n",
              "  </thead>\n",
              "  <tbody>\n",
              "    <tr>\n",
              "      <th>0</th>\n",
              "      <td>arthropathology</td>\n",
              "      <td>bệnh học khớp</td>\n",
              "      <td>n</td>\n",
              "      <td>danh từ</td>\n",
              "    </tr>\n",
              "    <tr>\n",
              "      <th>1</th>\n",
              "      <td>arthropathy</td>\n",
              "      <td>bệnh khớp</td>\n",
              "      <td>n</td>\n",
              "      <td>danh từ</td>\n",
              "    </tr>\n",
              "    <tr>\n",
              "      <th>2</th>\n",
              "      <td>arthrophyma</td>\n",
              "      <td>sưng khớp</td>\n",
              "      <td>n</td>\n",
              "      <td>danh từ</td>\n",
              "    </tr>\n",
              "    <tr>\n",
              "      <th>3</th>\n",
              "      <td>arthrophyte</td>\n",
              "      <td>dị vật khớp</td>\n",
              "      <td>n</td>\n",
              "      <td>danh từ</td>\n",
              "    </tr>\n",
              "    <tr>\n",
              "      <th>4</th>\n",
              "      <td>arthropod</td>\n",
              "      <td>chân khớp (động vật), tiết chi động vật</td>\n",
              "      <td>n</td>\n",
              "      <td>danh từ</td>\n",
              "    </tr>\n",
              "    <tr>\n",
              "      <th>...</th>\n",
              "      <td>...</td>\n",
              "      <td>...</td>\n",
              "      <td>...</td>\n",
              "      <td>...</td>\n",
              "    </tr>\n",
              "    <tr>\n",
              "      <th>40714</th>\n",
              "      <td>amyotrophy</td>\n",
              "      <td>teo cơ (ch)</td>\n",
              "      <td>n</td>\n",
              "      <td>danh từ</td>\n",
              "    </tr>\n",
              "    <tr>\n",
              "      <th>40715</th>\n",
              "      <td>anachoretic</td>\n",
              "      <td>dồn tới một nơi (sự)</td>\n",
              "      <td>a</td>\n",
              "      <td>tính từ</td>\n",
              "    </tr>\n",
              "    <tr>\n",
              "      <th>40716</th>\n",
              "      <td>anagogy</td>\n",
              "      <td>giải thích thần bí</td>\n",
              "      <td>n</td>\n",
              "      <td>danh từ</td>\n",
              "    </tr>\n",
              "    <tr>\n",
              "      <th>40717</th>\n",
              "      <td>stenocephaly</td>\n",
              "      <td>đầu hẹp</td>\n",
              "      <td>n</td>\n",
              "      <td>danh từ</td>\n",
              "    </tr>\n",
              "    <tr>\n",
              "      <th>40718</th>\n",
              "      <td>stromal</td>\n",
              "      <td>chất đệm, chất nền,mô đỡ</td>\n",
              "      <td>a</td>\n",
              "      <td>tính từ</td>\n",
              "    </tr>\n",
              "  </tbody>\n",
              "</table>\n",
              "<p>39841 rows × 4 columns</p>\n",
              "</div>\n",
              "      <button class=\"colab-df-convert\" onclick=\"convertToInteractive('df-10c59420-d64b-4248-93c6-153029122b79')\"\n",
              "              title=\"Convert this dataframe to an interactive table.\"\n",
              "              style=\"display:none;\">\n",
              "        \n",
              "  <svg xmlns=\"http://www.w3.org/2000/svg\" height=\"24px\"viewBox=\"0 0 24 24\"\n",
              "       width=\"24px\">\n",
              "    <path d=\"M0 0h24v24H0V0z\" fill=\"none\"/>\n",
              "    <path d=\"M18.56 5.44l.94 2.06.94-2.06 2.06-.94-2.06-.94-.94-2.06-.94 2.06-2.06.94zm-11 1L8.5 8.5l.94-2.06 2.06-.94-2.06-.94L8.5 2.5l-.94 2.06-2.06.94zm10 10l.94 2.06.94-2.06 2.06-.94-2.06-.94-.94-2.06-.94 2.06-2.06.94z\"/><path d=\"M17.41 7.96l-1.37-1.37c-.4-.4-.92-.59-1.43-.59-.52 0-1.04.2-1.43.59L10.3 9.45l-7.72 7.72c-.78.78-.78 2.05 0 2.83L4 21.41c.39.39.9.59 1.41.59.51 0 1.02-.2 1.41-.59l7.78-7.78 2.81-2.81c.8-.78.8-2.07 0-2.86zM5.41 20L4 18.59l7.72-7.72 1.47 1.35L5.41 20z\"/>\n",
              "  </svg>\n",
              "      </button>\n",
              "      \n",
              "  <style>\n",
              "    .colab-df-container {\n",
              "      display:flex;\n",
              "      flex-wrap:wrap;\n",
              "      gap: 12px;\n",
              "    }\n",
              "\n",
              "    .colab-df-convert {\n",
              "      background-color: #E8F0FE;\n",
              "      border: none;\n",
              "      border-radius: 50%;\n",
              "      cursor: pointer;\n",
              "      display: none;\n",
              "      fill: #1967D2;\n",
              "      height: 32px;\n",
              "      padding: 0 0 0 0;\n",
              "      width: 32px;\n",
              "    }\n",
              "\n",
              "    .colab-df-convert:hover {\n",
              "      background-color: #E2EBFA;\n",
              "      box-shadow: 0px 1px 2px rgba(60, 64, 67, 0.3), 0px 1px 3px 1px rgba(60, 64, 67, 0.15);\n",
              "      fill: #174EA6;\n",
              "    }\n",
              "\n",
              "    [theme=dark] .colab-df-convert {\n",
              "      background-color: #3B4455;\n",
              "      fill: #D2E3FC;\n",
              "    }\n",
              "\n",
              "    [theme=dark] .colab-df-convert:hover {\n",
              "      background-color: #434B5C;\n",
              "      box-shadow: 0px 1px 3px 1px rgba(0, 0, 0, 0.15);\n",
              "      filter: drop-shadow(0px 1px 2px rgba(0, 0, 0, 0.3));\n",
              "      fill: #FFFFFF;\n",
              "    }\n",
              "  </style>\n",
              "\n",
              "      <script>\n",
              "        const buttonEl =\n",
              "          document.querySelector('#df-10c59420-d64b-4248-93c6-153029122b79 button.colab-df-convert');\n",
              "        buttonEl.style.display =\n",
              "          google.colab.kernel.accessAllowed ? 'block' : 'none';\n",
              "\n",
              "        async function convertToInteractive(key) {\n",
              "          const element = document.querySelector('#df-10c59420-d64b-4248-93c6-153029122b79');\n",
              "          const dataTable =\n",
              "            await google.colab.kernel.invokeFunction('convertToInteractive',\n",
              "                                                     [key], {});\n",
              "          if (!dataTable) return;\n",
              "\n",
              "          const docLinkHtml = 'Like what you see? Visit the ' +\n",
              "            '<a target=\"_blank\" href=https://colab.research.google.com/notebooks/data_table.ipynb>data table notebook</a>'\n",
              "            + ' to learn more about interactive tables.';\n",
              "          element.innerHTML = '';\n",
              "          dataTable['output_type'] = 'display_data';\n",
              "          await google.colab.output.renderOutput(dataTable, element);\n",
              "          const docLink = document.createElement('div');\n",
              "          docLink.innerHTML = docLinkHtml;\n",
              "          element.appendChild(docLink);\n",
              "        }\n",
              "      </script>\n",
              "    </div>\n",
              "  </div>\n",
              "  "
            ]
          },
          "metadata": {},
          "execution_count": 230
        }
      ]
    },
    {
      "cell_type": "code",
      "source": [],
      "metadata": {
        "id": "5jTUc_s4qLnm"
      },
      "execution_count": null,
      "outputs": []
    },
    {
      "cell_type": "code",
      "source": [],
      "metadata": {
        "id": "pCbTNgGWqLpz"
      },
      "execution_count": null,
      "outputs": []
    }
  ]
}